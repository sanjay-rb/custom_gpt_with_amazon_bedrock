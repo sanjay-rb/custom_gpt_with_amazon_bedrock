{
 "cells": [
  {
   "cell_type": "markdown",
   "metadata": {},
   "source": [
    "# Installing required modules"
   ]
  },
  {
   "cell_type": "markdown",
   "metadata": {
    "tags": []
   },
   "source": [
    "%pip install --quiet --no-build-isolation --force-reinstall \\\n",
    "    \"boto3\" \\\n",
    "    \"awscli\" \\\n",
    "    \"botocore\" \\\n",
    "    \"faiss-cpu\" \\\n",
    "    \"langchain\" \\\n",
    "    \"pypdf\" \\\n",
    "    \"unstructured[pdf]\" \\\n",
    "    \"sqlalchemy\" \\\n",
    "    \"pickle5\" \\\n",
    "    \"transformers\""
   ]
  },
  {
   "cell_type": "markdown",
   "metadata": {},
   "source": [
    "# Connecting to aws bedrock service & get a client"
   ]
  },
  {
   "cell_type": "code",
   "execution_count": 2,
   "metadata": {
    "tags": []
   },
   "outputs": [
    {
     "name": "stdout",
     "output_type": "stream",
     "text": [
      "Create new client\n",
      "  Using region: us-west-2\n",
      "  Using role: arn:aws:iam::195364414018:role/Crossaccountbedrock ... successful!\n",
      "boto3 Bedrock client successfully created!\n",
      "bedrock-runtime(https://bedrock-runtime.us-west-2.amazonaws.com)\n"
     ]
    }
   ],
   "source": [
    "import json\n",
    "import os\n",
    "import sys\n",
    "\n",
    "import boto3\n",
    "\n",
    "module_path = \"..\"\n",
    "sys.path.append(os.path.abspath(module_path))\n",
    "from utils import bedrock, print_ww\n",
    "\n",
    "\n",
    "# ---- ⚠️ Un-comment and edit the below lines as needed for your AWS setup ⚠️ ----\n",
    "\n",
    "os.environ[\"AWS_DEFAULT_REGION\"] = \"us-west-2\"  # E.g. \"us-east-1\"\n",
    "# os.environ[\"AWS_PROFILE\"] = \"<YOUR_PROFILE>\"\n",
    "os.environ[\"BEDROCK_ASSUME_ROLE\"] = \"arn:aws:iam::195364414018:role/Crossaccountbedrock\"  # E.g. \"arn:aws:...\"\n",
    "\n",
    "boto3_bedrock = bedrock.get_bedrock_client(\n",
    "    assumed_role=os.environ.get(\"BEDROCK_ASSUME_ROLE\", None),\n",
    "    region=os.environ.get(\"AWS_DEFAULT_REGION\", None)\n",
    ")"
   ]
  },
  {
   "cell_type": "markdown",
   "metadata": {},
   "source": [
    "# Creating object of embedding and llm"
   ]
  },
  {
   "cell_type": "code",
   "execution_count": 3,
   "metadata": {
    "collapsed": false,
    "jupyter": {
     "outputs_hidden": false
    },
    "tags": []
   },
   "outputs": [],
   "source": [
    "from langchain.embeddings import BedrockEmbeddings\n",
    "from langchain.llms.bedrock import Bedrock\n",
    "\n",
    "br_embeddings = BedrockEmbeddings(\n",
    "    model_id=\"amazon.titan-embed-text-v1\", \n",
    "    client=boto3_bedrock\n",
    ")\n",
    "\n",
    "br_llm = Bedrock(\n",
    "    model_id=\"anthropic.claude-v2\",\n",
    "    client=boto3_bedrock,\n",
    "    model_kwargs={\"temperature\":0.7}\n",
    ")\n",
    "\n",
    "is_login=True\n",
    "user=\"MV123456789\""
   ]
  },
  {
   "cell_type": "markdown",
   "metadata": {},
   "source": [
    "# Load PDF files from dir and store in vectorstore"
   ]
  },
  {
   "cell_type": "code",
   "execution_count": 4,
   "metadata": {
    "tags": []
   },
   "outputs": [],
   "source": [
    "from langchain.document_loaders import PyPDFDirectoryLoader, PyPDFLoader, UnstructuredFileLoader\n",
    "from langchain.text_splitter import RecursiveCharacterTextSplitter, CharacterTextSplitter\n",
    "from langchain.vectorstores import FAISS\n",
    "import os\n",
    "\n",
    "chunk_size = 2000\n",
    "chunk_overlap = 500\n",
    "text_splitter = RecursiveCharacterTextSplitter(\n",
    "    chunk_size=chunk_size, \n",
    "    chunk_overlap=chunk_overlap,\n",
    "    length_function = len,\n",
    ")\n"
   ]
  },
  {
   "cell_type": "markdown",
   "metadata": {},
   "source": [
    "# Getting element by element text from PDF to get doc name & element page no."
   ]
  },
  {
   "cell_type": "code",
   "execution_count": 5,
   "metadata": {
    "tags": []
   },
   "outputs": [
    {
     "name": "stderr",
     "output_type": "stream",
     "text": [
      "The PDF <_io.BufferedReader name='public/nmdmg14060.pdf'> contains a metadata field indicating that it should not allow text extraction. Ignoring this field and proceeding. Use the check_extractable if you want to raise an error in this case\n",
      "The PDF <_io.BufferedReader name='public/avivaplus-breakdown-cover-policy-wording.pdf'> contains a metadata field indicating that it should not allow text extraction. Ignoring this field and proceeding. Use the check_extractable if you want to raise an error in this case\n",
      "The PDF <_io.BufferedReader name='public/insurance_motor_car_motor_policy_booklet_241017_NMDMG10249_v3.pdf'> contains a metadata field indicating that it should not allow text extraction. Ignoring this field and proceeding. Use the check_extractable if you want to raise an error in this case\n"
     ]
    },
    {
     "name": "stdout",
     "output_type": "stream",
     "text": [
      "All the elements from PDF is loaded\n"
     ]
    }
   ],
   "source": [
    "elements = []\n",
    "files = os.listdir(\"public/\")\n",
    "for file_name in files:\n",
    "    if file_name.endswith(\".pdf\"):\n",
    "        loader = UnstructuredFileLoader(\"public/\" + file_name, mode=\"elements\", strategy=\"fast\")\n",
    "        elements.extend(loader.load())\n",
    "print(\"All the elements from PDF is loaded\")"
   ]
  },
  {
   "cell_type": "markdown",
   "metadata": {},
   "source": [
    "# With source and page number as unique key, joining all document text and creating pages"
   ]
  },
  {
   "cell_type": "code",
   "execution_count": 6,
   "metadata": {
    "tags": []
   },
   "outputs": [
    {
     "name": "stdout",
     "output_type": "stream",
     "text": [
      "All the pages are splitted\n"
     ]
    }
   ],
   "source": [
    "pages = [elements[0]]\n",
    "for element in elements[1:]:\n",
    "    if pages[-1].metadata['source'] == element.metadata['source'] and pages[-1].metadata['page_number'] == element.metadata['page_number']:\n",
    "        pages[-1].page_content += \" \"+element.page_content\n",
    "    else:\n",
    "        pages.append(element)\n",
    "print(\"All the pages are splitted\")"
   ]
  },
  {
   "cell_type": "markdown",
   "metadata": {},
   "source": [
    "# spliting pages with our custome splitter & generating vector store"
   ]
  },
  {
   "cell_type": "code",
   "execution_count": 7,
   "metadata": {
    "tags": []
   },
   "outputs": [
    {
     "name": "stdout",
     "output_type": "stream",
     "text": [
      "Spliting public/nmdmg14060.pdf page number : 1\n",
      "Spliting public/nmdmg14060.pdf page number : 2\n",
      "Spliting public/insurance-motor-car-motoring-in-europe-241017-NMDMG2918.pdf page number : 1\n",
      "Spliting public/insurance-motor-car-motoring-in-europe-241017-NMDMG2918.pdf page number : 2\n",
      "Spliting public/insurance-motor-car-motoring-in-europe-241017-NMDMG2918.pdf page number : 3\n",
      "Spliting public/insurance-motor-car-motoring-in-europe-241017-NMDMG2918.pdf page number : 4\n",
      "Spliting public/insurance-motor-car-motoring-in-europe-241017-NMDMG2918.pdf page number : 5\n",
      "Spliting public/insurance-motor-car-motoring-in-europe-241017-NMDMG2918.pdf page number : 6\n",
      "Spliting public/insurance-motor-car-motoring-in-europe-241017-NMDMG2918.pdf page number : 7\n",
      "Spliting public/insurance-motor-car-motoring-in-europe-241017-NMDMG2918.pdf page number : 8\n",
      "Spliting public/insurance-motor-car-motoring-in-europe-241017-NMDMG2918.pdf page number : 9\n",
      "Spliting public/insurance-motor-car-motoring-in-europe-241017-NMDMG2918.pdf page number : 10\n",
      "Spliting public/insurance-motor-car-motoring-in-europe-241017-NMDMG2918.pdf page number : 11\n",
      "Spliting public/insurance-motor-car-motoring-in-europe-241017-NMDMG2918.pdf page number : 12\n",
      "Spliting public/insurance-motor-car-motoring-in-europe-241017-NMDMG2918.pdf page number : 13\n",
      "Spliting public/insurance-motor-car-motoring-in-europe-241017-NMDMG2918.pdf page number : 14\n",
      "Spliting public/insurance-motor-car-motoring-in-europe-241017-NMDMG2918.pdf page number : 15\n",
      "Spliting public/insurance-motor-car-motoring-in-europe-241017-NMDMG2918.pdf page number : 16\n",
      "Spliting public/avivaplus-breakdown-cover-policy-wording.pdf page number : 1\n",
      "Spliting public/avivaplus-breakdown-cover-policy-wording.pdf page number : 2\n",
      "Spliting public/avivaplus-breakdown-cover-policy-wording.pdf page number : 3\n",
      "Spliting public/avivaplus-breakdown-cover-policy-wording.pdf page number : 4\n",
      "Spliting public/avivaplus-breakdown-cover-policy-wording.pdf page number : 5\n",
      "Spliting public/avivaplus-breakdown-cover-policy-wording.pdf page number : 6\n",
      "Spliting public/avivaplus-breakdown-cover-policy-wording.pdf page number : 7\n",
      "Spliting public/avivaplus-breakdown-cover-policy-wording.pdf page number : 8\n",
      "Spliting public/avivaplus-breakdown-cover-policy-wording.pdf page number : 9\n",
      "Spliting public/avivaplus-breakdown-cover-policy-wording.pdf page number : 10\n",
      "Spliting public/avivaplus-breakdown-cover-policy-wording.pdf page number : 11\n",
      "Spliting public/avivaplus-breakdown-cover-policy-wording.pdf page number : 12\n",
      "Spliting public/avivaplus-breakdown-cover-policy-wording.pdf page number : 13\n",
      "Spliting public/avivaplus-breakdown-cover-policy-wording.pdf page number : 14\n",
      "Spliting public/avivaplus-breakdown-cover-policy-wording.pdf page number : 15\n",
      "Spliting public/avivaplus-breakdown-cover-policy-wording.pdf page number : 16\n",
      "Spliting public/avivaplus-breakdown-cover-policy-wording.pdf page number : 17\n",
      "Spliting public/avivaplus-breakdown-cover-policy-wording.pdf page number : 18\n",
      "Spliting public/avivaplus-breakdown-cover-policy-wording.pdf page number : 19\n",
      "Spliting public/avivaplus-breakdown-cover-policy-wording.pdf page number : 20\n",
      "Spliting public/ngnag13363.pdf page number : 1\n",
      "Spliting public/insurance_motor_car_motor_policy_booklet_241017_NMDMG10249_v3.pdf page number : 1\n",
      "Spliting public/insurance_motor_car_motor_policy_booklet_241017_NMDMG10249_v3.pdf page number : 2\n",
      "Spliting public/insurance_motor_car_motor_policy_booklet_241017_NMDMG10249_v3.pdf page number : 3\n",
      "Spliting public/insurance_motor_car_motor_policy_booklet_241017_NMDMG10249_v3.pdf page number : 4\n",
      "Spliting public/insurance_motor_car_motor_policy_booklet_241017_NMDMG10249_v3.pdf page number : 5\n",
      "Spliting public/insurance_motor_car_motor_policy_booklet_241017_NMDMG10249_v3.pdf page number : 6\n",
      "Spliting public/insurance_motor_car_motor_policy_booklet_241017_NMDMG10249_v3.pdf page number : 7\n",
      "Spliting public/insurance_motor_car_motor_policy_booklet_241017_NMDMG10249_v3.pdf page number : 8\n",
      "Spliting public/insurance_motor_car_motor_policy_booklet_241017_NMDMG10249_v3.pdf page number : 9\n",
      "Spliting public/insurance_motor_car_motor_policy_booklet_241017_NMDMG10249_v3.pdf page number : 10\n",
      "Spliting public/insurance_motor_car_motor_policy_booklet_241017_NMDMG10249_v3.pdf page number : 11\n",
      "Spliting public/insurance_motor_car_motor_policy_booklet_241017_NMDMG10249_v3.pdf page number : 12\n",
      "Spliting public/insurance_motor_car_motor_policy_booklet_241017_NMDMG10249_v3.pdf page number : 13\n",
      "Spliting public/insurance_motor_car_motor_policy_booklet_241017_NMDMG10249_v3.pdf page number : 14\n",
      "Spliting public/insurance_motor_car_motor_policy_booklet_241017_NMDMG10249_v3.pdf page number : 15\n",
      "Spliting public/insurance_motor_car_motor_policy_booklet_241017_NMDMG10249_v3.pdf page number : 16\n",
      "Spliting public/insurance_motor_car_motor_policy_booklet_241017_NMDMG10249_v3.pdf page number : 17\n",
      "Spliting public/insurance_motor_car_motor_policy_booklet_241017_NMDMG10249_v3.pdf page number : 18\n",
      "Spliting public/insurance_motor_car_motor_policy_booklet_241017_NMDMG10249_v3.pdf page number : 19\n",
      "Spliting public/insurance_motor_car_motor_policy_booklet_241017_NMDMG10249_v3.pdf page number : 20\n",
      "Spliting public/insurance_motor_car_motor_policy_booklet_241017_NMDMG10249_v3.pdf page number : 21\n",
      "Spliting public/insurance_motor_car_motor_policy_booklet_241017_NMDMG10249_v3.pdf page number : 22\n",
      "Spliting public/insurance_motor_car_motor_policy_booklet_241017_NMDMG10249_v3.pdf page number : 23\n",
      "Spliting public/insurance_motor_car_motor_policy_booklet_241017_NMDMG10249_v3.pdf page number : 24\n",
      "Spliting public/insurance_motor_car_motor_policy_booklet_241017_NMDMG10249_v3.pdf page number : 25\n",
      "Spliting public/insurance_motor_car_motor_policy_booklet_241017_NMDMG10249_v3.pdf page number : 26\n",
      "Spliting public/insurance_motor_car_motor_policy_booklet_241017_NMDMG10249_v3.pdf page number : 27\n",
      "Spliting public/insurance_motor_car_motor_policy_booklet_241017_NMDMG10249_v3.pdf page number : 28\n",
      "Spliting public/insurance_motor_car_motor_policy_booklet_241017_NMDMG10249_v3.pdf page number : 29\n",
      "Spliting public/insurance_motor_car_motor_policy_booklet_241017_NMDMG10249_v3.pdf page number : 30\n",
      "Spliting public/insurance_motor_car_motor_policy_booklet_241017_NMDMG10249_v3.pdf page number : 31\n",
      "Spliting public/insurance_motor_car_motor_policy_booklet_241017_NMDMG10249_v3.pdf page number : 32\n",
      "Spliting public/insurance_motor_car_motor_policy_booklet_241017_NMDMG10249_v3.pdf page number : 33\n",
      "Spliting public/insurance_motor_car_motor_policy_booklet_241017_NMDMG10249_v3.pdf page number : 34\n",
      "Spliting public/insurance_motor_car_motor_policy_booklet_241017_NMDMG10249_v3.pdf page number : 35\n",
      "Spliting public/insurance_motor_car_motor_policy_booklet_241017_NMDMG10249_v3.pdf page number : 36\n",
      "Spliting public/insurance-motor-important-information-document-NMDMG10248.pdf page number : 1\n",
      "Spliting public/insurance-motor-important-information-document-NMDMG10248.pdf page number : 2\n",
      "Spliting public/insurance-motor-important-information-document-NMDMG10248.pdf page number : 3\n",
      "Spliting public/insurance-motor-important-information-document-NMDMG10248.pdf page number : 4\n",
      "pub_vs: number of elements in the index=212\n"
     ]
    }
   ],
   "source": [
    "docs, metadata = [], []\n",
    "\n",
    "for i in range(len(pages)):\n",
    "    print(f'Spliting {pages[i].metadata[\"source\"]} page number : {pages[i].metadata[\"page_number\"]}')\n",
    "    splits =  text_splitter.split_text(pages[i].page_content)\n",
    "    docs.extend(splits)\n",
    "    metadata.extend([{\"source\": pages[i].metadata[\"source\"], \"page_number\": pages[i].metadata[\"page_number\"]}] * len(splits))\n",
    "\n",
    "pub_vs = FAISS.from_texts(\n",
    "    docs,\n",
    "    br_embeddings,\n",
    "    metadatas=metadata,\n",
    ")\n",
    "\n",
    "print(f\"pub_vs: number of elements in the index={pub_vs.index.ntotal}\")"
   ]
  },
  {
   "cell_type": "markdown",
   "metadata": {},
   "source": [
    "# Createing vector store for private document "
   ]
  },
  {
   "cell_type": "code",
   "execution_count": 8,
   "metadata": {
    "tags": []
   },
   "outputs": [
    {
     "name": "stdout",
     "output_type": "stream",
     "text": [
      "All the elements from PDF is loaded\n",
      "All the pages are splitted\n",
      "Spliting private/policy_certifcate_multiple_vehicle_edited.pdf page number : 1\n",
      "Spliting private/policy_certifcate_multiple_vehicle_edited.pdf page number : 2\n",
      "Spliting private/policy_certifcate_multiple_vehicle_edited.pdf page number : 3\n",
      "Spliting private/policy_certifcate_multiple_vehicle_edited.pdf page number : 4\n",
      "Spliting private/policy_certifcate_multiple_vehicle_edited.pdf page number : 5\n",
      "Spliting private/policy_certifcate_multiple_vehicle_edited.pdf page number : 6\n",
      "Spliting private/policy_certifcate_multiple_vehicle_edited.pdf page number : 7\n",
      "Spliting private/policy_certifcate_multiple_vehicle_edited.pdf page number : 8\n",
      "Spliting private/policy_certifcate_multiple_vehicle_edited.pdf page number : 9\n",
      "Spliting private/policy_certifcate_multiple_vehicle_edited.pdf page number : 10\n",
      "Spliting private/policy_certifcate_multiple_vehicle_edited.pdf page number : 11\n",
      "Spliting private/policy_certifcate_multiple_vehicle_edited.pdf page number : 12\n",
      "Spliting private/policy_certifcate_multiple_vehicle_edited.pdf page number : 13\n",
      "Spliting private/policy_certifcate_multiple_vehicle_edited.pdf page number : 14\n",
      "Spliting private/policy_certifcate_multiple_vehicle_edited.pdf page number : 15\n",
      "Spliting private/policy_certifcate_multiple_vehicle_edited.pdf page number : 16\n",
      "Spliting private/policy_certifcate_multiple_vehicle_edited.pdf page number : 17\n",
      "pvt_vs: number of elements in the index=28\n"
     ]
    }
   ],
   "source": [
    "loader = UnstructuredFileLoader(\"private/policy_certifcate_multiple_vehicle_edited.pdf\", mode=\"elements\", strategy=\"fast\")\n",
    "elements = loader.load()\n",
    "print(\"All the elements from PDF is loaded\")\n",
    "\n",
    "pages = [elements[0]]\n",
    "for element in elements[1:]:\n",
    "    if pages[-1].metadata['source'] == element.metadata['source'] and pages[-1].metadata['page_number'] == element.metadata['page_number']:\n",
    "        pages[-1].page_content += \" \"+element.page_content\n",
    "    else:\n",
    "        pages.append(element)\n",
    "print(\"All the pages are splitted\")\n",
    "\n",
    "        \n",
    "docs, metadata = [], []\n",
    "\n",
    "for i in range(len(pages)):\n",
    "    print(f'Spliting {pages[i].metadata[\"source\"]} page number : {pages[i].metadata[\"page_number\"]}')\n",
    "    splits =  text_splitter.split_text(pages[i].page_content)\n",
    "    docs.extend(splits)\n",
    "    metadata.extend([{\"source\": pages[i].metadata[\"source\"], \"page_number\": pages[i].metadata[\"page_number\"]}] * len(splits))\n",
    "\n",
    "pvt_vs = FAISS.from_texts(\n",
    "    docs,\n",
    "    br_embeddings,\n",
    "    metadatas=metadata,\n",
    ")\n",
    "\n",
    "print(f\"pvt_vs: number of elements in the index={pvt_vs.index.ntotal}\")"
   ]
  },
  {
   "cell_type": "markdown",
   "metadata": {},
   "source": [
    "# Save vector store for later use "
   ]
  },
  {
   "cell_type": "code",
   "execution_count": 9,
   "metadata": {
    "tags": []
   },
   "outputs": [],
   "source": [
    "# import pickle\n",
    "# print(type(pub_vs))\n",
    "# with open(\"pub_vs.pkl\", \"wb\") as f:\n",
    "#     pickle.dump(pub_vs, f)"
   ]
  },
  {
   "cell_type": "markdown",
   "metadata": {},
   "source": [
    "# Adding index wapper to vector store for faster querying"
   ]
  },
  {
   "cell_type": "code",
   "execution_count": 10,
   "metadata": {
    "tags": []
   },
   "outputs": [],
   "source": [
    "from langchain.indexes.vectorstore import VectorStoreIndexWrapper\n",
    "pub_vs_index = VectorStoreIndexWrapper(vectorstore=pub_vs)\n",
    "# print(\"Test run query in pub_vs_index:\")\n",
    "# query = \"What are the vehicles covered in the policy?\"\n",
    "# print_ww(pub_vs_index.query(f\"'{query}' is this question answerable ? please return only 'TRUE' keyword if it is answerable else 'FALSE' keyword\", llm=br_llm))\n",
    "\n",
    "pvt_vs_index = VectorStoreIndexWrapper(vectorstore=pvt_vs)\n",
    "# print(\"Test run query in pvt_vs_index:\")\n",
    "# print_ww(pvt_vs_index.query(f\"'{query}' is this question answerable ? please return only 'TRUE' keywrod if it is answerable else 'FALSE' keyword\", llm=br_llm))"
   ]
  },
  {
   "cell_type": "markdown",
   "metadata": {},
   "source": [
    "# Creating Chat History Memory"
   ]
  },
  {
   "cell_type": "code",
   "execution_count": 11,
   "metadata": {
    "tags": []
   },
   "outputs": [],
   "source": [
    "from langchain.memory import ConversationBufferWindowMemory, ConversationSummaryMemory # llm \n",
    "\n",
    "# store previous interactions using ConversationalBufferMemory and add custom prompts to the chat.\n",
    "memory = ConversationBufferWindowMemory(\n",
    "    # llm=br_llm,\n",
    "    input_key=\"customer_query\",\n",
    "    memory_key=\"history\", \n",
    "    return_messages=True, \n",
    "    k=3,\n",
    "    ai_prefix=\"Assistant\",\n",
    "    human_prefix=\"Human\",\n",
    ")"
   ]
  },
  {
   "cell_type": "markdown",
   "metadata": {
    "tags": []
   },
   "source": [
    "# Creating a function to extract context from pub and pvt PDFS."
   ]
  },
  {
   "cell_type": "code",
   "execution_count": 12,
   "metadata": {
    "tags": []
   },
   "outputs": [],
   "source": [
    "def get_pub_context(query):\n",
    "    print(\"Getting PDF context from pub_vs_index\")\n",
    "    pub_context=\"\"\n",
    "    for k, i in enumerate(pub_vs_index.vectorstore.similarity_search(query, k=1)):\n",
    "        # pub_context += f\"Source Document - {i.metadata['source']}\\nPage Number - {i.metadata['page_number']}\\nContext - {i.page_content}\\n\"\n",
    "        pub_context = {\n",
    "            \"source\": i.metadata['source'],\n",
    "            \"page_number\": i.metadata['page_number'],\n",
    "            \"context\": i.page_content,\n",
    "        }\n",
    "    return pub_context\n",
    "\n",
    "def get_pvt_context(query):\n",
    "    print(\"Getting PDF context from pvt_vs_index\")\n",
    "    pvt_context = \"\"\n",
    "    for k, i in enumerate(pvt_vs_index.vectorstore.similarity_search(query, k=1)):\n",
    "        # pvt_context += f\"Source Document - {i.metadata['source']}\\nPage Number - {i.metadata['page_number']}\\nContext - {i.page_content}\\n\"\n",
    "        pvt_context = {\n",
    "            \"source\": i.metadata['source'],\n",
    "            \"page_number\": i.metadata['page_number'],\n",
    "            \"context\": i.page_content,\n",
    "        }\n",
    "    return pvt_context\n",
    "\n",
    "def get_pdf_context(query):\n",
    "    print(\"Getting PDF context\")\n",
    "    search_text = [\"I\", \"MY\", \"MYSELF\", \"WE\", \"MINE\", \"ME\", \"OUR\", \"OURS\", \"HIMSELF\", \"HERSELF\"]\n",
    "    for search in search_text:\n",
    "        if search in query.upper().split(\" \"):\n",
    "            pvt_context = get_pvt_context(query)\n",
    "            return [pvt_context]\n",
    "    template = \"\"\"\n",
    "    You are TRUE or FALSE answering bot, you will only retrun keyword 'TRUE' if the user query is answerable else 'FALSE'.\n",
    "    User Query : {query}\n",
    "    \"\"\"\n",
    "    pub_result = pub_vs_index.query(template.format(query=query, history=memory.buffer), llm=br_llm)\n",
    "    # print(f\"pub_result : {pub_result}\")\n",
    "    pvt_result = pvt_vs_index.query(template.format(query=query, history=memory.buffer), llm=br_llm)\n",
    "    # print(f\"pvt_result : {pvt_result}\")\n",
    "    if \"TRUE\" in str(pvt_result) and \"TRUE\" in str(pub_result):\n",
    "        pub_context = get_pub_context(query)\n",
    "        pvt_context = get_pvt_context(query)\n",
    "        return [pvt_context, pub_context]\n",
    "    elif \"TRUE\" in str(pvt_result) and \"FALSE\" in str(pub_result):\n",
    "        pvt_context = get_pvt_context(query)\n",
    "        return [pvt_context]\n",
    "    elif \"FALSE\" in str(pvt_result) and \"TRUE\" in str(pub_result):\n",
    "        pub_context = get_pub_context(query)\n",
    "        return [pub_context]\n",
    "    else:\n",
    "        return  [{\n",
    "            \"source\": \"private/policy_certifcate_multiple_vehicle_edited.pdf\",\n",
    "            \"page_number\": 1,\n",
    "            \"context\": \"This is out of context!!!\",\n",
    "        }]"
   ]
  },
  {
   "cell_type": "code",
   "execution_count": 13,
   "metadata": {
    "tags": []
   },
   "outputs": [
    {
     "name": "stdout",
     "output_type": "stream",
     "text": [
      "Getting PDF context\n",
      "Getting PDF context from pvt_vs_index\n",
      "1\n",
      "[{'source': 'private/policy_certifcate_multiple_vehicle_edited.pdf', 'page_number': 10, 'context': '- A1 Third party fire and theft cover: £1,588.00 Total vehicle premium: £1,588.00 The third party policy provides fire and theft cover for your vehicle and third party liability protection for injury or damage you may cause to others. Your insured vehicles AU53ZWM Bmw 325i Se (192) 5e (2003) Effective Date 27 September 2023 End Date 26 September 2024 2494 Petrol Manual 5 Door Estate Vehicle policyholder: Driving option: Mr. Test Tester Vehicle policyholder and named drivers This vehicle has comprehensive cover based on £450 excess and up to 15000 miles a year per year of Social, Domestic, Pleasure and Commuting and restricted business use (refer to the vehicle certificate). This vehicle has comprehensive cover based on £450 excess and up to 15000 miles a year per year of Social, Domestic, Pleasure and Commuting and restricted business use (refer to the vehicle certificate). The vehicles are or will be owned and registered by either you, your spouse/civil/domestic partner, a close relative residing at the same address, your company or is the subject of a private or personal leasing contract. The vehicles are or will be owned and registered by either you, your spouse/civil/domestic partner, a close relative residing at the same address, your company or is the subject of a private or personal leasing contract. Named driver is Miss Additional Tester. - Vehicle modifications: no modifications - Cover for this vehicle is based on 0 years no claims discount (NCD) which is unprotected. Future NCD will be owned by Mr. Test Tester. Named driver is Miss Additional Tester. - Vehicle modifications: no modifications - Cover for this vehicle is based on 0 years no claims discount (NCD) which is unprotected. Future NCD will be owned by Mr. Test Tester. Important Please report all accidents to us immediately online at www.aviva.co.uk/make-a-claim or call us on 0345 030 6925. Aviva Insurance Limited. Registered in Scotland, No. 2116. Registered Office: Pitheavlis, Perth PH2 0NH.'}]\n"
     ]
    }
   ],
   "source": [
    "query = \" I've had an accident, car will be off the road for 3 weeks to repair. 'Does my insurance have courtesy car cover'?\"\n",
    "context = get_pdf_context(query)\n",
    "print(len(context))\n",
    "print(context)"
   ]
  },
  {
   "cell_type": "markdown",
   "metadata": {},
   "source": [
    "# Prompt template for chain"
   ]
  },
  {
   "cell_type": "code",
   "execution_count": 14,
   "metadata": {},
   "outputs": [],
   "source": [
    "from langchain.prompts.prompt import PromptTemplate\n",
    "\n",
    "_one_context_template = \"\"\"\n",
    "Human: You are a insurance chat assistant for aviva and your name is 'Aviva Copilot'. You primary task is to help the customer on their queries.\n",
    "\n",
    "Whenever a question is a greeting, please respond with positive greeting and don't check for any context given below, else check in the context: \"{context}\"\n",
    "\n",
    "Can you answer on the question in 1 sentence, please provide answer from context.\n",
    "\n",
    "Please find the chat history.\n",
    "{history}\n",
    "\n",
    "current follow up question is \"{customer_query}\".\n",
    "Assistant:\n",
    "\"\"\"\n",
    "ONE_CONTEXT_PROMPT = PromptTemplate(template=_one_context_template, input_variables=[\"customer_query\", \"context\", \"history\"])"
   ]
  },
  {
   "cell_type": "code",
   "execution_count": 15,
   "metadata": {
    "tags": []
   },
   "outputs": [],
   "source": [
    "from langchain.prompts.prompt import PromptTemplate\n",
    "\n",
    "_two_context_template = \"\"\"\n",
    "{history}\n",
    "Human: You are a insurance chat assistant for aviva and your name is 'Aviva Copilot'. You primary task to help the customer on thier queries. \n",
    "\n",
    "Whenever a question is a greeting, please respond with positive greeting and don't check for any context given below, else check in the pvt context: \"{pvt_context}\" and pub context:\n",
    "\"{pub_context}\"\n",
    "\n",
    "Can you answer on the question in 1 sentence, first provide answer from pvt context then discuss infomation from pub context.\n",
    "\n",
    "Please find the chat history.\n",
    "{history}\n",
    "\n",
    "current follow up question is \"{customer_query}\".\n",
    "Assistant:\n",
    "\"\"\"\n",
    "TWO_CONTEXT_PROMPT = PromptTemplate(template=_two_context_template, input_variables=[\"customer_query\", \"pub_context\", \"pvt_context\", \"history\"])"
   ]
  },
  {
   "cell_type": "code",
   "execution_count": 16,
   "metadata": {
    "tags": []
   },
   "outputs": [],
   "source": [
    "# turn verbose to True to see the full logs and documents\n",
    "from langchain.chains import LLMChain\n",
    "    \n",
    "def ask_copilot(query):\n",
    "    context = get_pdf_context(query)\n",
    "    if len(context) == 1:\n",
    "        qa = LLMChain(\n",
    "            llm=br_llm, \n",
    "            verbose=False, \n",
    "            prompt=ONE_CONTEXT_PROMPT,\n",
    "            memory=memory,\n",
    "        )\n",
    "        ai_result = qa.predict(customer_query=query, context=context[0]['context'])\n",
    "        return_result = {\n",
    "            \"result_message\":str(ai_result),\n",
    "            \"source\":[context[0]['source']],\n",
    "            \"page_number\":[context[0]['page_number']],\n",
    "            \"search_text\":[context[0]['context']],\n",
    "        }\n",
    "    elif len(context) == 2:\n",
    "        qa = LLMChain(\n",
    "            llm=br_llm, \n",
    "            verbose=False, \n",
    "            prompt=TWO_CONTEXT_PROMPT,\n",
    "            memory=memory,\n",
    "        )\n",
    "        ai_result = qa.predict(customer_query=query, pvt_context=context[0]['context'], pub_context=context[1]['context'])\n",
    "        return_result = {\n",
    "            \"result_message\":str(ai_result),\n",
    "            \"source\":[context[0]['source'], context[1]['source']],\n",
    "            \"page_number\":[context[0]['page_number'], context[1]['page_number']],\n",
    "            \"search_text\":[context[0]['context'], context[1]['context']],\n",
    "        }\n",
    "    print(f\"Customer = {query}\\n\")\n",
    "    print(f\"AI = {return_result['result_message']}\\n\")\n",
    "    print(f\"Source Document = {return_result['source']}\\n\")\n",
    "    print(f\"Page Number = {return_result['page_number']}\\n\")\n",
    "    print(f\"Search Text = {return_result['search_text']}\\n\")\n",
    "    return return_result"
   ]
  },
  {
   "cell_type": "code",
   "execution_count": 17,
   "metadata": {
    "tags": []
   },
   "outputs": [
    {
     "name": "stdout",
     "output_type": "stream",
     "text": [
      "Getting PDF context\n",
      "Getting PDF context from pvt_vs_index\n",
      "Customer = Which car is 'Miss Additional tester' permitted to drive?\n",
      "\n",
      "AI =  Miss Additional Tester is permitted to drive the car identified by its registration number in the certificate.\n",
      "\n",
      "Source Document = ['private/policy_certifcate_multiple_vehicle_edited.pdf']\n",
      "\n",
      "Page Number = [14]\n",
      "\n",
      "Search Text = [\"motor vehicles or otherwise, and irrespective of whether this takes place on any circuit or track, formed or otherwise, and regardless of any statutory authorisation of any such event. Use to secure the release of a motor vehicle, other than the vehicle identified above by its registration number, which has been seized by, or on behalf of, any government or public authority unless the effective date of the certificate pre-dates the date of the seizure Permitted drivers As below provided that the person holds a licence to drive the car or has held and is not disqualified from holding or obtaining such a licence Mr. Test Tester Named drivers: Miss Additional Tester Under the terms of section 2 of the policy - Your Liability - Mr. Test Tester may also drive a Motor Car which 1) does not belong to them 2) 3) Providing they are driving with the owner's express consent is not a rental car is not hired to them under a hire purchase or leasing agreement I hereby certify that the policy to which this certificate relates satisfies the requirements of the relevant law applicable in Great Britain, Northern Ireland, the Isle of Man, the Island of Guernsey, the Island of Jersey and the Island of Alderney. Aviva Insurance Limited - authorised insurers. Adam Winslow CEO, UK & Ireland General Insurance Please note: For full details of the insurance cover, refer to your policy. Advice to third parties: Nothing contained in this certificate affects your right as a third party to make a claim Important Please report all accidents to us immediately online at www.aviva.co.uk/make-a-claim or call us on 0345 030 6925. Aviva Insurance Limited. Registered in Scotland, No. 2116. Registered Office: Pitheavlis, Perth PH2 0NH. Authorised by the Prudential Regulation Authority and regulated by the Financial Conduct Authority and the Prudential Regulation Authority.\"]\n",
      "\n",
      "JSON Responce : {'result_message': ' Miss Additional Tester is permitted to drive the car identified by its registration number in the certificate.', 'source': ['private/policy_certifcate_multiple_vehicle_edited.pdf'], 'page_number': [14], 'search_text': [\"motor vehicles or otherwise, and irrespective of whether this takes place on any circuit or track, formed or otherwise, and regardless of any statutory authorisation of any such event. Use to secure the release of a motor vehicle, other than the vehicle identified above by its registration number, which has been seized by, or on behalf of, any government or public authority unless the effective date of the certificate pre-dates the date of the seizure Permitted drivers As below provided that the person holds a licence to drive the car or has held and is not disqualified from holding or obtaining such a licence Mr. Test Tester Named drivers: Miss Additional Tester Under the terms of section 2 of the policy - Your Liability - Mr. Test Tester may also drive a Motor Car which 1) does not belong to them 2) 3) Providing they are driving with the owner's express consent is not a rental car is not hired to them under a hire purchase or leasing agreement I hereby certify that the policy to which this certificate relates satisfies the requirements of the relevant law applicable in Great Britain, Northern Ireland, the Isle of Man, the Island of Guernsey, the Island of Jersey and the Island of Alderney. Aviva Insurance Limited - authorised insurers. Adam Winslow CEO, UK & Ireland General Insurance Please note: For full details of the insurance cover, refer to your policy. Advice to third parties: Nothing contained in this certificate affects your right as a third party to make a claim Important Please report all accidents to us immediately online at www.aviva.co.uk/make-a-claim or call us on 0345 030 6925. Aviva Insurance Limited. Registered in Scotland, No. 2116. Registered Office: Pitheavlis, Perth PH2 0NH. Authorised by the Prudential Regulation Authority and regulated by the Financial Conduct Authority and the Prudential Regulation Authority.\"]}\n",
      "\n"
     ]
    }
   ],
   "source": [
    "result = ask_copilot(\"Which car is 'Miss Additional tester' permitted to drive?\")\n",
    "print(f\"JSON Responce : {result}\\n\")"
   ]
  },
  {
   "cell_type": "code",
   "execution_count": 18,
   "metadata": {
    "tags": []
   },
   "outputs": [
    {
     "name": "stdout",
     "output_type": "stream",
     "text": [
      "Getting PDF context\n",
      "Getting PDF context from pvt_vs_index\n",
      "Customer = Is my daughter 'Miss Additional Tester' permitted to drive on the policy?\n",
      "\n",
      "AI =  According to the policy details provided, Miss Additional Tester is named as a driver for the vehicle with registration AU53ZWM (Bmw 325i Se). So yes, your daughter Miss Additional Tester is permitted to drive on this policy.\n",
      "\n",
      "Source Document = ['private/policy_certifcate_multiple_vehicle_edited.pdf']\n",
      "\n",
      "Page Number = [8]\n",
      "\n",
      "Search Text = ['the extent of the cover may be affected. Principal policyholder: Address: Mr. Test Tester 77 Music House Lane, Norwich, NR1 1QN Contact number: 07459617348 Policy number: MMV070055371 Period of cover: 26 September 2024 14.09 on 27 September 2023 to 23.59 on Your insured vehicles Payment options: One annual payment AU53ZWM Bmw 325i Se (192) 5e (2003) 2494 Petrol Manual 5 Door Estate Vehicle policyholder: Mr. Test Tester Driving option: Vehicle policyholder and named drivers This vehicle has comprehensive cover based on £450 excess and up to 15000 miles a year per year of Social, Domestic, Pleasure and Commuting and restricted business use (refer to the vehicle certificate). This vehicle has comprehensive cover based on £450 excess and up to 15000 miles a year per year of Social, Domestic, Pleasure and Commuting and restricted business use (refer to the vehicle certificate). The vehicles are or will be owned and registered by either you, your spouse/civil/domestic partner, a close relative residing at the same address, your company or is the subject of a private or personal leasing contract. The vehicles are or will be owned and registered by either you, your spouse/civil/domestic partner, a close relative residing at the same address, your company or is the subject of a private or personal leasing contract. Vehicle modifications: no modifications - Named driver is Miss Additional Tester. - Cover for this vehicle is based on 0 years no claims discount (NCD) which is unprotected. Future NCD will be owned by Mr. Test Tester. A1 Mini Mini Cooper S (122) 3h (2007) 1598 Petrol Automatic 3 Door Hatchback Vehicle policyholder: Mr. Test Tester Driving option: Vehicle policyholder only This vehicle has third party fire and theft cover based on £450 excess and up to 8000 miles a year per year of Social, Domestic, Pleasure and Commuting and restricted business use (refer to the vehicle certificate). This vehicle has third party fire and theft cover based on £450 excess and up to']\n",
      "\n",
      "JSON Responce : {'result_message': ' According to the policy details provided, Miss Additional Tester is named as a driver for the vehicle with registration AU53ZWM (Bmw 325i Se). So yes, your daughter Miss Additional Tester is permitted to drive on this policy.', 'source': ['private/policy_certifcate_multiple_vehicle_edited.pdf'], 'page_number': [8], 'search_text': ['the extent of the cover may be affected. Principal policyholder: Address: Mr. Test Tester 77 Music House Lane, Norwich, NR1 1QN Contact number: 07459617348 Policy number: MMV070055371 Period of cover: 26 September 2024 14.09 on 27 September 2023 to 23.59 on Your insured vehicles Payment options: One annual payment AU53ZWM Bmw 325i Se (192) 5e (2003) 2494 Petrol Manual 5 Door Estate Vehicle policyholder: Mr. Test Tester Driving option: Vehicle policyholder and named drivers This vehicle has comprehensive cover based on £450 excess and up to 15000 miles a year per year of Social, Domestic, Pleasure and Commuting and restricted business use (refer to the vehicle certificate). This vehicle has comprehensive cover based on £450 excess and up to 15000 miles a year per year of Social, Domestic, Pleasure and Commuting and restricted business use (refer to the vehicle certificate). The vehicles are or will be owned and registered by either you, your spouse/civil/domestic partner, a close relative residing at the same address, your company or is the subject of a private or personal leasing contract. The vehicles are or will be owned and registered by either you, your spouse/civil/domestic partner, a close relative residing at the same address, your company or is the subject of a private or personal leasing contract. Vehicle modifications: no modifications - Named driver is Miss Additional Tester. - Cover for this vehicle is based on 0 years no claims discount (NCD) which is unprotected. Future NCD will be owned by Mr. Test Tester. A1 Mini Mini Cooper S (122) 3h (2007) 1598 Petrol Automatic 3 Door Hatchback Vehicle policyholder: Mr. Test Tester Driving option: Vehicle policyholder only This vehicle has third party fire and theft cover based on £450 excess and up to 8000 miles a year per year of Social, Domestic, Pleasure and Commuting and restricted business use (refer to the vehicle certificate). This vehicle has third party fire and theft cover based on £450 excess and up to']}\n",
      "\n"
     ]
    }
   ],
   "source": [
    "result = ask_copilot(\"Is my daughter 'Miss Additional Tester' permitted to drive on the policy?\")\n",
    "print(f\"JSON Responce : {result}\\n\")"
   ]
  },
  {
   "cell_type": "code",
   "execution_count": 19,
   "metadata": {
    "tags": []
   },
   "outputs": [
    {
     "name": "stdout",
     "output_type": "stream",
     "text": [
      "Getting PDF context\n",
      "Getting PDF context from pvt_vs_index\n",
      "Customer = Please let me know the vehicle details, which she is permitted to use?\n",
      "\n",
      "AI =  Miss Additional Tester is permitted to drive the 2003 Bmw 325i Se with registration AU53ZWM.\n",
      "\n",
      "Source Document = ['private/policy_certifcate_multiple_vehicle_edited.pdf']\n",
      "\n",
      "Page Number = [14]\n",
      "\n",
      "Search Text = ['-*- Demonstration Powered by OpenText Exstream 09/27/2023, Version 16.6.32 32-bit -*- Your certificate of car insurance This vehicle insurance certificate is evidence of your cover with us. Please read it and keep it safe with your other policy documents. Your policy number MMV070055371/1 Vehicle policyholder Mr. Test Tester Vehicle registration AU53ZWM Make of vehicle 2003 Bmw 325i Se (192) 5e Start of cover 14.09 on 27 September 2023 End of cover 23.59 on 26 September 2024 The insured vehicle The vehicle registration mark described above or 1. any vehicle loaned to the vehicle policyholder for a maximum of seven days from a garage, motor engineer or vehicle repairer while the vehicle registration described above is being either serviced, repaired or having a MOT test. Description of use Use for social, domestic and pleasure purposes. Use for travel to or from a place of paid employment. Use by Mr. Test Tester or their spouse/domestic/civil partner in connection with their occupation(s). Exclusions Use for hiring of the vehicle, the carriage of passengers or goods for payment, the carriage of goods or property which does not belong to you as a courier or for takeaway food or fast food delivery. Use for any purpose in connection with the buying and selling, repair, servicing, cleaning, maintenance, inspection, testing, alteration or treatment of motor vehicles. Use for any competitions, trial, performance test, race or trial of speed, including off-road events whether between motor vehicles or otherwise, and irrespective of whether this takes place on any circuit or track, formed or otherwise, and regardless of any statutory authorisation of any such event. Use to secure the release of a motor vehicle, other than the vehicle identified above by its registration number, which has been seized by, or on behalf of, any government or public authority unless the effective date of the certificate pre-dates the date of the seizure Permitted drivers As below provided that']\n",
      "\n",
      "JSON Responce : {'result_message': ' Miss Additional Tester is permitted to drive the 2003 Bmw 325i Se with registration AU53ZWM.', 'source': ['private/policy_certifcate_multiple_vehicle_edited.pdf'], 'page_number': [14], 'search_text': ['-*- Demonstration Powered by OpenText Exstream 09/27/2023, Version 16.6.32 32-bit -*- Your certificate of car insurance This vehicle insurance certificate is evidence of your cover with us. Please read it and keep it safe with your other policy documents. Your policy number MMV070055371/1 Vehicle policyholder Mr. Test Tester Vehicle registration AU53ZWM Make of vehicle 2003 Bmw 325i Se (192) 5e Start of cover 14.09 on 27 September 2023 End of cover 23.59 on 26 September 2024 The insured vehicle The vehicle registration mark described above or 1. any vehicle loaned to the vehicle policyholder for a maximum of seven days from a garage, motor engineer or vehicle repairer while the vehicle registration described above is being either serviced, repaired or having a MOT test. Description of use Use for social, domestic and pleasure purposes. Use for travel to or from a place of paid employment. Use by Mr. Test Tester or their spouse/domestic/civil partner in connection with their occupation(s). Exclusions Use for hiring of the vehicle, the carriage of passengers or goods for payment, the carriage of goods or property which does not belong to you as a courier or for takeaway food or fast food delivery. Use for any purpose in connection with the buying and selling, repair, servicing, cleaning, maintenance, inspection, testing, alteration or treatment of motor vehicles. Use for any competitions, trial, performance test, race or trial of speed, including off-road events whether between motor vehicles or otherwise, and irrespective of whether this takes place on any circuit or track, formed or otherwise, and regardless of any statutory authorisation of any such event. Use to secure the release of a motor vehicle, other than the vehicle identified above by its registration number, which has been seized by, or on behalf of, any government or public authority unless the effective date of the certificate pre-dates the date of the seizure Permitted drivers As below provided that']}\n",
      "\n"
     ]
    }
   ],
   "source": [
    "result = ask_copilot(\"Please let me know the vehicle details, which she is permitted to use?\")\n",
    "print(f\"JSON Responce : {result}\\n\")"
   ]
  },
  {
   "cell_type": "code",
   "execution_count": 20,
   "metadata": {
    "tags": []
   },
   "outputs": [
    {
     "name": "stdout",
     "output_type": "stream",
     "text": [
      "Getting PDF context\n",
      "Customer = Is that the vehicle insured with a comprehensive insurance?\n",
      "\n",
      "AI =  Based on the provided context, the answer is:\n",
      "\n",
      "Yes, the 2003 BMW 325i SE with registration AU53ZWM that Miss Additional Tester is permitted to drive is insured with a comprehensive insurance.\n",
      "\n",
      "Source Document = ['private/policy_certifcate_multiple_vehicle_edited.pdf']\n",
      "\n",
      "Page Number = [1]\n",
      "\n",
      "Search Text = ['This is out of context!!!']\n",
      "\n",
      "JSON Responce : {'result_message': ' Based on the provided context, the answer is:\\n\\nYes, the 2003 BMW 325i SE with registration AU53ZWM that Miss Additional Tester is permitted to drive is insured with a comprehensive insurance.', 'source': ['private/policy_certifcate_multiple_vehicle_edited.pdf'], 'page_number': [1], 'search_text': ['This is out of context!!!']}\n",
      "\n"
     ]
    }
   ],
   "source": [
    "result = ask_copilot(\"Is that the vehicle insured with a comprehensive insurance?\")\n",
    "print(f\"JSON Responce : {result}\\n\")"
   ]
  },
  {
   "cell_type": "markdown",
   "metadata": {
    "tags": []
   },
   "source": [
    "result = ask_copilot(\" I've had an accident, car will be off the road for 3 weeks to repair. 'Does my insurance have courtesy car cover'?\")\n",
    "print(f\"JSON Responce : {result}\\n\")"
   ]
  },
  {
   "cell_type": "markdown",
   "metadata": {
    "tags": []
   },
   "source": [
    "result = ask_copilot(\" A named driver is added on the policy - 'Can they drive the vehicle'?\")\n",
    "print(f\"JSON Responce : {result}\\n\")"
   ]
  },
  {
   "cell_type": "markdown",
   "metadata": {
    "tags": []
   },
   "source": [
    "result = ask_copilot(\"Is 'Miss Additional Tester' driver covered to drive on the policy?\")\n",
    "print(f\"JSON Responce : {result}\\n\")"
   ]
  },
  {
   "cell_type": "markdown",
   "metadata": {
    "tags": []
   },
   "source": [
    "result = ask_copilot(\"Is that the vehicle with comprehensive cover?\")\n",
    "print(f\"JSON Responce : {result}\\n\")"
   ]
  },
  {
   "cell_type": "code",
   "execution_count": null,
   "metadata": {},
   "outputs": [],
   "source": []
  }
 ],
 "metadata": {
  "availableInstances": [
   {
    "_defaultOrder": 0,
    "_isFastLaunch": true,
    "category": "General purpose",
    "gpuNum": 0,
    "hideHardwareSpecs": false,
    "memoryGiB": 4,
    "name": "ml.t3.medium",
    "vcpuNum": 2
   },
   {
    "_defaultOrder": 1,
    "_isFastLaunch": false,
    "category": "General purpose",
    "gpuNum": 0,
    "hideHardwareSpecs": false,
    "memoryGiB": 8,
    "name": "ml.t3.large",
    "vcpuNum": 2
   },
   {
    "_defaultOrder": 2,
    "_isFastLaunch": false,
    "category": "General purpose",
    "gpuNum": 0,
    "hideHardwareSpecs": false,
    "memoryGiB": 16,
    "name": "ml.t3.xlarge",
    "vcpuNum": 4
   },
   {
    "_defaultOrder": 3,
    "_isFastLaunch": false,
    "category": "General purpose",
    "gpuNum": 0,
    "hideHardwareSpecs": false,
    "memoryGiB": 32,
    "name": "ml.t3.2xlarge",
    "vcpuNum": 8
   },
   {
    "_defaultOrder": 4,
    "_isFastLaunch": true,
    "category": "General purpose",
    "gpuNum": 0,
    "hideHardwareSpecs": false,
    "memoryGiB": 8,
    "name": "ml.m5.large",
    "vcpuNum": 2
   },
   {
    "_defaultOrder": 5,
    "_isFastLaunch": false,
    "category": "General purpose",
    "gpuNum": 0,
    "hideHardwareSpecs": false,
    "memoryGiB": 16,
    "name": "ml.m5.xlarge",
    "vcpuNum": 4
   },
   {
    "_defaultOrder": 6,
    "_isFastLaunch": false,
    "category": "General purpose",
    "gpuNum": 0,
    "hideHardwareSpecs": false,
    "memoryGiB": 32,
    "name": "ml.m5.2xlarge",
    "vcpuNum": 8
   },
   {
    "_defaultOrder": 7,
    "_isFastLaunch": false,
    "category": "General purpose",
    "gpuNum": 0,
    "hideHardwareSpecs": false,
    "memoryGiB": 64,
    "name": "ml.m5.4xlarge",
    "vcpuNum": 16
   },
   {
    "_defaultOrder": 8,
    "_isFastLaunch": false,
    "category": "General purpose",
    "gpuNum": 0,
    "hideHardwareSpecs": false,
    "memoryGiB": 128,
    "name": "ml.m5.8xlarge",
    "vcpuNum": 32
   },
   {
    "_defaultOrder": 9,
    "_isFastLaunch": false,
    "category": "General purpose",
    "gpuNum": 0,
    "hideHardwareSpecs": false,
    "memoryGiB": 192,
    "name": "ml.m5.12xlarge",
    "vcpuNum": 48
   },
   {
    "_defaultOrder": 10,
    "_isFastLaunch": false,
    "category": "General purpose",
    "gpuNum": 0,
    "hideHardwareSpecs": false,
    "memoryGiB": 256,
    "name": "ml.m5.16xlarge",
    "vcpuNum": 64
   },
   {
    "_defaultOrder": 11,
    "_isFastLaunch": false,
    "category": "General purpose",
    "gpuNum": 0,
    "hideHardwareSpecs": false,
    "memoryGiB": 384,
    "name": "ml.m5.24xlarge",
    "vcpuNum": 96
   },
   {
    "_defaultOrder": 12,
    "_isFastLaunch": false,
    "category": "General purpose",
    "gpuNum": 0,
    "hideHardwareSpecs": false,
    "memoryGiB": 8,
    "name": "ml.m5d.large",
    "vcpuNum": 2
   },
   {
    "_defaultOrder": 13,
    "_isFastLaunch": false,
    "category": "General purpose",
    "gpuNum": 0,
    "hideHardwareSpecs": false,
    "memoryGiB": 16,
    "name": "ml.m5d.xlarge",
    "vcpuNum": 4
   },
   {
    "_defaultOrder": 14,
    "_isFastLaunch": false,
    "category": "General purpose",
    "gpuNum": 0,
    "hideHardwareSpecs": false,
    "memoryGiB": 32,
    "name": "ml.m5d.2xlarge",
    "vcpuNum": 8
   },
   {
    "_defaultOrder": 15,
    "_isFastLaunch": false,
    "category": "General purpose",
    "gpuNum": 0,
    "hideHardwareSpecs": false,
    "memoryGiB": 64,
    "name": "ml.m5d.4xlarge",
    "vcpuNum": 16
   },
   {
    "_defaultOrder": 16,
    "_isFastLaunch": false,
    "category": "General purpose",
    "gpuNum": 0,
    "hideHardwareSpecs": false,
    "memoryGiB": 128,
    "name": "ml.m5d.8xlarge",
    "vcpuNum": 32
   },
   {
    "_defaultOrder": 17,
    "_isFastLaunch": false,
    "category": "General purpose",
    "gpuNum": 0,
    "hideHardwareSpecs": false,
    "memoryGiB": 192,
    "name": "ml.m5d.12xlarge",
    "vcpuNum": 48
   },
   {
    "_defaultOrder": 18,
    "_isFastLaunch": false,
    "category": "General purpose",
    "gpuNum": 0,
    "hideHardwareSpecs": false,
    "memoryGiB": 256,
    "name": "ml.m5d.16xlarge",
    "vcpuNum": 64
   },
   {
    "_defaultOrder": 19,
    "_isFastLaunch": false,
    "category": "General purpose",
    "gpuNum": 0,
    "hideHardwareSpecs": false,
    "memoryGiB": 384,
    "name": "ml.m5d.24xlarge",
    "vcpuNum": 96
   },
   {
    "_defaultOrder": 20,
    "_isFastLaunch": false,
    "category": "General purpose",
    "gpuNum": 0,
    "hideHardwareSpecs": true,
    "memoryGiB": 0,
    "name": "ml.geospatial.interactive",
    "supportedImageNames": [
     "sagemaker-geospatial-v1-0"
    ],
    "vcpuNum": 0
   },
   {
    "_defaultOrder": 21,
    "_isFastLaunch": true,
    "category": "Compute optimized",
    "gpuNum": 0,
    "hideHardwareSpecs": false,
    "memoryGiB": 4,
    "name": "ml.c5.large",
    "vcpuNum": 2
   },
   {
    "_defaultOrder": 22,
    "_isFastLaunch": false,
    "category": "Compute optimized",
    "gpuNum": 0,
    "hideHardwareSpecs": false,
    "memoryGiB": 8,
    "name": "ml.c5.xlarge",
    "vcpuNum": 4
   },
   {
    "_defaultOrder": 23,
    "_isFastLaunch": false,
    "category": "Compute optimized",
    "gpuNum": 0,
    "hideHardwareSpecs": false,
    "memoryGiB": 16,
    "name": "ml.c5.2xlarge",
    "vcpuNum": 8
   },
   {
    "_defaultOrder": 24,
    "_isFastLaunch": false,
    "category": "Compute optimized",
    "gpuNum": 0,
    "hideHardwareSpecs": false,
    "memoryGiB": 32,
    "name": "ml.c5.4xlarge",
    "vcpuNum": 16
   },
   {
    "_defaultOrder": 25,
    "_isFastLaunch": false,
    "category": "Compute optimized",
    "gpuNum": 0,
    "hideHardwareSpecs": false,
    "memoryGiB": 72,
    "name": "ml.c5.9xlarge",
    "vcpuNum": 36
   },
   {
    "_defaultOrder": 26,
    "_isFastLaunch": false,
    "category": "Compute optimized",
    "gpuNum": 0,
    "hideHardwareSpecs": false,
    "memoryGiB": 96,
    "name": "ml.c5.12xlarge",
    "vcpuNum": 48
   },
   {
    "_defaultOrder": 27,
    "_isFastLaunch": false,
    "category": "Compute optimized",
    "gpuNum": 0,
    "hideHardwareSpecs": false,
    "memoryGiB": 144,
    "name": "ml.c5.18xlarge",
    "vcpuNum": 72
   },
   {
    "_defaultOrder": 28,
    "_isFastLaunch": false,
    "category": "Compute optimized",
    "gpuNum": 0,
    "hideHardwareSpecs": false,
    "memoryGiB": 192,
    "name": "ml.c5.24xlarge",
    "vcpuNum": 96
   },
   {
    "_defaultOrder": 29,
    "_isFastLaunch": true,
    "category": "Accelerated computing",
    "gpuNum": 1,
    "hideHardwareSpecs": false,
    "memoryGiB": 16,
    "name": "ml.g4dn.xlarge",
    "vcpuNum": 4
   },
   {
    "_defaultOrder": 30,
    "_isFastLaunch": false,
    "category": "Accelerated computing",
    "gpuNum": 1,
    "hideHardwareSpecs": false,
    "memoryGiB": 32,
    "name": "ml.g4dn.2xlarge",
    "vcpuNum": 8
   },
   {
    "_defaultOrder": 31,
    "_isFastLaunch": false,
    "category": "Accelerated computing",
    "gpuNum": 1,
    "hideHardwareSpecs": false,
    "memoryGiB": 64,
    "name": "ml.g4dn.4xlarge",
    "vcpuNum": 16
   },
   {
    "_defaultOrder": 32,
    "_isFastLaunch": false,
    "category": "Accelerated computing",
    "gpuNum": 1,
    "hideHardwareSpecs": false,
    "memoryGiB": 128,
    "name": "ml.g4dn.8xlarge",
    "vcpuNum": 32
   },
   {
    "_defaultOrder": 33,
    "_isFastLaunch": false,
    "category": "Accelerated computing",
    "gpuNum": 4,
    "hideHardwareSpecs": false,
    "memoryGiB": 192,
    "name": "ml.g4dn.12xlarge",
    "vcpuNum": 48
   },
   {
    "_defaultOrder": 34,
    "_isFastLaunch": false,
    "category": "Accelerated computing",
    "gpuNum": 1,
    "hideHardwareSpecs": false,
    "memoryGiB": 256,
    "name": "ml.g4dn.16xlarge",
    "vcpuNum": 64
   },
   {
    "_defaultOrder": 35,
    "_isFastLaunch": false,
    "category": "Accelerated computing",
    "gpuNum": 1,
    "hideHardwareSpecs": false,
    "memoryGiB": 61,
    "name": "ml.p3.2xlarge",
    "vcpuNum": 8
   },
   {
    "_defaultOrder": 36,
    "_isFastLaunch": false,
    "category": "Accelerated computing",
    "gpuNum": 4,
    "hideHardwareSpecs": false,
    "memoryGiB": 244,
    "name": "ml.p3.8xlarge",
    "vcpuNum": 32
   },
   {
    "_defaultOrder": 37,
    "_isFastLaunch": false,
    "category": "Accelerated computing",
    "gpuNum": 8,
    "hideHardwareSpecs": false,
    "memoryGiB": 488,
    "name": "ml.p3.16xlarge",
    "vcpuNum": 64
   },
   {
    "_defaultOrder": 38,
    "_isFastLaunch": false,
    "category": "Accelerated computing",
    "gpuNum": 8,
    "hideHardwareSpecs": false,
    "memoryGiB": 768,
    "name": "ml.p3dn.24xlarge",
    "vcpuNum": 96
   },
   {
    "_defaultOrder": 39,
    "_isFastLaunch": false,
    "category": "Memory Optimized",
    "gpuNum": 0,
    "hideHardwareSpecs": false,
    "memoryGiB": 16,
    "name": "ml.r5.large",
    "vcpuNum": 2
   },
   {
    "_defaultOrder": 40,
    "_isFastLaunch": false,
    "category": "Memory Optimized",
    "gpuNum": 0,
    "hideHardwareSpecs": false,
    "memoryGiB": 32,
    "name": "ml.r5.xlarge",
    "vcpuNum": 4
   },
   {
    "_defaultOrder": 41,
    "_isFastLaunch": false,
    "category": "Memory Optimized",
    "gpuNum": 0,
    "hideHardwareSpecs": false,
    "memoryGiB": 64,
    "name": "ml.r5.2xlarge",
    "vcpuNum": 8
   },
   {
    "_defaultOrder": 42,
    "_isFastLaunch": false,
    "category": "Memory Optimized",
    "gpuNum": 0,
    "hideHardwareSpecs": false,
    "memoryGiB": 128,
    "name": "ml.r5.4xlarge",
    "vcpuNum": 16
   },
   {
    "_defaultOrder": 43,
    "_isFastLaunch": false,
    "category": "Memory Optimized",
    "gpuNum": 0,
    "hideHardwareSpecs": false,
    "memoryGiB": 256,
    "name": "ml.r5.8xlarge",
    "vcpuNum": 32
   },
   {
    "_defaultOrder": 44,
    "_isFastLaunch": false,
    "category": "Memory Optimized",
    "gpuNum": 0,
    "hideHardwareSpecs": false,
    "memoryGiB": 384,
    "name": "ml.r5.12xlarge",
    "vcpuNum": 48
   },
   {
    "_defaultOrder": 45,
    "_isFastLaunch": false,
    "category": "Memory Optimized",
    "gpuNum": 0,
    "hideHardwareSpecs": false,
    "memoryGiB": 512,
    "name": "ml.r5.16xlarge",
    "vcpuNum": 64
   },
   {
    "_defaultOrder": 46,
    "_isFastLaunch": false,
    "category": "Memory Optimized",
    "gpuNum": 0,
    "hideHardwareSpecs": false,
    "memoryGiB": 768,
    "name": "ml.r5.24xlarge",
    "vcpuNum": 96
   },
   {
    "_defaultOrder": 47,
    "_isFastLaunch": false,
    "category": "Accelerated computing",
    "gpuNum": 1,
    "hideHardwareSpecs": false,
    "memoryGiB": 16,
    "name": "ml.g5.xlarge",
    "vcpuNum": 4
   },
   {
    "_defaultOrder": 48,
    "_isFastLaunch": false,
    "category": "Accelerated computing",
    "gpuNum": 1,
    "hideHardwareSpecs": false,
    "memoryGiB": 32,
    "name": "ml.g5.2xlarge",
    "vcpuNum": 8
   },
   {
    "_defaultOrder": 49,
    "_isFastLaunch": false,
    "category": "Accelerated computing",
    "gpuNum": 1,
    "hideHardwareSpecs": false,
    "memoryGiB": 64,
    "name": "ml.g5.4xlarge",
    "vcpuNum": 16
   },
   {
    "_defaultOrder": 50,
    "_isFastLaunch": false,
    "category": "Accelerated computing",
    "gpuNum": 1,
    "hideHardwareSpecs": false,
    "memoryGiB": 128,
    "name": "ml.g5.8xlarge",
    "vcpuNum": 32
   },
   {
    "_defaultOrder": 51,
    "_isFastLaunch": false,
    "category": "Accelerated computing",
    "gpuNum": 1,
    "hideHardwareSpecs": false,
    "memoryGiB": 256,
    "name": "ml.g5.16xlarge",
    "vcpuNum": 64
   },
   {
    "_defaultOrder": 52,
    "_isFastLaunch": false,
    "category": "Accelerated computing",
    "gpuNum": 4,
    "hideHardwareSpecs": false,
    "memoryGiB": 192,
    "name": "ml.g5.12xlarge",
    "vcpuNum": 48
   },
   {
    "_defaultOrder": 53,
    "_isFastLaunch": false,
    "category": "Accelerated computing",
    "gpuNum": 4,
    "hideHardwareSpecs": false,
    "memoryGiB": 384,
    "name": "ml.g5.24xlarge",
    "vcpuNum": 96
   },
   {
    "_defaultOrder": 54,
    "_isFastLaunch": false,
    "category": "Accelerated computing",
    "gpuNum": 8,
    "hideHardwareSpecs": false,
    "memoryGiB": 768,
    "name": "ml.g5.48xlarge",
    "vcpuNum": 192
   },
   {
    "_defaultOrder": 55,
    "_isFastLaunch": false,
    "category": "Accelerated computing",
    "gpuNum": 8,
    "hideHardwareSpecs": false,
    "memoryGiB": 1152,
    "name": "ml.p4d.24xlarge",
    "vcpuNum": 96
   },
   {
    "_defaultOrder": 56,
    "_isFastLaunch": false,
    "category": "Accelerated computing",
    "gpuNum": 8,
    "hideHardwareSpecs": false,
    "memoryGiB": 1152,
    "name": "ml.p4de.24xlarge",
    "vcpuNum": 96
   }
  ],
  "instance_type": "ml.t3.medium",
  "kernelspec": {
   "display_name": "Python 3 (Data Science 3.0)",
   "language": "python",
   "name": "python3__SAGEMAKER_INTERNAL__arn:aws:sagemaker:us-west-2:236514542706:image/sagemaker-data-science-310-v1"
  },
  "language_info": {
   "codemirror_mode": {
    "name": "ipython",
    "version": 3
   },
   "file_extension": ".py",
   "mimetype": "text/x-python",
   "name": "python",
   "nbconvert_exporter": "python",
   "pygments_lexer": "ipython3",
   "version": "3.10.6"
  }
 },
 "nbformat": 4,
 "nbformat_minor": 4
}
