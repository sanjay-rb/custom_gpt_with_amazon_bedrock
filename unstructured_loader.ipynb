{
 "cells": [
  {
   "cell_type": "markdown",
   "metadata": {},
   "source": [
    "# Installing required modules"
   ]
  },
  {
   "cell_type": "markdown",
   "metadata": {
    "tags": []
   },
   "source": [
    "%pip install --quiet --no-build-isolation --force-reinstall \\\n",
    "    \"boto3\" \\\n",
    "    \"awscli\" \\\n",
    "    \"botocore\" \\\n",
    "    \"faiss-cpu\" \\\n",
    "    \"langchain\" \\\n",
    "    \"pypdf\" \\\n",
    "    \"unstructured[pdf]\" \\\n",
    "    \"sqlalchemy\" \\\n",
    "    \"pickle5\" \\\n",
    "    \"transformers\""
   ]
  },
  {
   "cell_type": "markdown",
   "metadata": {},
   "source": [
    "# Connecting to aws bedrock service & get a client"
   ]
  },
  {
   "cell_type": "code",
   "execution_count": 2,
   "metadata": {
    "tags": []
   },
   "outputs": [
    {
     "name": "stdout",
     "output_type": "stream",
     "text": [
      "Create new client\n",
      "  Using region: us-west-2\n",
      "  Using role: arn:aws:iam::195364414018:role/Crossaccountbedrock ... successful!\n",
      "boto3 Bedrock client successfully created!\n",
      "bedrock-runtime(https://bedrock-runtime.us-west-2.amazonaws.com)\n"
     ]
    }
   ],
   "source": [
    "import json\n",
    "import os\n",
    "import sys\n",
    "\n",
    "import boto3\n",
    "\n",
    "module_path = \"..\"\n",
    "sys.path.append(os.path.abspath(module_path))\n",
    "from utils import bedrock, print_ww\n",
    "\n",
    "\n",
    "# ---- ⚠️ Un-comment and edit the below lines as needed for your AWS setup ⚠️ ----\n",
    "\n",
    "os.environ[\"AWS_DEFAULT_REGION\"] = \"us-west-2\"  # E.g. \"us-east-1\"\n",
    "# os.environ[\"AWS_PROFILE\"] = \"<YOUR_PROFILE>\"\n",
    "os.environ[\"BEDROCK_ASSUME_ROLE\"] = \"arn:aws:iam::195364414018:role/Crossaccountbedrock\"  # E.g. \"arn:aws:...\"\n",
    "\n",
    "boto3_bedrock = bedrock.get_bedrock_client(\n",
    "    assumed_role=os.environ.get(\"BEDROCK_ASSUME_ROLE\", None),\n",
    "    region=os.environ.get(\"AWS_DEFAULT_REGION\", None)\n",
    ")"
   ]
  },
  {
   "cell_type": "markdown",
   "metadata": {},
   "source": [
    "# Creating object of embedding and llm"
   ]
  },
  {
   "cell_type": "code",
   "execution_count": 3,
   "metadata": {
    "collapsed": false,
    "jupyter": {
     "outputs_hidden": false
    },
    "tags": []
   },
   "outputs": [],
   "source": [
    "from langchain.embeddings import BedrockEmbeddings\n",
    "from langchain.llms.bedrock import Bedrock\n",
    "\n",
    "br_embeddings = BedrockEmbeddings(\n",
    "    model_id=\"amazon.titan-embed-text-v1\", \n",
    "    client=boto3_bedrock\n",
    ")\n",
    "\n",
    "br_llm = Bedrock(\n",
    "    model_id=\"anthropic.claude-v2\",\n",
    "    client=boto3_bedrock,\n",
    "    model_kwargs={\"temperature\":0.1}\n",
    ")\n",
    "\n",
    "is_login=True\n",
    "user=\"MV123456789\""
   ]
  },
  {
   "cell_type": "markdown",
   "metadata": {},
   "source": [
    "# Load PDF files from dir and store in vectorstore"
   ]
  },
  {
   "cell_type": "code",
   "execution_count": 4,
   "metadata": {
    "tags": []
   },
   "outputs": [],
   "source": [
    "from langchain.document_loaders import PyPDFDirectoryLoader, PyPDFLoader, UnstructuredFileLoader\n",
    "from langchain.text_splitter import RecursiveCharacterTextSplitter, CharacterTextSplitter\n",
    "from langchain.vectorstores import FAISS\n",
    "import os\n",
    "\n",
    "chunk_size = 1000\n",
    "chunk_overlap = 500\n",
    "text_splitter = RecursiveCharacterTextSplitter(\n",
    "    chunk_size=chunk_size, \n",
    "    chunk_overlap=chunk_overlap,\n",
    "    length_function = len,\n",
    ")\n"
   ]
  },
  {
   "cell_type": "markdown",
   "metadata": {},
   "source": [
    "# Getting element by element text from PDF to get doc name & element page no."
   ]
  },
  {
   "cell_type": "code",
   "execution_count": 5,
   "metadata": {
    "tags": []
   },
   "outputs": [
    {
     "name": "stderr",
     "output_type": "stream",
     "text": [
      "The PDF <_io.BufferedReader name='public/nmdmg14060.pdf'> contains a metadata field indicating that it should not allow text extraction. Ignoring this field and proceeding. Use the check_extractable if you want to raise an error in this case\n",
      "The PDF <_io.BufferedReader name='public/avivaplus-breakdown-cover-policy-wording.pdf'> contains a metadata field indicating that it should not allow text extraction. Ignoring this field and proceeding. Use the check_extractable if you want to raise an error in this case\n",
      "The PDF <_io.BufferedReader name='public/insurance_motor_car_motor_policy_booklet_241017_NMDMG10249_v3.pdf'> contains a metadata field indicating that it should not allow text extraction. Ignoring this field and proceeding. Use the check_extractable if you want to raise an error in this case\n"
     ]
    },
    {
     "name": "stdout",
     "output_type": "stream",
     "text": [
      "All the elements from PDF is loaded\n"
     ]
    }
   ],
   "source": [
    "elements = []\n",
    "files = os.listdir(\"public/\")\n",
    "for file_name in files:\n",
    "    if file_name.endswith(\".pdf\"):\n",
    "        loader = UnstructuredFileLoader(\"public/\" + file_name, mode=\"elements\", strategy=\"fast\")\n",
    "        elements.extend(loader.load())\n",
    "print(\"All the elements from PDF is loaded\")"
   ]
  },
  {
   "cell_type": "markdown",
   "metadata": {},
   "source": [
    "# With source and page number as unique key, joining all document text and creating pages"
   ]
  },
  {
   "cell_type": "code",
   "execution_count": 6,
   "metadata": {
    "tags": []
   },
   "outputs": [
    {
     "name": "stdout",
     "output_type": "stream",
     "text": [
      "All the pages are splitted\n"
     ]
    }
   ],
   "source": [
    "pages = [elements[0]]\n",
    "for element in elements[1:]:\n",
    "    if pages[-1].metadata['source'] == element.metadata['source'] and pages[-1].metadata['page_number'] == element.metadata['page_number']:\n",
    "        pages[-1].page_content += \" \"+element.page_content\n",
    "    else:\n",
    "        pages.append(element)\n",
    "print(\"All the pages are splitted\")"
   ]
  },
  {
   "cell_type": "markdown",
   "metadata": {},
   "source": [
    "# spliting pages with our custome splitter & generating vector store"
   ]
  },
  {
   "cell_type": "code",
   "execution_count": 7,
   "metadata": {
    "tags": []
   },
   "outputs": [
    {
     "name": "stdout",
     "output_type": "stream",
     "text": [
      "Spliting public/nmdmg14060.pdf page number : 1\n",
      "Spliting public/nmdmg14060.pdf page number : 2\n",
      "Spliting public/insurance-motor-car-motoring-in-europe-241017-NMDMG2918.pdf page number : 1\n",
      "Spliting public/insurance-motor-car-motoring-in-europe-241017-NMDMG2918.pdf page number : 2\n",
      "Spliting public/insurance-motor-car-motoring-in-europe-241017-NMDMG2918.pdf page number : 3\n",
      "Spliting public/insurance-motor-car-motoring-in-europe-241017-NMDMG2918.pdf page number : 4\n",
      "Spliting public/insurance-motor-car-motoring-in-europe-241017-NMDMG2918.pdf page number : 5\n",
      "Spliting public/insurance-motor-car-motoring-in-europe-241017-NMDMG2918.pdf page number : 6\n",
      "Spliting public/insurance-motor-car-motoring-in-europe-241017-NMDMG2918.pdf page number : 7\n",
      "Spliting public/insurance-motor-car-motoring-in-europe-241017-NMDMG2918.pdf page number : 8\n",
      "Spliting public/insurance-motor-car-motoring-in-europe-241017-NMDMG2918.pdf page number : 9\n",
      "Spliting public/insurance-motor-car-motoring-in-europe-241017-NMDMG2918.pdf page number : 10\n",
      "Spliting public/insurance-motor-car-motoring-in-europe-241017-NMDMG2918.pdf page number : 11\n",
      "Spliting public/insurance-motor-car-motoring-in-europe-241017-NMDMG2918.pdf page number : 12\n",
      "Spliting public/insurance-motor-car-motoring-in-europe-241017-NMDMG2918.pdf page number : 13\n",
      "Spliting public/insurance-motor-car-motoring-in-europe-241017-NMDMG2918.pdf page number : 14\n",
      "Spliting public/insurance-motor-car-motoring-in-europe-241017-NMDMG2918.pdf page number : 15\n",
      "Spliting public/insurance-motor-car-motoring-in-europe-241017-NMDMG2918.pdf page number : 16\n",
      "Spliting public/avivaplus-breakdown-cover-policy-wording.pdf page number : 1\n",
      "Spliting public/avivaplus-breakdown-cover-policy-wording.pdf page number : 2\n",
      "Spliting public/avivaplus-breakdown-cover-policy-wording.pdf page number : 3\n",
      "Spliting public/avivaplus-breakdown-cover-policy-wording.pdf page number : 4\n",
      "Spliting public/avivaplus-breakdown-cover-policy-wording.pdf page number : 5\n",
      "Spliting public/avivaplus-breakdown-cover-policy-wording.pdf page number : 6\n",
      "Spliting public/avivaplus-breakdown-cover-policy-wording.pdf page number : 7\n",
      "Spliting public/avivaplus-breakdown-cover-policy-wording.pdf page number : 8\n",
      "Spliting public/avivaplus-breakdown-cover-policy-wording.pdf page number : 9\n",
      "Spliting public/avivaplus-breakdown-cover-policy-wording.pdf page number : 10\n",
      "Spliting public/avivaplus-breakdown-cover-policy-wording.pdf page number : 11\n",
      "Spliting public/avivaplus-breakdown-cover-policy-wording.pdf page number : 12\n",
      "Spliting public/avivaplus-breakdown-cover-policy-wording.pdf page number : 13\n",
      "Spliting public/avivaplus-breakdown-cover-policy-wording.pdf page number : 14\n",
      "Spliting public/avivaplus-breakdown-cover-policy-wording.pdf page number : 15\n",
      "Spliting public/avivaplus-breakdown-cover-policy-wording.pdf page number : 16\n",
      "Spliting public/avivaplus-breakdown-cover-policy-wording.pdf page number : 17\n",
      "Spliting public/avivaplus-breakdown-cover-policy-wording.pdf page number : 18\n",
      "Spliting public/avivaplus-breakdown-cover-policy-wording.pdf page number : 19\n",
      "Spliting public/avivaplus-breakdown-cover-policy-wording.pdf page number : 20\n",
      "Spliting public/ngnag13363.pdf page number : 1\n",
      "Spliting public/insurance_motor_car_motor_policy_booklet_241017_NMDMG10249_v3.pdf page number : 1\n",
      "Spliting public/insurance_motor_car_motor_policy_booklet_241017_NMDMG10249_v3.pdf page number : 2\n",
      "Spliting public/insurance_motor_car_motor_policy_booklet_241017_NMDMG10249_v3.pdf page number : 3\n",
      "Spliting public/insurance_motor_car_motor_policy_booklet_241017_NMDMG10249_v3.pdf page number : 4\n",
      "Spliting public/insurance_motor_car_motor_policy_booklet_241017_NMDMG10249_v3.pdf page number : 5\n",
      "Spliting public/insurance_motor_car_motor_policy_booklet_241017_NMDMG10249_v3.pdf page number : 6\n",
      "Spliting public/insurance_motor_car_motor_policy_booklet_241017_NMDMG10249_v3.pdf page number : 7\n",
      "Spliting public/insurance_motor_car_motor_policy_booklet_241017_NMDMG10249_v3.pdf page number : 8\n",
      "Spliting public/insurance_motor_car_motor_policy_booklet_241017_NMDMG10249_v3.pdf page number : 9\n",
      "Spliting public/insurance_motor_car_motor_policy_booklet_241017_NMDMG10249_v3.pdf page number : 10\n",
      "Spliting public/insurance_motor_car_motor_policy_booklet_241017_NMDMG10249_v3.pdf page number : 11\n",
      "Spliting public/insurance_motor_car_motor_policy_booklet_241017_NMDMG10249_v3.pdf page number : 12\n",
      "Spliting public/insurance_motor_car_motor_policy_booklet_241017_NMDMG10249_v3.pdf page number : 13\n",
      "Spliting public/insurance_motor_car_motor_policy_booklet_241017_NMDMG10249_v3.pdf page number : 14\n",
      "Spliting public/insurance_motor_car_motor_policy_booklet_241017_NMDMG10249_v3.pdf page number : 15\n",
      "Spliting public/insurance_motor_car_motor_policy_booklet_241017_NMDMG10249_v3.pdf page number : 16\n",
      "Spliting public/insurance_motor_car_motor_policy_booklet_241017_NMDMG10249_v3.pdf page number : 17\n",
      "Spliting public/insurance_motor_car_motor_policy_booklet_241017_NMDMG10249_v3.pdf page number : 18\n",
      "Spliting public/insurance_motor_car_motor_policy_booklet_241017_NMDMG10249_v3.pdf page number : 19\n",
      "Spliting public/insurance_motor_car_motor_policy_booklet_241017_NMDMG10249_v3.pdf page number : 20\n",
      "Spliting public/insurance_motor_car_motor_policy_booklet_241017_NMDMG10249_v3.pdf page number : 21\n",
      "Spliting public/insurance_motor_car_motor_policy_booklet_241017_NMDMG10249_v3.pdf page number : 22\n",
      "Spliting public/insurance_motor_car_motor_policy_booklet_241017_NMDMG10249_v3.pdf page number : 23\n",
      "Spliting public/insurance_motor_car_motor_policy_booklet_241017_NMDMG10249_v3.pdf page number : 24\n",
      "Spliting public/insurance_motor_car_motor_policy_booklet_241017_NMDMG10249_v3.pdf page number : 25\n",
      "Spliting public/insurance_motor_car_motor_policy_booklet_241017_NMDMG10249_v3.pdf page number : 26\n",
      "Spliting public/insurance_motor_car_motor_policy_booklet_241017_NMDMG10249_v3.pdf page number : 27\n",
      "Spliting public/insurance_motor_car_motor_policy_booklet_241017_NMDMG10249_v3.pdf page number : 28\n",
      "Spliting public/insurance_motor_car_motor_policy_booklet_241017_NMDMG10249_v3.pdf page number : 29\n",
      "Spliting public/insurance_motor_car_motor_policy_booklet_241017_NMDMG10249_v3.pdf page number : 30\n",
      "Spliting public/insurance_motor_car_motor_policy_booklet_241017_NMDMG10249_v3.pdf page number : 31\n",
      "Spliting public/insurance_motor_car_motor_policy_booklet_241017_NMDMG10249_v3.pdf page number : 32\n",
      "Spliting public/insurance_motor_car_motor_policy_booklet_241017_NMDMG10249_v3.pdf page number : 33\n",
      "Spliting public/insurance_motor_car_motor_policy_booklet_241017_NMDMG10249_v3.pdf page number : 34\n",
      "Spliting public/insurance_motor_car_motor_policy_booklet_241017_NMDMG10249_v3.pdf page number : 35\n",
      "Spliting public/insurance_motor_car_motor_policy_booklet_241017_NMDMG10249_v3.pdf page number : 36\n",
      "Spliting public/insurance-motor-important-information-document-NMDMG10248.pdf page number : 1\n",
      "Spliting public/insurance-motor-important-information-document-NMDMG10248.pdf page number : 2\n",
      "Spliting public/insurance-motor-important-information-document-NMDMG10248.pdf page number : 3\n",
      "Spliting public/insurance-motor-important-information-document-NMDMG10248.pdf page number : 4\n",
      "pub_vs: number of elements in the index=547\n"
     ]
    }
   ],
   "source": [
    "docs, metadata = [], []\n",
    "\n",
    "for i in range(len(pages)):\n",
    "    print(f'Spliting {pages[i].metadata[\"source\"]} page number : {pages[i].metadata[\"page_number\"]}')\n",
    "    splits =  text_splitter.split_text(pages[i].page_content)\n",
    "    docs.extend(splits)\n",
    "    metadata.extend([{\"source\": pages[i].metadata[\"source\"], \"page_number\": pages[i].metadata[\"page_number\"]}] * len(splits))\n",
    "\n",
    "pub_vs = FAISS.from_texts(\n",
    "    docs,\n",
    "    br_embeddings,\n",
    "    metadatas=metadata,\n",
    ")\n",
    "\n",
    "print(f\"pub_vs: number of elements in the index={pub_vs.index.ntotal}\")"
   ]
  },
  {
   "cell_type": "markdown",
   "metadata": {},
   "source": [
    "# Createing vector store for private document "
   ]
  },
  {
   "cell_type": "code",
   "execution_count": 8,
   "metadata": {
    "tags": []
   },
   "outputs": [
    {
     "name": "stdout",
     "output_type": "stream",
     "text": [
      "All the elements from PDF is loaded\n",
      "All the pages are splitted\n",
      "Spliting private/policy_certifcate_multiple_vehicle.pdf page number : 1\n",
      "Spliting private/policy_certifcate_multiple_vehicle.pdf page number : 2\n",
      "Spliting private/policy_certifcate_multiple_vehicle.pdf page number : 3\n",
      "Spliting private/policy_certifcate_multiple_vehicle.pdf page number : 4\n",
      "Spliting private/policy_certifcate_multiple_vehicle.pdf page number : 5\n",
      "Spliting private/policy_certifcate_multiple_vehicle.pdf page number : 6\n",
      "Spliting private/policy_certifcate_multiple_vehicle.pdf page number : 7\n",
      "Spliting private/policy_certifcate_multiple_vehicle.pdf page number : 8\n",
      "Spliting private/policy_certifcate_multiple_vehicle.pdf page number : 9\n",
      "Spliting private/policy_certifcate_multiple_vehicle.pdf page number : 10\n",
      "Spliting private/policy_certifcate_multiple_vehicle.pdf page number : 11\n",
      "Spliting private/policy_certifcate_multiple_vehicle.pdf page number : 12\n",
      "Spliting private/policy_certifcate_multiple_vehicle.pdf page number : 13\n",
      "Spliting private/policy_certifcate_multiple_vehicle.pdf page number : 14\n",
      "Spliting private/policy_certifcate_multiple_vehicle.pdf page number : 15\n",
      "Spliting private/policy_certifcate_multiple_vehicle.pdf page number : 16\n",
      "Spliting private/policy_certifcate_multiple_vehicle.pdf page number : 17\n",
      "pvt_vs: number of elements in the index=62\n"
     ]
    }
   ],
   "source": [
    "loader = UnstructuredFileLoader(\"private/policy_certifcate_multiple_vehicle.pdf\", mode=\"elements\", strategy=\"fast\")\n",
    "elements = loader.load()\n",
    "print(\"All the elements from PDF is loaded\")\n",
    "\n",
    "pages = [elements[0]]\n",
    "for element in elements[1:]:\n",
    "    if pages[-1].metadata['source'] == element.metadata['source'] and pages[-1].metadata['page_number'] == element.metadata['page_number']:\n",
    "        pages[-1].page_content += \" \"+element.page_content\n",
    "    else:\n",
    "        pages.append(element)\n",
    "print(\"All the pages are splitted\")\n",
    "\n",
    "        \n",
    "docs, metadata = [], []\n",
    "\n",
    "for i in range(len(pages)):\n",
    "    print(f'Spliting {pages[i].metadata[\"source\"]} page number : {pages[i].metadata[\"page_number\"]}')\n",
    "    splits =  text_splitter.split_text(pages[i].page_content)\n",
    "    docs.extend(splits)\n",
    "    metadata.extend([{\"source\": pages[i].metadata[\"source\"], \"page_number\": pages[i].metadata[\"page_number\"]}] * len(splits))\n",
    "\n",
    "pvt_vs = FAISS.from_texts(\n",
    "    docs,\n",
    "    br_embeddings,\n",
    "    metadatas=metadata,\n",
    ")\n",
    "\n",
    "print(f\"pvt_vs: number of elements in the index={pvt_vs.index.ntotal}\")"
   ]
  },
  {
   "cell_type": "markdown",
   "metadata": {},
   "source": [
    "# Save vector store for later use "
   ]
  },
  {
   "cell_type": "code",
   "execution_count": 9,
   "metadata": {
    "tags": []
   },
   "outputs": [],
   "source": [
    "# import pickle\n",
    "# print(type(pub_vs))\n",
    "# with open(\"pub_vs.pkl\", \"wb\") as f:\n",
    "#     pickle.dump(pub_vs, f)"
   ]
  },
  {
   "cell_type": "markdown",
   "metadata": {},
   "source": [
    "# Adding index wapper to vector store for faster querying"
   ]
  },
  {
   "cell_type": "code",
   "execution_count": 35,
   "metadata": {
    "tags": []
   },
   "outputs": [
    {
     "name": "stdout",
     "output_type": "stream",
     "text": [
      "Test run query in pub_vs_index:\n",
      " Based on the provided context, this question is answerable. The policy covers the following\n",
      "vehicles:\n",
      "\n",
      "- The motor vehicle described in your schedule.\n",
      "\n",
      "- Any motor vehicle loaned to a permitted driver as shown on your certificate of motor insurance by\n",
      "a supplier nominated by the insurer following a claim.\n",
      "\n",
      "- Any motor vehicle not exceeding 3.5 tonnes gross vehicle weight loaned to a permitted driver for\n",
      "up to 7 days by a garage, motor engineer or vehicle repairer while the insured motor vehicle is\n",
      "being serviced, repaired or having an MOT test.\n",
      "\n",
      "Therefore, the answer is TRUE.\n",
      "Test run query in pvt_vs_index:\n",
      " TRUE\n"
     ]
    }
   ],
   "source": [
    "from langchain.indexes.vectorstore import VectorStoreIndexWrapper\n",
    "pub_vs_index = VectorStoreIndexWrapper(vectorstore=pub_vs)\n",
    "# print(\"Test run query in pub_vs_index:\")\n",
    "# query = \"What are the vehicles covered in the policy?\"\n",
    "# print_ww(pub_vs_index.query(f\"'{query}' is this question answerable ? please return only 'TRUE' keyword if it is answerable else 'FALSE' keyword\", llm=br_llm))\n",
    "\n",
    "pvt_vs_index = VectorStoreIndexWrapper(vectorstore=pvt_vs)\n",
    "# print(\"Test run query in pvt_vs_index:\")\n",
    "# print_ww(pvt_vs_index.query(f\"'{query}' is this question answerable ? please return only 'TRUE' keywrod if it is answerable else 'FALSE' keyword\", llm=br_llm))"
   ]
  },
  {
   "cell_type": "markdown",
   "metadata": {
    "tags": []
   },
   "source": [
    "# Creating a function to extract context from pub and pvt PDFS."
   ]
  },
  {
   "cell_type": "code",
   "execution_count": 58,
   "metadata": {
    "tags": []
   },
   "outputs": [],
   "source": [
    "def get_pub_context(query):\n",
    "    print(\"Getting PDF context from pub_vs_index\")\n",
    "    pub_context=\"\"\n",
    "    for k, i in enumerate(pub_vs_index.vectorstore.similarity_search(query, k=1)):\n",
    "        # pub_context += f\"Source Document - {i.metadata['source']}\\nPage Number - {i.metadata['page_number']}\\nContext - {i.page_content}\\n\"\n",
    "        pub_context = {\n",
    "            \"source\": i.metadata['source'],\n",
    "            \"page_number\": i.metadata['page_number'],\n",
    "            \"context\": i.page_content,\n",
    "        }\n",
    "    return pub_context\n",
    "\n",
    "def get_pvt_context(query):\n",
    "    print(\"Getting PDF context from pvt_vs_index\")\n",
    "    pvt_context = \"\"\n",
    "    for k, i in enumerate(pvt_vs_index.vectorstore.similarity_search(query, k=1)):\n",
    "        # pvt_context += f\"Source Document - {i.metadata['source']}\\nPage Number - {i.metadata['page_number']}\\nContext - {i.page_content}\\n\"\n",
    "        pvt_context = {\n",
    "            \"source\": i.metadata['source'],\n",
    "            \"page_number\": i.metadata['page_number'],\n",
    "            \"context\": i.page_content,\n",
    "        }\n",
    "    return pvt_context\n",
    "\n",
    "def get_pdf_context(query):\n",
    "    \n",
    "    search_text = [\"I\", \"MY\", \"MYSELF\", \"WE\", \"MINE\", \"ME\", \"OUR\", \"OURS\", \"HIMSELF\", \"HERSELF\"]\n",
    "    for search in search_text:\n",
    "        if search in query.upper().split(\" \"):\n",
    "            pvt_context = get_pvt_context(query)\n",
    "            return [pvt_context]\n",
    "        \n",
    "    template = \"\"\"\n",
    "    You are TRUE or FALSE answering bot, you will only retrun keyword 'TRUE' if the user query is answerable else 'FALSE'.\n",
    "    User Query : {query}\n",
    "    \"\"\"\n",
    "    pub_result = pub_vs_index.query(template.format(query=query), llm=br_llm)\n",
    "    # print(f\"pub_result : {pub_result}\")\n",
    "    pvt_result = pvt_vs_index.query(template.format(query=query), llm=br_llm)\n",
    "    # print(f\"pvt_result : {pvt_result}\")\n",
    "    if \"TRUE\" in str(pvt_result) and \"TRUE\" in str(pub_result):\n",
    "        pub_context = get_pub_context(query)\n",
    "        pvt_context = get_pvt_context(query)\n",
    "        return [pvt_context, pub_context]\n",
    "    elif \"TRUE\" in str(pvt_result) and \"FALSE\" in str(pub_result):\n",
    "        pvt_context = get_pvt_context(query)\n",
    "        return [pvt_context]\n",
    "    elif \"FALSE\" in str(pvt_result) and \"TRUE\" in str(pub_result):\n",
    "        pub_context = get_pub_context(query)\n",
    "        return [pub_context]\n",
    "    else:\n",
    "        return  [{\n",
    "            \"source\": \"NA\",\n",
    "            \"page_number\": 0,\n",
    "            \"context\": \"This is out of context!!!\",\n",
    "        }]"
   ]
  },
  {
   "cell_type": "code",
   "execution_count": 60,
   "metadata": {
    "tags": []
   },
   "outputs": [
    {
     "name": "stdout",
     "output_type": "stream",
     "text": [
      "Getting PDF context from pvt_vs_index\n",
      "1\n",
      "[{'source': 'private/policy_certifcate_multiple_vehicle.pdf', 'page_number': 11, 'context': 'vehicles’ section will show which cover you have. Comprehensive Loss of or damage to your vehicle - Non manufacturer fitted accessories limit - Manufacturer fitted accessories limit - New vehicle replacement Your liability - Third party property damage limit - Third party property damage limit - hazardous goods and locations - Terrorism limit - Claimant costs limit Motor Injury Protection - Single claim limit - Annual claim limit Medical Expenses - Medical Expenses limit Personal Belongings - Personal Belongings limit Child Seat - Child Seat limit Tool Cover - Tool cover limit Vehicle Recovery - Vehicle Recovery due to illness Replacement Locks - Replacement Locks Glass - Approved Repairer windscreen replacement limit - Non approved Repairer windscreen replacement limit - Windscreen replacement excess - Windscreen repair excess Uninsured Driver Promise - Uninsured Driver Promise £1,000 per claim unlimited £20 million £1.20 million £5 million £5 million £5,000 per person, per claim'}]\n"
     ]
    }
   ],
   "source": [
    "query = \" I've had an accident, car will be off the road for 3 weeks to repair. 'Does my insurance have courtesy car cover'?\"\n",
    "context = get_pdf_context(query)\n",
    "print(len(context))\n",
    "print(context)"
   ]
  },
  {
   "cell_type": "markdown",
   "metadata": {},
   "source": [
    "# Creating Chat History Memory"
   ]
  },
  {
   "cell_type": "code",
   "execution_count": 61,
   "metadata": {
    "tags": []
   },
   "outputs": [],
   "source": [
    "from langchain.memory import ConversationBufferWindowMemory, ConversationSummaryMemory # llm \n",
    "\n",
    "# store previous interactions using ConversationalBufferMemory and add custom prompts to the chat.\n",
    "memory = ConversationBufferWindowMemory(\n",
    "    # llm=br_llm,\n",
    "    input_key=\"customer_query\",\n",
    "    memory_key=\"history\", \n",
    "    return_messages=False, \n",
    "    k=3,\n",
    "    ai_prefix=\"Assistant\",\n",
    "    human_prefix=\"Human\",\n",
    ")"
   ]
  },
  {
   "cell_type": "markdown",
   "metadata": {},
   "source": [
    "# Prompt template for chain"
   ]
  },
  {
   "cell_type": "code",
   "execution_count": 62,
   "metadata": {},
   "outputs": [],
   "source": [
    "from langchain.prompts.prompt import PromptTemplate\n",
    "\n",
    "_one_context_template = \"\"\"\n",
    "{history}\n",
    "\n",
    "Human: In the context of \"{context}\", can you answer on the below question \"{customer_query}\" and copy them out word-for-word from the context. If you couldn't find any relevant context, please reply to customer politely that you don't know the answer to the question could they mind rephrasing the question.\n",
    "\n",
    "Assistant:\n",
    "\"\"\"\n",
    "ONE_CONTEXT_PROMPT = PromptTemplate(template=_one_context_template, input_variables=[\"customer_query\", \"context\", \"history\"])"
   ]
  },
  {
   "cell_type": "code",
   "execution_count": 63,
   "metadata": {
    "tags": []
   },
   "outputs": [],
   "source": [
    "from langchain.prompts.prompt import PromptTemplate\n",
    "\n",
    "_two_context_template = \"\"\"\n",
    "{history}\n",
    "\n",
    "Human: In the context of \"{pvt_context}\" and \"{pub_context}\", can you answer on the below question \"{customer_query}\" and copy them out word-for-word from the context. First provide insights from \"{pvt_context}\" then discuss infomation from \"{pub_context}\".\n",
    "\n",
    "Assistant:\n",
    "\"\"\"\n",
    "TWO_CONTEXT_PROMPT = PromptTemplate(template=_two_context_template, input_variables=[\"customer_query\", \"pub_context\", \"pvt_context\", \"history\"])"
   ]
  },
  {
   "cell_type": "code",
   "execution_count": 64,
   "metadata": {
    "tags": []
   },
   "outputs": [],
   "source": [
    "# turn verbose to True to see the full logs and documents\n",
    "from langchain.chains import LLMChain\n",
    "    \n",
    "def ask_copilot(query):\n",
    "    context = get_pdf_context(query)\n",
    "    if len(context) == 1:\n",
    "        qa = LLMChain(\n",
    "            llm=br_llm, \n",
    "            verbose=False, \n",
    "            prompt=ONE_CONTEXT_PROMPT,\n",
    "            memory=memory,\n",
    "        )\n",
    "        ai_result = qa.predict(customer_query=query, context=context[0]['context'])\n",
    "        return_result = {\n",
    "            \"result_message\":str(ai_result),\n",
    "            \"source\":[context[0]['source']],\n",
    "            \"page_number\":[context[0]['page_number']],\n",
    "            \"search_text\":[context[0]['context']],\n",
    "        }\n",
    "    elif len(context) == 2:\n",
    "        qa = LLMChain(\n",
    "            llm=br_llm, \n",
    "            verbose=False, \n",
    "            prompt=TWO_CONTEXT_PROMPT,\n",
    "            memory=memory,\n",
    "        )\n",
    "        ai_result = qa.predict(customer_query=query, pvt_context=context[0]['context'], pub_context=context[1]['context'])\n",
    "        return_result = {\n",
    "            \"result_message\":str(ai_result),\n",
    "            \"source\":[context[0]['source'], context[1]['source']],\n",
    "            \"page_number\":[context[0]['page_number'], context[1]['page_number']],\n",
    "            \"search_text\":[context[0]['context'], context[1]['context']],\n",
    "        }\n",
    "    print(f\"AI Result = {return_result['result_message']}\\n\")\n",
    "    print(f\"Source Document = {return_result['source']}\\n\")\n",
    "    print(f\"Page Number = {return_result['page_number']}\\n\")\n",
    "    print(f\"Search Text = {return_result['search_text']}\\n\")\n",
    "    return return_result"
   ]
  },
  {
   "cell_type": "code",
   "execution_count": 65,
   "metadata": {
    "tags": []
   },
   "outputs": [
    {
     "name": "stdout",
     "output_type": "stream",
     "text": [
      "Getting PDF context from pvt_vs_index\n",
      "AI Result =  The name of the Principal policyholder is Mr. Test Tester.\n",
      "\n",
      "Source Document = ['private/policy_certifcate_multiple_vehicle.pdf']\n",
      "\n",
      "Page Number = [10]\n",
      "\n",
      "Search Text = ['Principal policyholder: Mr. Test Tester Address: 77 Music House Lane, Norwich, NR1 1QN Contact number: 07459617348 Policy number: MMV070055371 Period of insurance: 14.09 on 27 September 2023 to 23.59 on 26 September 2024 Your total premium is £3,677.00 Payment Method - Annual This includes Insurance Premium Tax (IPT) at the appropriate rate where applicable. This premium is based on the information you have provided. Any change affecting any vehicles could result in a change of premium. Your Demands and Needs Statement Following your enquiry, the information detailed below indicates the demands and needs you stated for your insurance requirements. Important Information You should note that we have not taken into account any existing insurance arrangements you may have. Please read the below information carefully. It is a record of the statement made and the information given by you when obtaining a quote and does not constitute a personal recommendation. If you are satisfied that to']\n",
      "\n"
     ]
    }
   ],
   "source": [
    "result = ask_copilot(\"What is the name of Principal policyholder?\")"
   ]
  },
  {
   "cell_type": "code",
   "execution_count": 66,
   "metadata": {
    "tags": []
   },
   "outputs": [
    {
     "name": "stdout",
     "output_type": "stream",
     "text": [
      "Getting PDF context from pvt_vs_index\n",
      "AI Result =  Cancellation fee £38 (exc IPT)\n",
      "\n",
      "Source Document = ['private/policy_certifcate_multiple_vehicle.pdf']\n",
      "\n",
      "Page Number = [12]\n",
      "\n",
      "Search Text = [\"-*- Demonstration Powered by OpenText Exstream 09/27/2023, Version 16.6.32 32-bit -*- Your policy schedule - continued Young driver excess - Young driver excess - under 21's - Young driver excess - 21-24 year olds Non approved repairer excess - Non approved repairer excess £300 per claim £200 per claim £200 per claim Your fees Cancellation fee £38 (exc IPT) Clauses applicable The following are special terms and conditions which should be read in conjunction with your Policy Booklet. Clauses applicable to the Vehicles section Opt out of Courtesy Vehicle Benefit Courtesy Vehicle cover for vehicle registration numbers(s) AU53ZWM and A1 has been removed from Section 1 of the policy. Aviva Insurance Limited. Registered in Scotland, No. 2116. Registered Office: Pitheavlis, Perth PH2 0NH. Authorised by the Prudential Regulation Authority and regulated by the Financial Conduct Authority and the Prudential Regulation Authority.\"]\n",
      "\n"
     ]
    }
   ],
   "source": [
    "result = ask_copilot(\"What will be my Cancellation fees and charges?\")"
   ]
  },
  {
   "cell_type": "code",
   "execution_count": 67,
   "metadata": {
    "tags": []
   },
   "outputs": [
    {
     "name": "stdout",
     "output_type": "stream",
     "text": [
      "Getting PDF context from pvt_vs_index\n",
      "AI Result =  Unfortunately I do not have enough context to definitively answer whether your insurance policy includes courtesy car cover. Could you please rephrase the question or provide more details? I want to make sure I give you an accurate answer.\n",
      "\n",
      "Source Document = ['private/policy_certifcate_multiple_vehicle.pdf']\n",
      "\n",
      "Page Number = [11]\n",
      "\n",
      "Search Text = ['vehicles’ section will show which cover you have. Comprehensive Loss of or damage to your vehicle - Non manufacturer fitted accessories limit - Manufacturer fitted accessories limit - New vehicle replacement Your liability - Third party property damage limit - Third party property damage limit - hazardous goods and locations - Terrorism limit - Claimant costs limit Motor Injury Protection - Single claim limit - Annual claim limit Medical Expenses - Medical Expenses limit Personal Belongings - Personal Belongings limit Child Seat - Child Seat limit Tool Cover - Tool cover limit Vehicle Recovery - Vehicle Recovery due to illness Replacement Locks - Replacement Locks Glass - Approved Repairer windscreen replacement limit - Non approved Repairer windscreen replacement limit - Windscreen replacement excess - Windscreen repair excess Uninsured Driver Promise - Uninsured Driver Promise £1,000 per claim unlimited £20 million £1.20 million £5 million £5 million £5,000 per person, per claim']\n",
      "\n"
     ]
    }
   ],
   "source": [
    "result = ask_copilot(\" I've had an accident, car will be off the road for 3 weeks to repair. 'Does my insurance have courtesy car cover'?\")"
   ]
  },
  {
   "cell_type": "code",
   "execution_count": 69,
   "metadata": {
    "tags": []
   },
   "outputs": [
    {
     "name": "stdout",
     "output_type": "stream",
     "text": [
      "Getting PDF context from pub_vs_index\n",
      "AI Result =  Based on the context provided, the answer is:\n",
      "\n",
      "\"Yes, a named driver on the policy can drive the damaged vehicle, as long as the certificate of motor insurance allows that person to drive the motor vehicle.\"\n",
      "\n",
      "Source Document = ['public/insurance_motor_car_motor_policy_booklet_241017_NMDMG10249_v3.pdf']\n",
      "\n",
      "Page Number = [6]\n",
      "\n",
      "Search Text = ['that person to drive the motor vehicle. Where the vehicle policyholder is the owner/registered keeper of the vehicle any benefits which may be due under Sections 1, 3, 6, 7, 9 and 11 may be paid, at our discretion to them instead of the principal policyholder named in your schedule. Named driver Person nominated by the principal policyholder as being a user (but not the main user) of any motor vehicle insured under this policy as described in your schedule, providing the certificate of motor insurance allows that person to drive the motor vehicle (Named drivers are not entitled to benefits provided under Section 2 – Driving other cars). Software Any software, safety critical software, firmware, operating systems, electrical control systems, data, data storage materials, telecommunication links or any reliance on recognising, using or adopting any date, day of the week or period of time, other than the true or correct date, day of the week or period of time Territorial limits Great']\n",
      "\n"
     ]
    }
   ],
   "source": [
    "result = ask_copilot(\" A named driver is added on the policy - 'Can they drive the vehicle'?\")"
   ]
  },
  {
   "cell_type": "code",
   "execution_count": null,
   "metadata": {},
   "outputs": [],
   "source": []
  }
 ],
 "metadata": {
  "availableInstances": [
   {
    "_defaultOrder": 0,
    "_isFastLaunch": true,
    "category": "General purpose",
    "gpuNum": 0,
    "hideHardwareSpecs": false,
    "memoryGiB": 4,
    "name": "ml.t3.medium",
    "vcpuNum": 2
   },
   {
    "_defaultOrder": 1,
    "_isFastLaunch": false,
    "category": "General purpose",
    "gpuNum": 0,
    "hideHardwareSpecs": false,
    "memoryGiB": 8,
    "name": "ml.t3.large",
    "vcpuNum": 2
   },
   {
    "_defaultOrder": 2,
    "_isFastLaunch": false,
    "category": "General purpose",
    "gpuNum": 0,
    "hideHardwareSpecs": false,
    "memoryGiB": 16,
    "name": "ml.t3.xlarge",
    "vcpuNum": 4
   },
   {
    "_defaultOrder": 3,
    "_isFastLaunch": false,
    "category": "General purpose",
    "gpuNum": 0,
    "hideHardwareSpecs": false,
    "memoryGiB": 32,
    "name": "ml.t3.2xlarge",
    "vcpuNum": 8
   },
   {
    "_defaultOrder": 4,
    "_isFastLaunch": true,
    "category": "General purpose",
    "gpuNum": 0,
    "hideHardwareSpecs": false,
    "memoryGiB": 8,
    "name": "ml.m5.large",
    "vcpuNum": 2
   },
   {
    "_defaultOrder": 5,
    "_isFastLaunch": false,
    "category": "General purpose",
    "gpuNum": 0,
    "hideHardwareSpecs": false,
    "memoryGiB": 16,
    "name": "ml.m5.xlarge",
    "vcpuNum": 4
   },
   {
    "_defaultOrder": 6,
    "_isFastLaunch": false,
    "category": "General purpose",
    "gpuNum": 0,
    "hideHardwareSpecs": false,
    "memoryGiB": 32,
    "name": "ml.m5.2xlarge",
    "vcpuNum": 8
   },
   {
    "_defaultOrder": 7,
    "_isFastLaunch": false,
    "category": "General purpose",
    "gpuNum": 0,
    "hideHardwareSpecs": false,
    "memoryGiB": 64,
    "name": "ml.m5.4xlarge",
    "vcpuNum": 16
   },
   {
    "_defaultOrder": 8,
    "_isFastLaunch": false,
    "category": "General purpose",
    "gpuNum": 0,
    "hideHardwareSpecs": false,
    "memoryGiB": 128,
    "name": "ml.m5.8xlarge",
    "vcpuNum": 32
   },
   {
    "_defaultOrder": 9,
    "_isFastLaunch": false,
    "category": "General purpose",
    "gpuNum": 0,
    "hideHardwareSpecs": false,
    "memoryGiB": 192,
    "name": "ml.m5.12xlarge",
    "vcpuNum": 48
   },
   {
    "_defaultOrder": 10,
    "_isFastLaunch": false,
    "category": "General purpose",
    "gpuNum": 0,
    "hideHardwareSpecs": false,
    "memoryGiB": 256,
    "name": "ml.m5.16xlarge",
    "vcpuNum": 64
   },
   {
    "_defaultOrder": 11,
    "_isFastLaunch": false,
    "category": "General purpose",
    "gpuNum": 0,
    "hideHardwareSpecs": false,
    "memoryGiB": 384,
    "name": "ml.m5.24xlarge",
    "vcpuNum": 96
   },
   {
    "_defaultOrder": 12,
    "_isFastLaunch": false,
    "category": "General purpose",
    "gpuNum": 0,
    "hideHardwareSpecs": false,
    "memoryGiB": 8,
    "name": "ml.m5d.large",
    "vcpuNum": 2
   },
   {
    "_defaultOrder": 13,
    "_isFastLaunch": false,
    "category": "General purpose",
    "gpuNum": 0,
    "hideHardwareSpecs": false,
    "memoryGiB": 16,
    "name": "ml.m5d.xlarge",
    "vcpuNum": 4
   },
   {
    "_defaultOrder": 14,
    "_isFastLaunch": false,
    "category": "General purpose",
    "gpuNum": 0,
    "hideHardwareSpecs": false,
    "memoryGiB": 32,
    "name": "ml.m5d.2xlarge",
    "vcpuNum": 8
   },
   {
    "_defaultOrder": 15,
    "_isFastLaunch": false,
    "category": "General purpose",
    "gpuNum": 0,
    "hideHardwareSpecs": false,
    "memoryGiB": 64,
    "name": "ml.m5d.4xlarge",
    "vcpuNum": 16
   },
   {
    "_defaultOrder": 16,
    "_isFastLaunch": false,
    "category": "General purpose",
    "gpuNum": 0,
    "hideHardwareSpecs": false,
    "memoryGiB": 128,
    "name": "ml.m5d.8xlarge",
    "vcpuNum": 32
   },
   {
    "_defaultOrder": 17,
    "_isFastLaunch": false,
    "category": "General purpose",
    "gpuNum": 0,
    "hideHardwareSpecs": false,
    "memoryGiB": 192,
    "name": "ml.m5d.12xlarge",
    "vcpuNum": 48
   },
   {
    "_defaultOrder": 18,
    "_isFastLaunch": false,
    "category": "General purpose",
    "gpuNum": 0,
    "hideHardwareSpecs": false,
    "memoryGiB": 256,
    "name": "ml.m5d.16xlarge",
    "vcpuNum": 64
   },
   {
    "_defaultOrder": 19,
    "_isFastLaunch": false,
    "category": "General purpose",
    "gpuNum": 0,
    "hideHardwareSpecs": false,
    "memoryGiB": 384,
    "name": "ml.m5d.24xlarge",
    "vcpuNum": 96
   },
   {
    "_defaultOrder": 20,
    "_isFastLaunch": false,
    "category": "General purpose",
    "gpuNum": 0,
    "hideHardwareSpecs": true,
    "memoryGiB": 0,
    "name": "ml.geospatial.interactive",
    "supportedImageNames": [
     "sagemaker-geospatial-v1-0"
    ],
    "vcpuNum": 0
   },
   {
    "_defaultOrder": 21,
    "_isFastLaunch": true,
    "category": "Compute optimized",
    "gpuNum": 0,
    "hideHardwareSpecs": false,
    "memoryGiB": 4,
    "name": "ml.c5.large",
    "vcpuNum": 2
   },
   {
    "_defaultOrder": 22,
    "_isFastLaunch": false,
    "category": "Compute optimized",
    "gpuNum": 0,
    "hideHardwareSpecs": false,
    "memoryGiB": 8,
    "name": "ml.c5.xlarge",
    "vcpuNum": 4
   },
   {
    "_defaultOrder": 23,
    "_isFastLaunch": false,
    "category": "Compute optimized",
    "gpuNum": 0,
    "hideHardwareSpecs": false,
    "memoryGiB": 16,
    "name": "ml.c5.2xlarge",
    "vcpuNum": 8
   },
   {
    "_defaultOrder": 24,
    "_isFastLaunch": false,
    "category": "Compute optimized",
    "gpuNum": 0,
    "hideHardwareSpecs": false,
    "memoryGiB": 32,
    "name": "ml.c5.4xlarge",
    "vcpuNum": 16
   },
   {
    "_defaultOrder": 25,
    "_isFastLaunch": false,
    "category": "Compute optimized",
    "gpuNum": 0,
    "hideHardwareSpecs": false,
    "memoryGiB": 72,
    "name": "ml.c5.9xlarge",
    "vcpuNum": 36
   },
   {
    "_defaultOrder": 26,
    "_isFastLaunch": false,
    "category": "Compute optimized",
    "gpuNum": 0,
    "hideHardwareSpecs": false,
    "memoryGiB": 96,
    "name": "ml.c5.12xlarge",
    "vcpuNum": 48
   },
   {
    "_defaultOrder": 27,
    "_isFastLaunch": false,
    "category": "Compute optimized",
    "gpuNum": 0,
    "hideHardwareSpecs": false,
    "memoryGiB": 144,
    "name": "ml.c5.18xlarge",
    "vcpuNum": 72
   },
   {
    "_defaultOrder": 28,
    "_isFastLaunch": false,
    "category": "Compute optimized",
    "gpuNum": 0,
    "hideHardwareSpecs": false,
    "memoryGiB": 192,
    "name": "ml.c5.24xlarge",
    "vcpuNum": 96
   },
   {
    "_defaultOrder": 29,
    "_isFastLaunch": true,
    "category": "Accelerated computing",
    "gpuNum": 1,
    "hideHardwareSpecs": false,
    "memoryGiB": 16,
    "name": "ml.g4dn.xlarge",
    "vcpuNum": 4
   },
   {
    "_defaultOrder": 30,
    "_isFastLaunch": false,
    "category": "Accelerated computing",
    "gpuNum": 1,
    "hideHardwareSpecs": false,
    "memoryGiB": 32,
    "name": "ml.g4dn.2xlarge",
    "vcpuNum": 8
   },
   {
    "_defaultOrder": 31,
    "_isFastLaunch": false,
    "category": "Accelerated computing",
    "gpuNum": 1,
    "hideHardwareSpecs": false,
    "memoryGiB": 64,
    "name": "ml.g4dn.4xlarge",
    "vcpuNum": 16
   },
   {
    "_defaultOrder": 32,
    "_isFastLaunch": false,
    "category": "Accelerated computing",
    "gpuNum": 1,
    "hideHardwareSpecs": false,
    "memoryGiB": 128,
    "name": "ml.g4dn.8xlarge",
    "vcpuNum": 32
   },
   {
    "_defaultOrder": 33,
    "_isFastLaunch": false,
    "category": "Accelerated computing",
    "gpuNum": 4,
    "hideHardwareSpecs": false,
    "memoryGiB": 192,
    "name": "ml.g4dn.12xlarge",
    "vcpuNum": 48
   },
   {
    "_defaultOrder": 34,
    "_isFastLaunch": false,
    "category": "Accelerated computing",
    "gpuNum": 1,
    "hideHardwareSpecs": false,
    "memoryGiB": 256,
    "name": "ml.g4dn.16xlarge",
    "vcpuNum": 64
   },
   {
    "_defaultOrder": 35,
    "_isFastLaunch": false,
    "category": "Accelerated computing",
    "gpuNum": 1,
    "hideHardwareSpecs": false,
    "memoryGiB": 61,
    "name": "ml.p3.2xlarge",
    "vcpuNum": 8
   },
   {
    "_defaultOrder": 36,
    "_isFastLaunch": false,
    "category": "Accelerated computing",
    "gpuNum": 4,
    "hideHardwareSpecs": false,
    "memoryGiB": 244,
    "name": "ml.p3.8xlarge",
    "vcpuNum": 32
   },
   {
    "_defaultOrder": 37,
    "_isFastLaunch": false,
    "category": "Accelerated computing",
    "gpuNum": 8,
    "hideHardwareSpecs": false,
    "memoryGiB": 488,
    "name": "ml.p3.16xlarge",
    "vcpuNum": 64
   },
   {
    "_defaultOrder": 38,
    "_isFastLaunch": false,
    "category": "Accelerated computing",
    "gpuNum": 8,
    "hideHardwareSpecs": false,
    "memoryGiB": 768,
    "name": "ml.p3dn.24xlarge",
    "vcpuNum": 96
   },
   {
    "_defaultOrder": 39,
    "_isFastLaunch": false,
    "category": "Memory Optimized",
    "gpuNum": 0,
    "hideHardwareSpecs": false,
    "memoryGiB": 16,
    "name": "ml.r5.large",
    "vcpuNum": 2
   },
   {
    "_defaultOrder": 40,
    "_isFastLaunch": false,
    "category": "Memory Optimized",
    "gpuNum": 0,
    "hideHardwareSpecs": false,
    "memoryGiB": 32,
    "name": "ml.r5.xlarge",
    "vcpuNum": 4
   },
   {
    "_defaultOrder": 41,
    "_isFastLaunch": false,
    "category": "Memory Optimized",
    "gpuNum": 0,
    "hideHardwareSpecs": false,
    "memoryGiB": 64,
    "name": "ml.r5.2xlarge",
    "vcpuNum": 8
   },
   {
    "_defaultOrder": 42,
    "_isFastLaunch": false,
    "category": "Memory Optimized",
    "gpuNum": 0,
    "hideHardwareSpecs": false,
    "memoryGiB": 128,
    "name": "ml.r5.4xlarge",
    "vcpuNum": 16
   },
   {
    "_defaultOrder": 43,
    "_isFastLaunch": false,
    "category": "Memory Optimized",
    "gpuNum": 0,
    "hideHardwareSpecs": false,
    "memoryGiB": 256,
    "name": "ml.r5.8xlarge",
    "vcpuNum": 32
   },
   {
    "_defaultOrder": 44,
    "_isFastLaunch": false,
    "category": "Memory Optimized",
    "gpuNum": 0,
    "hideHardwareSpecs": false,
    "memoryGiB": 384,
    "name": "ml.r5.12xlarge",
    "vcpuNum": 48
   },
   {
    "_defaultOrder": 45,
    "_isFastLaunch": false,
    "category": "Memory Optimized",
    "gpuNum": 0,
    "hideHardwareSpecs": false,
    "memoryGiB": 512,
    "name": "ml.r5.16xlarge",
    "vcpuNum": 64
   },
   {
    "_defaultOrder": 46,
    "_isFastLaunch": false,
    "category": "Memory Optimized",
    "gpuNum": 0,
    "hideHardwareSpecs": false,
    "memoryGiB": 768,
    "name": "ml.r5.24xlarge",
    "vcpuNum": 96
   },
   {
    "_defaultOrder": 47,
    "_isFastLaunch": false,
    "category": "Accelerated computing",
    "gpuNum": 1,
    "hideHardwareSpecs": false,
    "memoryGiB": 16,
    "name": "ml.g5.xlarge",
    "vcpuNum": 4
   },
   {
    "_defaultOrder": 48,
    "_isFastLaunch": false,
    "category": "Accelerated computing",
    "gpuNum": 1,
    "hideHardwareSpecs": false,
    "memoryGiB": 32,
    "name": "ml.g5.2xlarge",
    "vcpuNum": 8
   },
   {
    "_defaultOrder": 49,
    "_isFastLaunch": false,
    "category": "Accelerated computing",
    "gpuNum": 1,
    "hideHardwareSpecs": false,
    "memoryGiB": 64,
    "name": "ml.g5.4xlarge",
    "vcpuNum": 16
   },
   {
    "_defaultOrder": 50,
    "_isFastLaunch": false,
    "category": "Accelerated computing",
    "gpuNum": 1,
    "hideHardwareSpecs": false,
    "memoryGiB": 128,
    "name": "ml.g5.8xlarge",
    "vcpuNum": 32
   },
   {
    "_defaultOrder": 51,
    "_isFastLaunch": false,
    "category": "Accelerated computing",
    "gpuNum": 1,
    "hideHardwareSpecs": false,
    "memoryGiB": 256,
    "name": "ml.g5.16xlarge",
    "vcpuNum": 64
   },
   {
    "_defaultOrder": 52,
    "_isFastLaunch": false,
    "category": "Accelerated computing",
    "gpuNum": 4,
    "hideHardwareSpecs": false,
    "memoryGiB": 192,
    "name": "ml.g5.12xlarge",
    "vcpuNum": 48
   },
   {
    "_defaultOrder": 53,
    "_isFastLaunch": false,
    "category": "Accelerated computing",
    "gpuNum": 4,
    "hideHardwareSpecs": false,
    "memoryGiB": 384,
    "name": "ml.g5.24xlarge",
    "vcpuNum": 96
   },
   {
    "_defaultOrder": 54,
    "_isFastLaunch": false,
    "category": "Accelerated computing",
    "gpuNum": 8,
    "hideHardwareSpecs": false,
    "memoryGiB": 768,
    "name": "ml.g5.48xlarge",
    "vcpuNum": 192
   },
   {
    "_defaultOrder": 55,
    "_isFastLaunch": false,
    "category": "Accelerated computing",
    "gpuNum": 8,
    "hideHardwareSpecs": false,
    "memoryGiB": 1152,
    "name": "ml.p4d.24xlarge",
    "vcpuNum": 96
   },
   {
    "_defaultOrder": 56,
    "_isFastLaunch": false,
    "category": "Accelerated computing",
    "gpuNum": 8,
    "hideHardwareSpecs": false,
    "memoryGiB": 1152,
    "name": "ml.p4de.24xlarge",
    "vcpuNum": 96
   }
  ],
  "instance_type": "ml.t3.medium",
  "kernelspec": {
   "display_name": "Python 3 (Data Science 3.0)",
   "language": "python",
   "name": "python3__SAGEMAKER_INTERNAL__arn:aws:sagemaker:us-west-2:236514542706:image/sagemaker-data-science-310-v1"
  },
  "language_info": {
   "codemirror_mode": {
    "name": "ipython",
    "version": 3
   },
   "file_extension": ".py",
   "mimetype": "text/x-python",
   "name": "python",
   "nbconvert_exporter": "python",
   "pygments_lexer": "ipython3",
   "version": "3.10.6"
  }
 },
 "nbformat": 4,
 "nbformat_minor": 4
}
