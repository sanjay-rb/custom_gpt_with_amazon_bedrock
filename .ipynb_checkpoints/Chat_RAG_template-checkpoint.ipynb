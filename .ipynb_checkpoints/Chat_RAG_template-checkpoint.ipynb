{
 "cells": [
  {
   "cell_type": "code",
   "execution_count": 2,
   "id": "98433af7-d745-48b0-be57-f2f478a2d5de",
   "metadata": {
    "tags": []
   },
   "outputs": [],
   "source": [
    "import os\n",
    "from langchain.memory import ConversationBufferWindowMemory\n",
    "from langchain.llms.bedrock import Bedrock\n",
    "from langchain.chains import ConversationalRetrievalChain\n",
    "from langchain.embeddings import BedrockEmbeddings\n",
    "from langchain.indexes import VectorstoreIndexCreator\n",
    "from langchain.vectorstores import FAISS\n",
    "from langchain.text_splitter import RecursiveCharacterTextSplitter\n",
    "from langchain.document_loaders import PyPDFLoader"
   ]
  },
  {
   "cell_type": "code",
   "execution_count": 3,
   "id": "4d313d8f-6f66-4256-a030-4ddd7af6759e",
   "metadata": {
    "tags": []
   },
   "outputs": [
    {
     "name": "stdout",
     "output_type": "stream",
     "text": [
      "Create new client\n",
      "  Using region: us-west-2\n",
      "  Using role: arn:aws:iam::195364414018:role/Crossaccountbedrock ... successful!\n",
      "boto3 Bedrock client successfully created!\n",
      "bedrock-runtime(https://bedrock-runtime.us-west-2.amazonaws.com)\n"
     ]
    }
   ],
   "source": [
    "import json\n",
    "import os\n",
    "import sys\n",
    "import boto3\n",
    "module_path = \"..\"\n",
    "sys.path.append(os.path.abspath(module_path))\n",
    "from utils import bedrock, print_ww\n",
    "# ---- ⚠️ Un-comment and edit the below lines as needed for your AWS setup ⚠️ ----\n",
    "os.environ[\"AWS_DEFAULT_REGION\"] = \"us-west-2\" # E.g. \"us-east-1\"\n",
    "# os.environ[\"AWS_PROFILE\"] = \"<YOUR_PROFILE>\"\n",
    "os.environ[\"BEDROCK_ASSUME_ROLE\"] = \"arn:aws:iam::195364414018:role/Crossaccountbedrock\"\n",
    "bedrock_runtime = bedrock.get_bedrock_client(\n",
    "assumed_role=os.environ.get(\"BEDROCK_ASSUME_ROLE\", None),\n",
    "region=os.environ.get(\"AWS_DEFAULT_REGION\", None)\n",
    ")"
   ]
  },
  {
   "cell_type": "code",
   "execution_count": 4,
   "id": "21e507f2-8fe5-43c6-a685-3f1e3c309123",
   "metadata": {
    "tags": []
   },
   "outputs": [],
   "source": [
    "def OLD_get_llm():\n",
    "    model_kwargs = { #AI21\n",
    "    \"maxTokens\": 1024,\n",
    "    \"temperature\": 0,\n",
    "    \"topP\": 0.5,\n",
    "    \"stopSequences\": [\"Human:\"],\n",
    "    \"countPenalty\": {\"scale\": 0 },\n",
    "    \"presencePenalty\": {\"scale\": 0 },\n",
    "    \"frequencyPenalty\": {\"scale\": 0 }\n",
    "    }\n",
    "    llm = Bedrock(\n",
    "    credentials_profile_name=os.environ.get(\"BWB_PROFILE_NAME\"), #sets the profile name to \n",
    "    region_name=os.environ.get(\"BWB_REGION_NAME\"), #sets the region name (if not the defaul\n",
    "    endpoint_url=os.environ.get(\"BWB_ENDPOINT_URL\"), #sets the endpoint URL (if necessary)\n",
    "    model_id=\"ai21.j2-ultra-v1\", #set the foundation model\n",
    "    model_kwargs=model_kwargs) #configure the properties for Claude\n",
    "    return llm"
   ]
  },
  {
   "cell_type": "code",
   "execution_count": 31,
   "id": "a4aa1365-b764-40b3-995f-bec954a0182f",
   "metadata": {
    "tags": []
   },
   "outputs": [],
   "source": [
    "def get_llm():\n",
    "    llm = Bedrock(\n",
    "    model_id=\"anthropic.claude-v2\",\n",
    "    client=bedrock_runtime\n",
    "    # model_kwargs={\"max_tokens_to_sample\": 1000},\n",
    "    )\n",
    "    return llm"
   ]
  },
  {
   "cell_type": "code",
   "execution_count": 32,
   "id": "a7ed761f-4ee8-4b34-b938-6e9757b344aa",
   "metadata": {
    "tags": []
   },
   "outputs": [],
   "source": [
    "def OLD_get_index(): \n",
    "    #creates and returns an in-memory vector store to be used in the \n",
    "    embeddings = BedrockEmbeddings(\n",
    "    credentials_profile_name=os.environ.get(\"BWB_PROFILE_NAME\"), #sets the profile name to \n",
    "    region_name=os.environ.get(\"BWB_REGION_NAME\"), #sets the region name (if not the defaul\n",
    "    endpoint_url=os.environ.get(\"BWB_ENDPOINT_URL\"), #sets the endpoint URL (if necessary)\n",
    "    ) #create a Titan Embeddings client\n",
    "    pdf_path = \"2022-Shareholder-Letter.pdf\" #assumes local PDF file with this name\n",
    "    loader = PyPDFLoader(file_path=pdf_path) #load the pdf file\n",
    "    text_splitter = RecursiveCharacterTextSplitter( #create a text splitter\n",
    "    separators=[\"\\n\\n\", \"\\n\", \".\", \" \"], #split chunks at (1) paragraph, (2) line, (3) sent\n",
    "    chunk_size=1000, #divide into 1000-character chunks using the separators above\n",
    "    chunk_overlap=100 #number of characters that can overlap with previous chunk\n",
    "    )\n",
    "    index_creator = VectorstoreIndexCreator( #create a vector store factory\n",
    "    vectorstore_cls=FAISS, #use an in-memory vector store for demo purposes\n",
    "    embedding=embeddings, #use Titan embeddings\n",
    "    text_splitter=text_splitter, #use the recursive text splitter\n",
    "    )\n",
    "    index_from_loader = index_creator.from_loaders([loader]) #create an vector store index\n",
    "    return index_from_loader #return the index to be cached by the client app\n"
   ]
  },
  {
   "cell_type": "code",
   "execution_count": 40,
   "id": "464a3152-5b66-49bf-a1fd-277cc49ebcd8",
   "metadata": {
    "tags": []
   },
   "outputs": [
    {
     "name": "stdout",
     "output_type": "stream",
     "text": [
      "Yourpolicyschedule-continued\n",
      "A1MiniMiniCooperS(122)3h(2007) EffectiveDate27September2023EndDate26September2024\n",
      "1598Petrol\n",
      "Automatic3DoorHatchback\n",
      "Vehiclepolicyholder:Mr.TestTester\n",
      "Drivingoption: Vehiclepolicyholderonly\n",
      "-Thisvehiclehascomprehensivecoverbasedon£450excessandupto8000milesayearperyearofSocial,Domestic,Pleasureand\n",
      "Commutingandrestrictedbusinessuse(refertothevehiclecertificate).\n",
      "-Thevehiclesareorwillbeownedandregisteredbyeitheryou,yourspouse/civil/domesticpartner,acloserelativeresidingatthesame\n",
      "address,yourcompanyoristhesubjectofaprivateorpersonalleasingcontract.\n",
      "-Therearenoadditionaldrivers.\n",
      "-Vehiclemodifications:nomodifications\n",
      "-Coverforthisvehicleisbasedon0yearsnoclaimsdiscount(NCD)whichisunprotected.FutureNCDwillbeownedbyMr.Test\n",
      "Tester.\n",
      "Yourcover\n",
      "Thistableshowsyourpolicycoverlimitsintheeventofaclaim.Pleasereadthisalongsideyour\n",
      "policybooklet.The‘Yourvehicles’sectionwillshowwhichcoveryouhave.Comprehensive\n",
      "Lossofordamagetoyourvehicle\n",
      "-Nonmanufacturerfittedaccessorieslimit £1,000perclaim\n",
      "-Manufacturerfittedaccessorieslimit unlimited\n",
      "-Newvehiclereplacement\n",
      "Yourliability\n",
      "-Thirdpartypropertydamagelimit £20million\n",
      "-Thirdpartypropertydamagelimit-hazardousgoodsandlocations £1.20million\n",
      "-Terrorismlimit £5million\n",
      "-Claimantcostslimit £5million\n",
      "MotorInjuryProtection\n",
      "-Singleclaimlimit £5,000perperson,perclaim\n",
      "-Annualclaimlimit £5,000perperson,perannum\n",
      "MedicalExpenses\n",
      "-MedicalExpenseslimit £250perclaim\n",
      "PersonalBelongings\n",
      "-PersonalBelongingslimit £500perclaim\n",
      "ChildSeat\n",
      "-ChildSeatlimit Fullreplacement\n",
      "ToolCover\n",
      "-Toolcoverlimit £500perclaim\n",
      "VehicleRecovery\n",
      "-VehicleRecoveryduetoillness\n",
      "ReplacementLocks\n",
      "-ReplacementLocks\n",
      "Glass\n",
      "-ApprovedRepairerwindscreenreplacementlimit unlimited\n",
      "-NonapprovedRepairerwindscreenreplacementlimit £185perclaim\n",
      "-Windscreenreplacementexcess £115perclaim\n",
      "-Windscreenrepairexcess £10perclaim\n",
      "UninsuredDriverPromise\n",
      "-UninsuredDriverPromise\n",
      "Additionalinformation\n",
      "Excesses\n",
      "Pleaserefertothe‘Yourinsuredvehicles’sectionofthescheduletoseewhatadditional\n",
      "excessesapplytoyourvehicles.Comprehensive-*- Demonstration Powered by OpenText Exstream 09/27/2023, Version 16.6.32 32-bit -*-\n"
     ]
    }
   ],
   "source": [
    "pdf_path = \"polic_docs/Policy_Certificate_Multiple_vehicle.pdf\" #assumes local PDF file with this name\n",
    "loader = PyPDFLoader(file_path=pdf_path) #load the pdf file\n",
    "\n",
    "documents = loader.load()\n",
    "\n",
    "print (documents[10].page_content)"
   ]
  },
  {
   "cell_type": "code",
   "execution_count": 33,
   "id": "4e70602c-14d8-4c92-8722-0c76e3fc6280",
   "metadata": {
    "tags": []
   },
   "outputs": [],
   "source": [
    "def get_index(): #creates and returns an in-memory vector store to be used in the appl\n",
    "    embeddings = BedrockEmbeddings(model_id=\"amazon.titan-embed-text-v1\", client=bedrock_runtime)\n",
    "    pdf_path = \"polic_docs/Policy_Certificate_Multiple_vehicle.pdf\" #assumes local PDF file with this name\n",
    "    loader = PyPDFLoader(file_path=pdf_path) #load the pdf file\n",
    "    text_splitter = RecursiveCharacterTextSplitter( #create a text splitter\n",
    "    separators=[\"\\n\\n\", \"\\n\", \".\", \" \"], #split chunks at (1) paragraph, (2) line, (3) sent\n",
    "    chunk_size=1000, #divide into 1000-character chunks using the separators above\n",
    "    chunk_overlap=100 #number of characters that can overlap with previous chunk\n",
    "    )\n",
    "    index_creator = VectorstoreIndexCreator( #create a vector store factory\n",
    "    vectorstore_cls=FAISS, #use an in-memory vector store for demo purposes\n",
    "    embedding=embeddings, #use Titan embeddings\n",
    "    text_splitter=text_splitter, #use the recursive text splitter\n",
    "    )\n",
    "    index_from_loader = index_creator.from_loaders([loader]) #create an vector store index\n",
    "    return index_from_loader #return the index to be cached by the client app\n"
   ]
  },
  {
   "cell_type": "code",
   "execution_count": 34,
   "id": "dc1f3995-156a-47e6-b3ac-08fd3e6cc34e",
   "metadata": {
    "tags": []
   },
   "outputs": [],
   "source": [
    "def get_memory(): #create memory for this chat session\n",
    "    memory = ConversationBufferWindowMemory(memory_key=\"chat_history\", return_messages=True)\n",
    "    return memory\n",
    "                                            \n",
    "def get_rag_chat_response(input_text, memory, index): #chat client function\n",
    "    llm = get_llm()\n",
    "    conversation_with_retrieval = ConversationalRetrievalChain.from_llm(llm, retriever=index.vectorstore.as_retriever(), memory=memory, verbose=True)\n",
    "    chat_response = conversation_with_retrieval({\"question\": input_text}) #pass the user me\n",
    "    return chat_response['answer']"
   ]
  },
  {
   "cell_type": "markdown",
   "id": "ff32883c-5d87-4aac-af08-7d9ecb5755f8",
   "metadata": {
    "tags": []
   },
   "source": [
    "## TESTING"
   ]
  },
  {
   "cell_type": "code",
   "execution_count": 35,
   "id": "eb2d5151-5512-419f-95fb-eda71e1afc73",
   "metadata": {
    "tags": []
   },
   "outputs": [],
   "source": [
    "gpt_index = get_index()\n",
    "gpt_memory = get_memory()"
   ]
  },
  {
   "cell_type": "code",
   "execution_count": 36,
   "id": "494de698-7588-4f9c-b199-1b740569f590",
   "metadata": {
    "tags": []
   },
   "outputs": [
    {
     "name": "stdout",
     "output_type": "stream",
     "text": [
      "\n",
      "\n",
      "\u001b[1m> Entering new StuffDocumentsChain chain...\u001b[0m\n",
      "\n",
      "\n",
      "\u001b[1m> Entering new LLMChain chain...\u001b[0m\n",
      "Prompt after formatting:\n",
      "\u001b[32;1m\u001b[1;3mUse the following pieces of context to answer the question at the end. If you don't know the answer, just say that you don't know, don't try to make up an answer.\n",
      "\n",
      "there.\n",
      "Callimmediatelyfromtheroadside,andwe'll\n",
      "authoriseamemberofourapprovedrepairer\n",
      "servicenetworktostartworkandwe'llpaythem\n",
      "directly.We'llrecoveryourvehicleifit'sunroadworthyin\n",
      "theeventofanaccident.\n",
      "Ifyourwindscreenisdamaged,callusrightaway.\n",
      "Helpisjustonecallaway03450306925\n",
      "callsmayberecordedand/ormonitoredforourjointprotection-*- Demonstration Powered by OpenText Exstream 09/27/2023, Version 16.6.32 32-bit -*-\n",
      "\n",
      "1598Petrol\n",
      "Automatic3DoorHatchback\n",
      "Vehicle\n",
      "policyholder:Mr.TestTester\n",
      "Drivingoption:Vehiclepolicyholderonly\n",
      "-Thisvehiclehascomprehensivecoverbasedon£450excessandupto8000milesayearperyearofSocial,Domestic,Pleasureand\n",
      "Commutingandrestrictedbusinessuse(refertothevehiclecertificate).\n",
      "-Thevehiclesareorwillbeownedandregisteredbyeitheryou,yourspouse/civil/domesticpartner,acloserelativeresidingatthesame\n",
      "address,yourcompanyoristhesubjectofaprivateorpersonalleasingcontract.\n",
      "-Vehiclemodifications:nomodifications\n",
      "-Therearenoadditionaldrivers.\n",
      "-Coverforthisvehicleisbasedon0yearsnoclaimsdiscount(NCD)whichisunprotected.FutureNCDwillbeownedbyMr.Test\n",
      "Tester.-*- Demonstration Powered by OpenText Exstream 09/27/2023, Version 16.6.32 32-bit -*-\n",
      "\n",
      "Yourpolicyschedule-continued\n",
      "A1MiniMiniCooperS(122)3h(2007) EffectiveDate27September2023EndDate26September2024\n",
      "1598Petrol\n",
      "Automatic3DoorHatchback\n",
      "Vehiclepolicyholder:Mr.TestTester\n",
      "Drivingoption: Vehiclepolicyholderonly\n",
      "-Thisvehiclehascomprehensivecoverbasedon£450excessandupto8000milesayearperyearofSocial,Domestic,Pleasureand\n",
      "Commutingandrestrictedbusinessuse(refertothevehiclecertificate).\n",
      "-Thevehiclesareorwillbeownedandregisteredbyeitheryou,yourspouse/civil/domesticpartner,acloserelativeresidingatthesame\n",
      "address,yourcompanyoristhesubjectofaprivateorpersonalleasingcontract.\n",
      "-Therearenoadditionaldrivers.\n",
      "-Vehiclemodifications:nomodifications\n",
      "-Coverforthisvehicleisbasedon0yearsnoclaimsdiscount(NCD)whichisunprotected.FutureNCDwillbeownedbyMr.Test\n",
      "Tester.\n",
      "Yourcover\n",
      "Thistableshowsyourpolicycoverlimitsintheeventofaclaim.Pleasereadthisalongsideyour\n",
      "policybooklet.The‘Yourvehicles’sectionwillshowwhichcoveryouhave.Comprehensive\n",
      "Lossofordamagetoyourvehicle\n",
      "\n",
      "Registrationnumber-A1\n",
      "Comprehensivecover:£1,588.00\n",
      "Totalvehiclepremium:£1,588.00\n",
      "Thecomprehensivepolicyprovidesaccidentaldamage,maliciousdamage,fireandtheftcoverforyourvehicleandthirdpartyliability\n",
      "protectionforinjuryordamageyoumaycausetoothers.\n",
      "Yourinsuredvehicles\n",
      "AU53ZWMBmw325iSe(192)5e(2003) EffectiveDate27September2023EndDate26September2024\n",
      "2494Petrol\n",
      "Manual5DoorEstate\n",
      "Vehiclepolicyholder:Mr.TestTester\n",
      "Drivingoption: Vehiclepolicyholderonly\n",
      "-Thisvehiclehascomprehensivecoverbasedon£450excessandupto15000milesayearperyearofSocial,Domestic,Pleasureand\n",
      "Commutingandrestrictedbusinessuse(refertothevehiclecertificate).\n",
      "-Thevehiclesareorwillbeownedandregisteredbyeitheryou,yourspouse/civil/domesticpartner,acloserelativeresidingatthesame\n",
      "address,yourcompanyoristhesubjectofaprivateorpersonalleasingcontract.\n",
      "-Therearenoadditionaldrivers.\n",
      "-Vehiclemodifications:nomodifications\n",
      "-Coverforthisvehicleisbasedon0yearsnoclaimsdiscount(NCD)whichisunprotected.FutureNCDwillbeownedbyMr.Test\n",
      "\n",
      "Question: Will i be able to recover the vehicle after an accident ?\n",
      "Helpful Answer:\u001b[0m\n",
      "\n",
      "\u001b[1m> Finished chain.\u001b[0m\n",
      "\n",
      "\u001b[1m> Finished chain.\u001b[0m\n"
     ]
    },
    {
     "data": {
      "text/plain": [
       "' Based on the context provided, yes, you will be able to recover the vehicle after an accident if it is unroadworthy. The policy states:\\n\\n\"Call immediately from the roadside, and we\\'ll authorise a member of our approved repairer service network to start work and we\\'ll pay them directly. We\\'ll recovery your vehicle if it\\'s unroadworthy in the event of an accident.\"\\n\\nThis indicates that if your vehicle is damaged in an accident and becomes unroadworthy (i.e. unsafe or unable to be driven), you can call the insurance company and they will arrange for the vehicle to be recovered. So you should be able to get the vehicle towed or transported after an accident that leaves it unroadworthy.'"
      ]
     },
     "execution_count": 36,
     "metadata": {},
     "output_type": "execute_result"
    }
   ],
   "source": [
    "ques = \"Will i be able to recover the vehicle after an accident ?\"\n",
    "get_rag_chat_response(input_text=ques,index=gpt_index, memory=gpt_memory)"
   ]
  },
  {
   "cell_type": "code",
   "execution_count": 37,
   "id": "210ba7d7-2b00-4b4f-8431-2cf5f59e64ce",
   "metadata": {
    "tags": []
   },
   "outputs": [
    {
     "name": "stdout",
     "output_type": "stream",
     "text": [
      "\n",
      "\n",
      "\u001b[1m> Entering new LLMChain chain...\u001b[0m\n",
      "Prompt after formatting:\n",
      "\u001b[32;1m\u001b[1;3mGiven the following conversation and a follow up question, rephrase the follow up question to be a standalone question, in its original language.\n",
      "\n",
      "Chat History:\n",
      "\n",
      "Human: Will i be able to recover the vehicle after an accident ?\n",
      "Assistant:  Based on the context provided, yes, you will be able to recover the vehicle after an accident if it is unroadworthy. The policy states:\n",
      "\n",
      "\"Call immediately from the roadside, and we'll authorise a member of our approved repairer service network to start work and we'll pay them directly. We'll recovery your vehicle if it's unroadworthy in the event of an accident.\"\n",
      "\n",
      "This indicates that if your vehicle is damaged in an accident and becomes unroadworthy (i.e. unsafe or unable to be driven), you can call the insurance company and they will arrange for the vehicle to be recovered. So you should be able to get the vehicle towed or transported after an accident that leaves it unroadworthy.\n",
      "Follow Up Input: How much is the third party vehicle damage limit ?\n",
      "Standalone question:\u001b[0m\n",
      "\n",
      "\u001b[1m> Finished chain.\u001b[0m\n",
      "\n",
      "\n",
      "\u001b[1m> Entering new StuffDocumentsChain chain...\u001b[0m\n",
      "\n",
      "\n",
      "\u001b[1m> Entering new LLMChain chain...\u001b[0m\n",
      "Prompt after formatting:\n",
      "\u001b[32;1m\u001b[1;3mUse the following pieces of context to answer the question at the end. If you don't know the answer, just say that you don't know, don't try to make up an answer.\n",
      "\n",
      "1598Petrol\n",
      "Automatic3DoorHatchback\n",
      "Vehicle\n",
      "policyholder:Mr.TestTester\n",
      "Drivingoption:Vehiclepolicyholderonly\n",
      "-Thisvehiclehascomprehensivecoverbasedon£450excessandupto8000milesayearperyearofSocial,Domestic,Pleasureand\n",
      "Commutingandrestrictedbusinessuse(refertothevehiclecertificate).\n",
      "-Thevehiclesareorwillbeownedandregisteredbyeitheryou,yourspouse/civil/domesticpartner,acloserelativeresidingatthesame\n",
      "address,yourcompanyoristhesubjectofaprivateorpersonalleasingcontract.\n",
      "-Vehiclemodifications:nomodifications\n",
      "-Therearenoadditionaldrivers.\n",
      "-Coverforthisvehicleisbasedon0yearsnoclaimsdiscount(NCD)whichisunprotected.FutureNCDwillbeownedbyMr.Test\n",
      "Tester.-*- Demonstration Powered by OpenText Exstream 09/27/2023, Version 16.6.32 32-bit -*-\n",
      "\n",
      "Registrationnumber-A1\n",
      "Comprehensivecover:£1,588.00\n",
      "Totalvehiclepremium:£1,588.00\n",
      "Thecomprehensivepolicyprovidesaccidentaldamage,maliciousdamage,fireandtheftcoverforyourvehicleandthirdpartyliability\n",
      "protectionforinjuryordamageyoumaycausetoothers.\n",
      "Yourinsuredvehicles\n",
      "AU53ZWMBmw325iSe(192)5e(2003) EffectiveDate27September2023EndDate26September2024\n",
      "2494Petrol\n",
      "Manual5DoorEstate\n",
      "Vehiclepolicyholder:Mr.TestTester\n",
      "Drivingoption: Vehiclepolicyholderonly\n",
      "-Thisvehiclehascomprehensivecoverbasedon£450excessandupto15000milesayearperyearofSocial,Domestic,Pleasureand\n",
      "Commutingandrestrictedbusinessuse(refertothevehiclecertificate).\n",
      "-Thevehiclesareorwillbeownedandregisteredbyeitheryou,yourspouse/civil/domesticpartner,acloserelativeresidingatthesame\n",
      "address,yourcompanyoristhesubjectofaprivateorpersonalleasingcontract.\n",
      "-Therearenoadditionaldrivers.\n",
      "-Vehiclemodifications:nomodifications\n",
      "-Coverforthisvehicleisbasedon0yearsnoclaimsdiscount(NCD)whichisunprotected.FutureNCDwillbeownedbyMr.Test\n",
      "\n",
      "Yourpolicyschedule-continued\n",
      "A1MiniMiniCooperS(122)3h(2007) EffectiveDate27September2023EndDate26September2024\n",
      "1598Petrol\n",
      "Automatic3DoorHatchback\n",
      "Vehiclepolicyholder:Mr.TestTester\n",
      "Drivingoption: Vehiclepolicyholderonly\n",
      "-Thisvehiclehascomprehensivecoverbasedon£450excessandupto8000milesayearperyearofSocial,Domestic,Pleasureand\n",
      "Commutingandrestrictedbusinessuse(refertothevehiclecertificate).\n",
      "-Thevehiclesareorwillbeownedandregisteredbyeitheryou,yourspouse/civil/domesticpartner,acloserelativeresidingatthesame\n",
      "address,yourcompanyoristhesubjectofaprivateorpersonalleasingcontract.\n",
      "-Therearenoadditionaldrivers.\n",
      "-Vehiclemodifications:nomodifications\n",
      "-Coverforthisvehicleisbasedon0yearsnoclaimsdiscount(NCD)whichisunprotected.FutureNCDwillbeownedbyMr.Test\n",
      "Tester.\n",
      "Yourcover\n",
      "Thistableshowsyourpolicycoverlimitsintheeventofaclaim.Pleasereadthisalongsideyour\n",
      "policybooklet.The‘Yourvehicles’sectionwillshowwhichcoveryouhave.Comprehensive\n",
      "Lossofordamagetoyourvehicle\n",
      "\n",
      "UninsuredDriverPromise\n",
      "-UninsuredDriverPromise\n",
      "Additionalinformation\n",
      "Excesses\n",
      "Pleaserefertothe‘Yourinsuredvehicles’sectionofthescheduletoseewhatadditional\n",
      "excessesapplytoyourvehicles.Comprehensive-*- Demonstration Powered by OpenText Exstream 09/27/2023, Version 16.6.32 32-bit -*-\n",
      "\n",
      "Question:  What is the third party vehicle damage limit under the policy?\n",
      "Helpful Answer:\u001b[0m\n",
      "\n",
      "\u001b[1m> Finished chain.\u001b[0m\n",
      "\n",
      "\u001b[1m> Finished chain.\u001b[0m\n"
     ]
    },
    {
     "data": {
      "text/plain": [
       "' Unfortunately I do not have enough information to determine the third party vehicle damage limit under this policy. The policy schedule provided does not specify limits for third party vehicle damage coverage. It only mentions that the comprehensive policy provides third party liability protection for injury or damage caused to others, but does not give the limit amount. Without knowing the specific third party vehicle damage limit amount, I cannot provide that information.'"
      ]
     },
     "execution_count": 37,
     "metadata": {},
     "output_type": "execute_result"
    }
   ],
   "source": [
    "ques =\"How much is the third party vehicle damage limit ?\"\n",
    "get_rag_chat_response(input_text=ques,index=gpt_index, memory=gpt_memory)"
   ]
  },
  {
   "cell_type": "code",
   "execution_count": 11,
   "id": "c22ec6a9-b0f1-4020-816c-ddf0c64a9414",
   "metadata": {
    "tags": []
   },
   "outputs": [
    {
     "data": {
      "text/plain": [
       "\" Unfortunately without having the actual policy details to review, I can't definitively say if a motorcycle could be added to this particular policy. Generally speaking though, most auto insurance policies only cover cars/trucks and do not allow motorcycles to be added. Motorcycle insurance is usually a separate policy. If this were a real scenario, I would recommend contacting the insurance company directly to ask if motorcycle coverage could be added to the existing policy. Since this is hypothetical, I don't have enough information to say for certain one way or the other. The best advice would be to check with the provider when considering adding additional/different vehicles to an existing auto insurance policy.\""
      ]
     },
     "execution_count": 11,
     "metadata": {},
     "output_type": "execute_result"
    }
   ],
   "source": [
    "ques =\"Can i add my motor bike to this policy ?\" \n",
    "get_rag_chat_response(input_text=ques,index=gpt_index, memory=gpt_memory)"
   ]
  },
  {
   "cell_type": "code",
   "execution_count": 12,
   "id": "1c682d49-3dcb-4382-88e4-ef3e18a57516",
   "metadata": {
    "tags": []
   },
   "outputs": [
    {
     "data": {
      "text/plain": [
       "' Based on the policy details provided, I do not see any indication that you can add a van to this auto insurance policy. The policy seems to only cover the specified vehicles, which are both regular passenger cars (BMW 325i and unspecified model). To add a van, you would likely need to get a separate insurance policy designed for vans or commercial vehicles. The policy states it covers vehicles owned by you, your spouse, close relative, or company, so a van you own could potentially be added, but it would likely require contacting Aviva to modify the policy and re-quote with the van included. Without explicit indication vans are covered, I would not recommend trying to add one to this particular auto policy.'"
      ]
     },
     "execution_count": 12,
     "metadata": {},
     "output_type": "execute_result"
    }
   ],
   "source": [
    "ques =\"How about a van ?\"\n",
    "get_rag_chat_response(input_text=ques,index=gpt_index, memory=gpt_memory)"
   ]
  },
  {
   "cell_type": "code",
   "execution_count": 26,
   "id": "72fd0c16-0d4b-4e17-b96b-f20cebe2bd1c",
   "metadata": {
    "tags": []
   },
   "outputs": [
    {
     "name": "stdout",
     "output_type": "stream",
     "text": [
      " Based on the policy details provided, the total annual premium for your auto insurance policy is £3,677. This includes £2,089 for vehicle AU53ZWM and £1,588 for vehicle A1. \n",
      "\n",
      "The comprehensive cover includes accidental damage, so it should cover windshield replacement if the windshield is damaged. However, the details provided do not explicitly mention windshield coverage. To confirm, you would need to check the full policy terms and conditions. The summary states it provides comprehensive cover, but does not go into specifics on what is included in that.\n"
     ]
    }
   ],
   "source": [
    "ques = \"what is my current premium and am i covered for windshield break ?\"\n",
    "print (get_rag_chat_response(input_text=ques,index=gpt_index, memory=gpt_memory))"
   ]
  },
  {
   "cell_type": "code",
   "execution_count": 27,
   "id": "f757178a-4f2b-400f-a779-4a1deea56a3b",
   "metadata": {
    "tags": []
   },
   "outputs": [
    {
     "name": "stdout",
     "output_type": "stream",
     "text": [
      "\n",
      "No, the insurance policy provided does not state that it includes coverage for wheel replacement in the case of accidental damage or loss. The policy states it provides comprehensive cover which includes accidental damage, but does not specify coverage for wheels. Without explicit mention of wheel coverage, I would assume it is not included.\n"
     ]
    }
   ],
   "source": [
    "ques = \"Can you check wether im covered for wheel replacement ?\"\n",
    "print (get_rag_chat_response(input_text=ques,index=gpt_index, memory=gpt_memory))"
   ]
  },
  {
   "cell_type": "markdown",
   "id": "b701533e-c803-4ea8-9cd9-641c3aece88d",
   "metadata": {
    "tags": []
   },
   "source": [
    "### TESTING Template"
   ]
  },
  {
   "cell_type": "code",
   "execution_count": 13,
   "id": "2000aeaf-52fa-46de-956e-7b5a213bd832",
   "metadata": {
    "tags": []
   },
   "outputs": [
    {
     "name": "stderr",
     "output_type": "stream",
     "text": [
      "/opt/conda/lib/python3.10/site-packages/langchain/__init__.py:24: UserWarning: Importing PromptTemplate from langchain root module is no longer supported.\n",
      "  warnings.warn(\n"
     ]
    }
   ],
   "source": [
    "from langchain import PromptTemplate\n",
    "\n",
    "custom_prompt = \"\"\"\n",
    "\n",
    "Human: I want you to use a document and relevant quotes from the document to answer the question \n",
    ". But first access the scentiment of the question and response being calm yet confident. But be as polite as you can. \n",
    "{context}\n",
    "Here are direct quotes from the document that are most relevant to the question \n",
    "\n",
    "Please use these to construct an answer to the question as though you were answering the question directly. Ensure that your answer \n",
    "is accurate and doesn’t contain any information not directly supported by the document or the quotes.\n",
    "Also asks for any other question the customer may have as shown below.\n",
    "\n",
    "Assistant:\n",
    "\"\"\"\n",
    "\n",
    "CUSTOM_QUESTION_PROMPT = PromptTemplate.from_template(custom_prompt)"
   ]
  },
  {
   "cell_type": "code",
   "execution_count": 14,
   "id": "0fb09f1b-92cd-470f-b0e0-cef3ec932b08",
   "metadata": {
    "tags": []
   },
   "outputs": [],
   "source": [
    "def get_rag_chat_response_template(input_text, memory, index): #chat client function\n",
    "    llm = get_llm()\n",
    "    conversation_with_retrieval = ConversationalRetrievalChain.from_llm(llm, retriever=index.vectorstore.as_retriever(), \n",
    "                                                                        memory=memory,\n",
    "                                                                        combine_docs_chain_kwargs={'prompt': CUSTOM_QUESTION_PROMPT})\n",
    "    \n",
    "    chat_response = conversation_with_retrieval({\"question\": input_text}) #pass the user me\n",
    "    return chat_response['answer']"
   ]
  },
  {
   "cell_type": "code",
   "execution_count": 19,
   "id": "215d4353-c74d-4731-a205-d01d84df64d7",
   "metadata": {
    "tags": []
   },
   "outputs": [
    {
     "name": "stdout",
     "output_type": "stream",
     "text": [
      " Based on the provided document, here are the most relevant quotes to answer your question:\n",
      "\n",
      "\"Excesses\n",
      "Pleaserefertothe‘Yourinsuredvehicles’sectionofthescheduletoseewhatadditionalexcessesapplytoyourvehic\n",
      "les.\"\n",
      "\n",
      "\"Comprehensivecover:£1,588.00\n",
      "Totalvehiclepremium:£1,588.00\n",
      "Thecomprehensivepolicyprovidesaccidentaldamage,maliciousdamage,fireandtheftcoverforyourvehicleandthi\n",
      "rdpartyliabilityprotectionforinjuryordamageyoumaycausetoothers.\"\n",
      "\n",
      "\"Yourinsuredvehicles\n",
      "AU53ZWMBmw325iSe(192)5e(2003) EffectiveDate27September2023EndDate26September2024\n",
      "2494Petrol\n",
      "Manual5DoorEstate\"\n",
      "\n",
      "\"Drivingoption: Vehiclepolicyholderonly\"\n",
      "\n",
      "\"Coverforthisvehicleisbasedon0yearsnoclaimsdiscount(NCD)whichisunprotected.FutureNCDwillbeownedbyMr.\n",
      "TestTester.\"\n",
      "\n",
      "Based on these quotes, it appears you have comprehensive cover on your BMW 325i SE with a £450\n",
      "excess. The policy covers accidental damage, malicious damage, fire and theft. It also provides\n",
      "third party liability protection. The vehicle can only be driven by the policyholder and has 0 years\n",
      "no claims discount. Please let me know if you have any other questions!\n"
     ]
    }
   ],
   "source": [
    "ques = 'Am i covered for third party liability ?' \n",
    "res = get_rag_chat_response_template(input_text=ques,index=gpt_index, memory=gpt_memory)\n",
    "print_ww(res)"
   ]
  },
  {
   "cell_type": "code",
   "execution_count": 38,
   "id": "025e98ca-593e-4825-b204-5cff27773eb8",
   "metadata": {
    "tags": []
   },
   "outputs": [
    {
     "name": "stdout",
     "output_type": "stream",
     "text": [
      " Based on the policy documents provided, here are the relevant details to answer your question:\n",
      "\n",
      "The comprehensive policy for vehicle AU53ZWM provides accidental damage, malicious damage, fire and\n",
      "theft cover. It has a £450 excess and is based on up to 15,000 miles per year of use for social,\n",
      "domestic, pleasure, commuting and restricted business purposes. The policyholder is Mr. Test Tester\n",
      "and there are no additional drivers.\n",
      "\n",
      "The comprehensive policy for vehicle A1 provides accidental damage, malicious damage, fire and theft\n",
      "cover. It has a £450 excess and is based on up to 8,000 miles per year of use for social, domestic,\n",
      "pleasure, commuting and restricted business purposes. The policyholder is Mr. Test Tester and there\n",
      "are no additional drivers.\n",
      "\n",
      "Both vehicles have 0 years no claims discount which is unprotected, and future NCD will be owned by\n",
      "Mr. Test Tester.\n",
      "\n",
      "Please let me know if you have any other questions! I'm happy to clarify or provide more details\n",
      "from the policy documents. My goal is to be as helpful, polite and confident as possible.\n"
     ]
    }
   ],
   "source": [
    "ques = 'What is my monthly premium and can you tell me the vehicle name in the policy ?' \n",
    "res = get_rag_chat_response_template(input_text=ques,index=gpt_index, memory=gpt_memory)\n",
    "print_ww(res)"
   ]
  },
  {
   "cell_type": "code",
   "execution_count": 2,
   "id": "a63ef789-dac6-4070-b548-f4dd130c8864",
   "metadata": {
    "tags": []
   },
   "outputs": [],
   "source": [
    "## Testing commit 123"
   ]
  },
  {
   "cell_type": "code",
   "execution_count": null,
   "id": "b8d7aec4-be73-435b-a72c-f88a1a760047",
   "metadata": {},
   "outputs": [],
   "source": []
  }
 ],
 "metadata": {
  "availableInstances": [
   {
    "_defaultOrder": 0,
    "_isFastLaunch": true,
    "category": "General purpose",
    "gpuNum": 0,
    "hideHardwareSpecs": false,
    "memoryGiB": 4,
    "name": "ml.t3.medium",
    "vcpuNum": 2
   },
   {
    "_defaultOrder": 1,
    "_isFastLaunch": false,
    "category": "General purpose",
    "gpuNum": 0,
    "hideHardwareSpecs": false,
    "memoryGiB": 8,
    "name": "ml.t3.large",
    "vcpuNum": 2
   },
   {
    "_defaultOrder": 2,
    "_isFastLaunch": false,
    "category": "General purpose",
    "gpuNum": 0,
    "hideHardwareSpecs": false,
    "memoryGiB": 16,
    "name": "ml.t3.xlarge",
    "vcpuNum": 4
   },
   {
    "_defaultOrder": 3,
    "_isFastLaunch": false,
    "category": "General purpose",
    "gpuNum": 0,
    "hideHardwareSpecs": false,
    "memoryGiB": 32,
    "name": "ml.t3.2xlarge",
    "vcpuNum": 8
   },
   {
    "_defaultOrder": 4,
    "_isFastLaunch": true,
    "category": "General purpose",
    "gpuNum": 0,
    "hideHardwareSpecs": false,
    "memoryGiB": 8,
    "name": "ml.m5.large",
    "vcpuNum": 2
   },
   {
    "_defaultOrder": 5,
    "_isFastLaunch": false,
    "category": "General purpose",
    "gpuNum": 0,
    "hideHardwareSpecs": false,
    "memoryGiB": 16,
    "name": "ml.m5.xlarge",
    "vcpuNum": 4
   },
   {
    "_defaultOrder": 6,
    "_isFastLaunch": false,
    "category": "General purpose",
    "gpuNum": 0,
    "hideHardwareSpecs": false,
    "memoryGiB": 32,
    "name": "ml.m5.2xlarge",
    "vcpuNum": 8
   },
   {
    "_defaultOrder": 7,
    "_isFastLaunch": false,
    "category": "General purpose",
    "gpuNum": 0,
    "hideHardwareSpecs": false,
    "memoryGiB": 64,
    "name": "ml.m5.4xlarge",
    "vcpuNum": 16
   },
   {
    "_defaultOrder": 8,
    "_isFastLaunch": false,
    "category": "General purpose",
    "gpuNum": 0,
    "hideHardwareSpecs": false,
    "memoryGiB": 128,
    "name": "ml.m5.8xlarge",
    "vcpuNum": 32
   },
   {
    "_defaultOrder": 9,
    "_isFastLaunch": false,
    "category": "General purpose",
    "gpuNum": 0,
    "hideHardwareSpecs": false,
    "memoryGiB": 192,
    "name": "ml.m5.12xlarge",
    "vcpuNum": 48
   },
   {
    "_defaultOrder": 10,
    "_isFastLaunch": false,
    "category": "General purpose",
    "gpuNum": 0,
    "hideHardwareSpecs": false,
    "memoryGiB": 256,
    "name": "ml.m5.16xlarge",
    "vcpuNum": 64
   },
   {
    "_defaultOrder": 11,
    "_isFastLaunch": false,
    "category": "General purpose",
    "gpuNum": 0,
    "hideHardwareSpecs": false,
    "memoryGiB": 384,
    "name": "ml.m5.24xlarge",
    "vcpuNum": 96
   },
   {
    "_defaultOrder": 12,
    "_isFastLaunch": false,
    "category": "General purpose",
    "gpuNum": 0,
    "hideHardwareSpecs": false,
    "memoryGiB": 8,
    "name": "ml.m5d.large",
    "vcpuNum": 2
   },
   {
    "_defaultOrder": 13,
    "_isFastLaunch": false,
    "category": "General purpose",
    "gpuNum": 0,
    "hideHardwareSpecs": false,
    "memoryGiB": 16,
    "name": "ml.m5d.xlarge",
    "vcpuNum": 4
   },
   {
    "_defaultOrder": 14,
    "_isFastLaunch": false,
    "category": "General purpose",
    "gpuNum": 0,
    "hideHardwareSpecs": false,
    "memoryGiB": 32,
    "name": "ml.m5d.2xlarge",
    "vcpuNum": 8
   },
   {
    "_defaultOrder": 15,
    "_isFastLaunch": false,
    "category": "General purpose",
    "gpuNum": 0,
    "hideHardwareSpecs": false,
    "memoryGiB": 64,
    "name": "ml.m5d.4xlarge",
    "vcpuNum": 16
   },
   {
    "_defaultOrder": 16,
    "_isFastLaunch": false,
    "category": "General purpose",
    "gpuNum": 0,
    "hideHardwareSpecs": false,
    "memoryGiB": 128,
    "name": "ml.m5d.8xlarge",
    "vcpuNum": 32
   },
   {
    "_defaultOrder": 17,
    "_isFastLaunch": false,
    "category": "General purpose",
    "gpuNum": 0,
    "hideHardwareSpecs": false,
    "memoryGiB": 192,
    "name": "ml.m5d.12xlarge",
    "vcpuNum": 48
   },
   {
    "_defaultOrder": 18,
    "_isFastLaunch": false,
    "category": "General purpose",
    "gpuNum": 0,
    "hideHardwareSpecs": false,
    "memoryGiB": 256,
    "name": "ml.m5d.16xlarge",
    "vcpuNum": 64
   },
   {
    "_defaultOrder": 19,
    "_isFastLaunch": false,
    "category": "General purpose",
    "gpuNum": 0,
    "hideHardwareSpecs": false,
    "memoryGiB": 384,
    "name": "ml.m5d.24xlarge",
    "vcpuNum": 96
   },
   {
    "_defaultOrder": 20,
    "_isFastLaunch": false,
    "category": "General purpose",
    "gpuNum": 0,
    "hideHardwareSpecs": true,
    "memoryGiB": 0,
    "name": "ml.geospatial.interactive",
    "supportedImageNames": [
     "sagemaker-geospatial-v1-0"
    ],
    "vcpuNum": 0
   },
   {
    "_defaultOrder": 21,
    "_isFastLaunch": true,
    "category": "Compute optimized",
    "gpuNum": 0,
    "hideHardwareSpecs": false,
    "memoryGiB": 4,
    "name": "ml.c5.large",
    "vcpuNum": 2
   },
   {
    "_defaultOrder": 22,
    "_isFastLaunch": false,
    "category": "Compute optimized",
    "gpuNum": 0,
    "hideHardwareSpecs": false,
    "memoryGiB": 8,
    "name": "ml.c5.xlarge",
    "vcpuNum": 4
   },
   {
    "_defaultOrder": 23,
    "_isFastLaunch": false,
    "category": "Compute optimized",
    "gpuNum": 0,
    "hideHardwareSpecs": false,
    "memoryGiB": 16,
    "name": "ml.c5.2xlarge",
    "vcpuNum": 8
   },
   {
    "_defaultOrder": 24,
    "_isFastLaunch": false,
    "category": "Compute optimized",
    "gpuNum": 0,
    "hideHardwareSpecs": false,
    "memoryGiB": 32,
    "name": "ml.c5.4xlarge",
    "vcpuNum": 16
   },
   {
    "_defaultOrder": 25,
    "_isFastLaunch": false,
    "category": "Compute optimized",
    "gpuNum": 0,
    "hideHardwareSpecs": false,
    "memoryGiB": 72,
    "name": "ml.c5.9xlarge",
    "vcpuNum": 36
   },
   {
    "_defaultOrder": 26,
    "_isFastLaunch": false,
    "category": "Compute optimized",
    "gpuNum": 0,
    "hideHardwareSpecs": false,
    "memoryGiB": 96,
    "name": "ml.c5.12xlarge",
    "vcpuNum": 48
   },
   {
    "_defaultOrder": 27,
    "_isFastLaunch": false,
    "category": "Compute optimized",
    "gpuNum": 0,
    "hideHardwareSpecs": false,
    "memoryGiB": 144,
    "name": "ml.c5.18xlarge",
    "vcpuNum": 72
   },
   {
    "_defaultOrder": 28,
    "_isFastLaunch": false,
    "category": "Compute optimized",
    "gpuNum": 0,
    "hideHardwareSpecs": false,
    "memoryGiB": 192,
    "name": "ml.c5.24xlarge",
    "vcpuNum": 96
   },
   {
    "_defaultOrder": 29,
    "_isFastLaunch": true,
    "category": "Accelerated computing",
    "gpuNum": 1,
    "hideHardwareSpecs": false,
    "memoryGiB": 16,
    "name": "ml.g4dn.xlarge",
    "vcpuNum": 4
   },
   {
    "_defaultOrder": 30,
    "_isFastLaunch": false,
    "category": "Accelerated computing",
    "gpuNum": 1,
    "hideHardwareSpecs": false,
    "memoryGiB": 32,
    "name": "ml.g4dn.2xlarge",
    "vcpuNum": 8
   },
   {
    "_defaultOrder": 31,
    "_isFastLaunch": false,
    "category": "Accelerated computing",
    "gpuNum": 1,
    "hideHardwareSpecs": false,
    "memoryGiB": 64,
    "name": "ml.g4dn.4xlarge",
    "vcpuNum": 16
   },
   {
    "_defaultOrder": 32,
    "_isFastLaunch": false,
    "category": "Accelerated computing",
    "gpuNum": 1,
    "hideHardwareSpecs": false,
    "memoryGiB": 128,
    "name": "ml.g4dn.8xlarge",
    "vcpuNum": 32
   },
   {
    "_defaultOrder": 33,
    "_isFastLaunch": false,
    "category": "Accelerated computing",
    "gpuNum": 4,
    "hideHardwareSpecs": false,
    "memoryGiB": 192,
    "name": "ml.g4dn.12xlarge",
    "vcpuNum": 48
   },
   {
    "_defaultOrder": 34,
    "_isFastLaunch": false,
    "category": "Accelerated computing",
    "gpuNum": 1,
    "hideHardwareSpecs": false,
    "memoryGiB": 256,
    "name": "ml.g4dn.16xlarge",
    "vcpuNum": 64
   },
   {
    "_defaultOrder": 35,
    "_isFastLaunch": false,
    "category": "Accelerated computing",
    "gpuNum": 1,
    "hideHardwareSpecs": false,
    "memoryGiB": 61,
    "name": "ml.p3.2xlarge",
    "vcpuNum": 8
   },
   {
    "_defaultOrder": 36,
    "_isFastLaunch": false,
    "category": "Accelerated computing",
    "gpuNum": 4,
    "hideHardwareSpecs": false,
    "memoryGiB": 244,
    "name": "ml.p3.8xlarge",
    "vcpuNum": 32
   },
   {
    "_defaultOrder": 37,
    "_isFastLaunch": false,
    "category": "Accelerated computing",
    "gpuNum": 8,
    "hideHardwareSpecs": false,
    "memoryGiB": 488,
    "name": "ml.p3.16xlarge",
    "vcpuNum": 64
   },
   {
    "_defaultOrder": 38,
    "_isFastLaunch": false,
    "category": "Accelerated computing",
    "gpuNum": 8,
    "hideHardwareSpecs": false,
    "memoryGiB": 768,
    "name": "ml.p3dn.24xlarge",
    "vcpuNum": 96
   },
   {
    "_defaultOrder": 39,
    "_isFastLaunch": false,
    "category": "Memory Optimized",
    "gpuNum": 0,
    "hideHardwareSpecs": false,
    "memoryGiB": 16,
    "name": "ml.r5.large",
    "vcpuNum": 2
   },
   {
    "_defaultOrder": 40,
    "_isFastLaunch": false,
    "category": "Memory Optimized",
    "gpuNum": 0,
    "hideHardwareSpecs": false,
    "memoryGiB": 32,
    "name": "ml.r5.xlarge",
    "vcpuNum": 4
   },
   {
    "_defaultOrder": 41,
    "_isFastLaunch": false,
    "category": "Memory Optimized",
    "gpuNum": 0,
    "hideHardwareSpecs": false,
    "memoryGiB": 64,
    "name": "ml.r5.2xlarge",
    "vcpuNum": 8
   },
   {
    "_defaultOrder": 42,
    "_isFastLaunch": false,
    "category": "Memory Optimized",
    "gpuNum": 0,
    "hideHardwareSpecs": false,
    "memoryGiB": 128,
    "name": "ml.r5.4xlarge",
    "vcpuNum": 16
   },
   {
    "_defaultOrder": 43,
    "_isFastLaunch": false,
    "category": "Memory Optimized",
    "gpuNum": 0,
    "hideHardwareSpecs": false,
    "memoryGiB": 256,
    "name": "ml.r5.8xlarge",
    "vcpuNum": 32
   },
   {
    "_defaultOrder": 44,
    "_isFastLaunch": false,
    "category": "Memory Optimized",
    "gpuNum": 0,
    "hideHardwareSpecs": false,
    "memoryGiB": 384,
    "name": "ml.r5.12xlarge",
    "vcpuNum": 48
   },
   {
    "_defaultOrder": 45,
    "_isFastLaunch": false,
    "category": "Memory Optimized",
    "gpuNum": 0,
    "hideHardwareSpecs": false,
    "memoryGiB": 512,
    "name": "ml.r5.16xlarge",
    "vcpuNum": 64
   },
   {
    "_defaultOrder": 46,
    "_isFastLaunch": false,
    "category": "Memory Optimized",
    "gpuNum": 0,
    "hideHardwareSpecs": false,
    "memoryGiB": 768,
    "name": "ml.r5.24xlarge",
    "vcpuNum": 96
   },
   {
    "_defaultOrder": 47,
    "_isFastLaunch": false,
    "category": "Accelerated computing",
    "gpuNum": 1,
    "hideHardwareSpecs": false,
    "memoryGiB": 16,
    "name": "ml.g5.xlarge",
    "vcpuNum": 4
   },
   {
    "_defaultOrder": 48,
    "_isFastLaunch": false,
    "category": "Accelerated computing",
    "gpuNum": 1,
    "hideHardwareSpecs": false,
    "memoryGiB": 32,
    "name": "ml.g5.2xlarge",
    "vcpuNum": 8
   },
   {
    "_defaultOrder": 49,
    "_isFastLaunch": false,
    "category": "Accelerated computing",
    "gpuNum": 1,
    "hideHardwareSpecs": false,
    "memoryGiB": 64,
    "name": "ml.g5.4xlarge",
    "vcpuNum": 16
   },
   {
    "_defaultOrder": 50,
    "_isFastLaunch": false,
    "category": "Accelerated computing",
    "gpuNum": 1,
    "hideHardwareSpecs": false,
    "memoryGiB": 128,
    "name": "ml.g5.8xlarge",
    "vcpuNum": 32
   },
   {
    "_defaultOrder": 51,
    "_isFastLaunch": false,
    "category": "Accelerated computing",
    "gpuNum": 1,
    "hideHardwareSpecs": false,
    "memoryGiB": 256,
    "name": "ml.g5.16xlarge",
    "vcpuNum": 64
   },
   {
    "_defaultOrder": 52,
    "_isFastLaunch": false,
    "category": "Accelerated computing",
    "gpuNum": 4,
    "hideHardwareSpecs": false,
    "memoryGiB": 192,
    "name": "ml.g5.12xlarge",
    "vcpuNum": 48
   },
   {
    "_defaultOrder": 53,
    "_isFastLaunch": false,
    "category": "Accelerated computing",
    "gpuNum": 4,
    "hideHardwareSpecs": false,
    "memoryGiB": 384,
    "name": "ml.g5.24xlarge",
    "vcpuNum": 96
   },
   {
    "_defaultOrder": 54,
    "_isFastLaunch": false,
    "category": "Accelerated computing",
    "gpuNum": 8,
    "hideHardwareSpecs": false,
    "memoryGiB": 768,
    "name": "ml.g5.48xlarge",
    "vcpuNum": 192
   },
   {
    "_defaultOrder": 55,
    "_isFastLaunch": false,
    "category": "Accelerated computing",
    "gpuNum": 8,
    "hideHardwareSpecs": false,
    "memoryGiB": 1152,
    "name": "ml.p4d.24xlarge",
    "vcpuNum": 96
   },
   {
    "_defaultOrder": 56,
    "_isFastLaunch": false,
    "category": "Accelerated computing",
    "gpuNum": 8,
    "hideHardwareSpecs": false,
    "memoryGiB": 1152,
    "name": "ml.p4de.24xlarge",
    "vcpuNum": 96
   }
  ],
  "instance_type": "ml.t3.medium",
  "kernelspec": {
   "display_name": "Python 3 (Data Science 3.0)",
   "language": "python",
   "name": "python3__SAGEMAKER_INTERNAL__arn:aws:sagemaker:us-west-2:236514542706:image/sagemaker-data-science-310-v1"
  },
  "language_info": {
   "codemirror_mode": {
    "name": "ipython",
    "version": 3
   },
   "file_extension": ".py",
   "mimetype": "text/x-python",
   "name": "python",
   "nbconvert_exporter": "python",
   "pygments_lexer": "ipython3",
   "version": "3.10.6"
  }
 },
 "nbformat": 4,
 "nbformat_minor": 5
}
