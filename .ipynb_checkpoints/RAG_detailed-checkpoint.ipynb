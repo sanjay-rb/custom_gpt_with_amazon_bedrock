{
 "cells": [
  {
   "cell_type": "markdown",
   "metadata": {},
   "source": [
    "# Installing required modules"
   ]
  },
  {
   "cell_type": "markdown",
   "metadata": {
    "tags": []
   },
   "source": [
    "%pip install --quiet --no-build-isolation --force-reinstall \\\n",
    "    \"boto3\" \\\n",
    "    \"awscli\" \\\n",
    "    \"botocore\" \\\n",
    "    \"faiss-cpu\" \\\n",
    "    \"langchain\" \\\n",
    "    \"pypdf\" \\\n",
    "    \"sqlalchemy\" \\\n",
    "    \"pickle5\" \\\n",
    "    \"transformers\""
   ]
  },
  {
   "cell_type": "markdown",
   "metadata": {},
   "source": [
    "# Connecting to aws bedrock service & get a client"
   ]
  },
  {
   "cell_type": "code",
   "execution_count": 2,
   "metadata": {
    "tags": []
   },
   "outputs": [
    {
     "name": "stdout",
     "output_type": "stream",
     "text": [
      "Create new client\n",
      "  Using region: us-west-2\n",
      "  Using role: arn:aws:iam::195364414018:role/Crossaccountbedrock ... successful!\n",
      "boto3 Bedrock client successfully created!\n",
      "bedrock-runtime(https://bedrock-runtime.us-west-2.amazonaws.com)\n"
     ]
    }
   ],
   "source": [
    "import json\n",
    "import os\n",
    "import sys\n",
    "\n",
    "import boto3\n",
    "\n",
    "module_path = \"..\"\n",
    "sys.path.append(os.path.abspath(module_path))\n",
    "from utils import bedrock, print_ww\n",
    "\n",
    "\n",
    "# ---- ⚠️ Un-comment and edit the below lines as needed for your AWS setup ⚠️ ----\n",
    "\n",
    "os.environ[\"AWS_DEFAULT_REGION\"] = \"us-west-2\"  # E.g. \"us-east-1\"\n",
    "# os.environ[\"AWS_PROFILE\"] = \"<YOUR_PROFILE>\"\n",
    "os.environ[\"BEDROCK_ASSUME_ROLE\"] = \"arn:aws:iam::195364414018:role/Crossaccountbedrock\"  # E.g. \"arn:aws:...\"\n",
    "\n",
    "boto3_bedrock = bedrock.get_bedrock_client(\n",
    "    assumed_role=os.environ.get(\"BEDROCK_ASSUME_ROLE\", None),\n",
    "    region=os.environ.get(\"AWS_DEFAULT_REGION\", None)\n",
    ")"
   ]
  },
  {
   "cell_type": "markdown",
   "metadata": {},
   "source": [
    "# Creating object of embedding and llm"
   ]
  },
  {
   "cell_type": "code",
   "execution_count": 3,
   "metadata": {
    "collapsed": false,
    "jupyter": {
     "outputs_hidden": false
    },
    "tags": []
   },
   "outputs": [],
   "source": [
    "from langchain.embeddings import BedrockEmbeddings\n",
    "from langchain.llms.bedrock import Bedrock\n",
    "\n",
    "br_embeddings = BedrockEmbeddings(model_id=\"amazon.titan-embed-text-v1\", client=boto3_bedrock)\n",
    "br_llm = Bedrock(model_id=\"anthropic.claude-v2\",client=boto3_bedrock)"
   ]
  },
  {
   "cell_type": "markdown",
   "metadata": {},
   "source": [
    "# Load PDF files from dir and store in vectorstore"
   ]
  },
  {
   "cell_type": "code",
   "execution_count": 4,
   "metadata": {
    "tags": []
   },
   "outputs": [
    {
     "name": "stdout",
     "output_type": "stream",
     "text": [
      "Spliting the content with length 5757\n",
      "Spliting the content with length 4317\n",
      "Spliting the content with length 280\n",
      "Spliting the content with length 4045\n",
      "Spliting the content with length 4043\n",
      "Spliting the content with length 6742\n",
      "Spliting the content with length 3221\n",
      "Spliting the content with length 5830\n",
      "Spliting the content with length 5840\n",
      "Spliting the content with length 6663\n",
      "Spliting the content with length 3329\n",
      "Spliting the content with length 3385\n",
      "Spliting the content with length 4846\n",
      "Spliting the content with length 6515\n",
      "Spliting the content with length 6493\n",
      "Spliting the content with length 6994\n",
      "Spliting the content with length 7020\n",
      "Spliting the content with length 332\n",
      "Spliting the content with length 2421\n",
      "Spliting the content with length 85\n",
      "Spliting the content with length 1182\n",
      "Spliting the content with length 3463\n",
      "Spliting the content with length 85\n",
      "Spliting the content with length 1295\n",
      "Spliting the content with length 85\n",
      "Spliting the content with length 2214\n",
      "Spliting the content with length 402\n",
      "Spliting the content with length 2882\n",
      "Spliting the content with length 1571\n",
      "Spliting the content with length 2851\n",
      "Spliting the content with length 2124\n",
      "Spliting the content with length 35\n",
      "Spliting the content with length 391\n",
      "Spliting the content with length 1473\n",
      "Spliting the content with length 2889\n",
      "Spliting the content with length 2218\n",
      "Spliting the content with length 2405\n",
      "Spliting the content with length 826\n",
      "Spliting the content with length 3436\n",
      "Spliting the content with length 2915\n",
      "Spliting the content with length 2503\n",
      "Spliting the content with length 2827\n",
      "Spliting the content with length 2400\n",
      "Spliting the content with length 1974\n",
      "Spliting the content with length 2018\n",
      "Spliting the content with length 821\n",
      "Spliting the content with length 3237\n",
      "Spliting the content with length 3214\n",
      "Spliting the content with length 899\n",
      "Spliting the content with length 2681\n",
      "Spliting the content with length 689\n",
      "Spliting the content with length 4511\n",
      "Spliting the content with length 333\n",
      "Spliting the content with length 4519\n",
      "Spliting the content with length 4547\n",
      "Spliting the content with length 4690\n",
      "Spliting the content with length 4698\n",
      "Spliting the content with length 4324\n",
      "Spliting the content with length 6781\n",
      "Spliting the content with length 2796\n",
      "Spliting the content with length 5476\n",
      "Spliting the content with length 3359\n",
      "Spliting the content with length 5885\n",
      "Spliting the content with length 2638\n",
      "Spliting the content with length 5007\n",
      "Spliting the content with length 3319\n",
      "Spliting the content with length 6072\n",
      "Spliting the content with length 2160\n",
      "Spliting the content with length 4067\n",
      "Spliting the content with length 2490\n",
      "Spliting the content with length 4546\n",
      "Spliting the content with length 2832\n",
      "Spliting the content with length 5572\n",
      "Spliting the content with length 2802\n",
      "Spliting the content with length 4847\n",
      "Spliting the content with length 2705\n",
      "Spliting the content with length 6204\n",
      "Spliting the content with length 2144\n",
      "Spliting the content with length 4628\n",
      "Spliting the content with length 2203\n",
      "Spliting the content with length 2817\n",
      "Spliting the content with length 2481\n",
      "Spliting the content with length 5245\n",
      "Spliting the content with length 3266\n",
      "Spliting the content with length 110\n",
      "Spliting the content with length 107\n",
      "Spliting the content with length 107\n",
      "Spliting the content with length 684\n",
      "Spliting the content with length 5486\n",
      "Spliting the content with length 6709\n",
      "Spliting the content with length 5362\n",
      "Spliting the content with length 3159\n",
      "vectorstore_faiss_aws: number of elements in the index=380\n"
     ]
    }
   ],
   "source": [
    "from langchain.document_loaders import PyPDFDirectoryLoader\n",
    "from langchain.text_splitter import RecursiveCharacterTextSplitter\n",
    "from langchain.vectorstores import FAISS\n",
    "\n",
    "loader = PyPDFDirectoryLoader(\"single_v_docs\")\n",
    "pages = loader.load()\n",
    "\n",
    "chunk_size = 1000\n",
    "text_splitter = RecursiveCharacterTextSplitter(\n",
    "    chunk_size=chunk_size, \n",
    "    chunk_overlap=100,\n",
    "    length_function = len,\n",
    ")\n",
    "\n",
    "docs, metadata = [], []\n",
    "\n",
    "for i in range(len(pages)):\n",
    "    print(f\"Spliting the content with length\", len(pages[i].page_content))\n",
    "    splits = text_splitter.split_text(pages[i].page_content)\n",
    "    docs.extend(splits)\n",
    "    metadata.extend([{\"source\": pages[i].metadata[\"source\"]}] * len(splits))\n",
    "\n",
    "vectorstore_faiss_aws = FAISS.from_texts(\n",
    "    docs,\n",
    "    br_embeddings,\n",
    "    metadatas=metadata,\n",
    ")\n",
    "\n",
    "print(f\"vectorstore_faiss_aws: number of elements in the index={vectorstore_faiss_aws.index.ntotal}\")\n",
    "    \n"
   ]
  },
  {
   "cell_type": "markdown",
   "metadata": {},
   "source": [
    "# Save vector store for later use "
   ]
  },
  {
   "cell_type": "code",
   "execution_count": 5,
   "metadata": {},
   "outputs": [],
   "source": [
    "# import pickle\n",
    "# with open(\"vectorstore_faiss_aws.pkl\", \"wb\") as f:\n",
    "#     pickle.dump(vectorstore_faiss_aws, f)\n",
    "# exit()"
   ]
  },
  {
   "cell_type": "markdown",
   "metadata": {},
   "source": [
    "# Adding index wapper to vector store for faster querying"
   ]
  },
  {
   "cell_type": "code",
   "execution_count": 6,
   "metadata": {
    "tags": []
   },
   "outputs": [
    {
     "name": "stdout",
     "output_type": "stream",
     "text": [
      " Based on the provided context, I do not have enough information to determine the account name or\n",
      "policyholder for this insurance policy. The excerpts mention contacting to make a payment and\n",
      "renewing a policy, but do not specify an account name. Without more context about the policy\n",
      "details, I cannot confidently provide the account name.\n"
     ]
    }
   ],
   "source": [
    "from langchain.indexes.vectorstore import VectorStoreIndexWrapper\n",
    "wrapper_store_faiss = VectorStoreIndexWrapper(vectorstore=vectorstore_faiss_aws)\n",
    "print_ww(wrapper_store_faiss.query(\"Account name of the policy?\", llm=br_llm))"
   ]
  },
  {
   "cell_type": "markdown",
   "metadata": {
    "tags": []
   },
   "source": [
    "# Let check with actually return from pdf "
   ]
  },
  {
   "cell_type": "code",
   "execution_count": 7,
   "metadata": {
    "tags": []
   },
   "outputs": [
    {
     "name": "stdout",
     "output_type": "stream",
     "text": [
      "From single_v_docs/insurance-motor-important-information-document-NMDMG10248.pdf ss return : \n",
      "\n",
      "Content \n",
      "ask you to contact us to make payment before we can renew \n",
      "your policy.\n",
      "AV803557_NMDMG10248_1222.indd   3AV803557_NMDMG10248_1222.indd   3 21/10/22   12:21 PM21/10/22   12:21 PM \n",
      "\n",
      "From single_v_docs/insurance_motor_car_motor_policy_booklet_241017_NMDMG10249_v3.pdf ss return : \n",
      "\n",
      "Content \n",
      "take out or renew your policy;\n",
      "AV888149_NMDMG10249_0623.indd   3AV888149_NMDMG10249_0623.indd   3 10/05/23   12:14 PM10/05/23   12:14 PM \n",
      "\n",
      "From single_v_docs/insurance_motor_car_motor_policy_booklet_241017_NMDMG10249_v3.pdf ss return : \n",
      "\n",
      "Content \n",
      "take out or renew your policy;Contents\n",
      "AV888149_NMDMG10249_0623.indd   2AV888149_NMDMG10249_0623.indd   2 10/05/23   12:14 PM10/05/23   12:14 PM \n",
      "\n",
      "From single_v_docs/insurance_motor_car_motor_policy_booklet_241017_NMDMG10249_v3.pdf ss return : \n",
      "\n",
      "Content \n",
      "policyholder or partner and the Finance Company agrees.\n",
      "AV888149_NMDMG10249_0623.indd   8AV888149_NMDMG10249_0623.indd   8 10/05/23   12:14 PM10/05/23   12:14 PM \n",
      "\n"
     ]
    }
   ],
   "source": [
    "v = br_embeddings.embed_query(\"Account name of the policy?\")\n",
    "\n",
    "for i in vectorstore_faiss_aws.similarity_search_by_vector(v, k=4):\n",
    "    print(f\"From {i.metadata['source']} ss return : \\n\")\n",
    "    print(f\"Content \\n{i.page_content} \\n\")"
   ]
  },
  {
   "cell_type": "markdown",
   "metadata": {
    "tags": []
   },
   "source": [
    "#### Parameters used for ConversationRetrievalChain\n",
    "* **retriever**: We used `VectorStoreRetriever`, which is backed by a `VectorStore`. To retrieve text, there are two search types you can choose: `\"similarity\"` or `\"mmr\"`. `search_type=\"similarity\"` uses similarity search in the retriever object where it selects text chunk vectors that are most similar to the question vector.\n",
    "\n",
    "* **memory**: Memory Chain to store the history \n",
    "\n",
    "* **condense_question_prompt**: Given a question from the user, we use the previous conversation and that question to make up a standalone question\n",
    "\n",
    "* **chain_type**: If the chat history is long and doesn't fit the context you use this parameter and the options are `stuff`, `refine`, `map_reduce`, `map-rerank`\n",
    "\n",
    "If the question asked is outside the scope of context, then the model will reply it doesn't know the answer\n",
    "\n",
    "**Note**: if you are curious how the chain works, uncomment the `verbose=True` line."
   ]
  },
  {
   "cell_type": "markdown",
   "metadata": {},
   "source": [
    "# Prompt template for chain"
   ]
  },
  {
   "cell_type": "code",
   "execution_count": 8,
   "metadata": {
    "tags": []
   },
   "outputs": [],
   "source": [
    "from langchain.prompts.prompt import PromptTemplate\n",
    "\n",
    "_template = \"\"\"Given the following conversation and a follow up question, rephrase the follow up question to be a standalone question, in its original language.\n",
    "\n",
    "Chat History:\n",
    "{chat_history}\n",
    "Follow Up Input: {question}\n",
    "Standalone question:\"\"\"\n",
    "CONDENSE_QUESTION_PROMPT = PromptTemplate.from_template(_template)"
   ]
  },
  {
   "cell_type": "code",
   "execution_count": 33,
   "metadata": {},
   "outputs": [],
   "source": [
    "# turn verbose to true to see the full logs and documents\n",
    "from langchain.chains import ConversationalRetrievalChain\n",
    "from langchain.memory import ConversationBufferWindowMemory\n",
    "\n",
    "# store previous interactions using ConversationalBufferMemory and add custom prompts to the chat.\n",
    "memory = ConversationBufferWindowMemory(memory_key=\"chat_history\", return_messages=True, k=3, output_key=\"answer\")\n",
    "\n",
    "\n",
    "qa = ConversationalRetrievalChain.from_llm(\n",
    "    llm=br_llm, \n",
    "    # embeddings=br_embeddings,\n",
    "    retriever=vectorstore_faiss_aws.as_retriever(search_type=\"similarity\"), \n",
    "    memory=memory,\n",
    "    condense_question_prompt=CONDENSE_QUESTION_PROMPT,\n",
    "    condense_question_llm = br_llm,\n",
    "    verbose=False, \n",
    "    chain_type='map_reduce',\n",
    "    return_source_documents=True,\n",
    ")"
   ]
  },
  {
   "cell_type": "code",
   "execution_count": 34,
   "metadata": {},
   "outputs": [
    {
     "name": "stderr",
     "output_type": "stream",
     "text": [
      "None of PyTorch, TensorFlow >= 2.0, or Flax have been found. Models won't be available and only tokenizers, configuration and file/data utilities can be used.\n",
      "Token indices sequence length is longer than the specified maximum sequence length for this model (1789 > 1024). Running this sequence through the model will result in indexing errors\n"
     ]
    }
   ],
   "source": [
    "result = qa({\"question\": \"How much is the third party damage limit?\"})"
   ]
  },
  {
   "cell_type": "code",
   "execution_count": 35,
   "metadata": {
    "tags": []
   },
   "outputs": [
    {
     "name": "stdout",
     "output_type": "stream",
     "text": [
      "AI Answer : \n",
      " Unfortunately the provided text does not contain enough information to determine the specific amount of the third party damage limit. The text discusses various types of coverage but does not mention a specific limit for third party damage. Without that key detail in the text, I do not have enough context to provide a definitive answer to the question asked.\n",
      "\n",
      "Referance : \n",
      "1. From single_v_docs/insurance_motor_car_motor_policy_booklet_241017_NMDMG10249_v3.pdf ss return : \n",
      "\n",
      "Content \n",
      "vehicle  after unloading it.\n",
      "• \n",
      " any claim if any \n",
      "persons insured under this section do not keep to the terms and \n",
      "conditions of this policy.\n",
      "Section 3. Motor Injury Protection\n",
      "There is no cover under this section if you have purchased Third Party, Fire and Theft cover.\n",
      "If the vehicle policyholder, their partner or named drivers suffer accidental bodily injury as a result of:•\n",
      "  a r\n",
      "oad traffic accident in direct connection with the use of your vehicle  \n",
      " \n",
      "and/or\n",
      "•\n",
      "  tr\n",
      "avelling in, getting in to or out of your vehicle\n",
      "listed in your schedule, we  will pay an amount as shown in your schedule, if, within three months of the \n",
      "accident, the injury is the sole cause of their:\n",
      " – death.\n",
      " –   irrecoverable loss of sight in one or both eyes or total and permanent loss of hearing in one or \n",
      "both ears.\n",
      " –  lo ss of any limb which means severance at or above the wrist or ankle, or the total and \n",
      "permanent loss of use of a hand, arm, foot or leg. \n",
      "\n",
      "2. From single_v_docs/insurance_motor_car_motor_policy_booklet_241017_NMDMG10249_v3.pdf ss return : \n",
      "\n",
      "Content \n",
      "driven at any of these hazardous locations, the amount we  w ill pay for damage to \n",
      "another person’s property will be limited to the amount shown in your schedule or such \n",
      "greater sum as may be required to meet the minimum insurance requirements of the Road Traffic Acts.\n",
      "High category hazardous goodsAny substance within the following United Nations Hazard Classes;\n",
      "1: Explosives; 5.2: Organic peroxides; 6.1: Toxic substances; 6.2: Infectious substances;  \n",
      "7: Radioactive materials\n",
      "AV888149_NMDMG10249_0623.indd   11AV888149_NMDMG10249_0623.indd   11 10/05/23   12:14 PM10/05/23   12:14 PM \n",
      "\n",
      "3. From single_v_docs/insurance_motor_car_motor_policy_booklet_241017_NMDMG10249_v3.pdf ss return : \n",
      "\n",
      "Content \n",
      "•\n",
      "  Loss of or damage caused by the unauthorised, and/or malicious access to \n",
      "computer \n",
      "system(s) or electronic components and systems, resulting in any reprogramming of software, introduction of malware, codes or viruses with the intention or effect to \n",
      "cause such systems to stop, fail or function otherwise than is intended by the Vehicle Manufacturer.\n",
      "Section 2. Your liability\n",
      "Persons insured are covered against all amounts which may have to be paid as a result of them being legally liable for an accident, involving your vehicle, resulting in:\n",
      "•\n",
      "  ano\n",
      "ther person’s death or injury\n",
      "•\n",
      "  damag\n",
      "e to another person’s property (up to a maximum amount as shown in your schedule, plus an \n",
      "additional amount to cover claimant’s costs and expenses).\n",
      "Important note\n",
      "If your vehicle  is carrying any of these high category hazardous goods or being used or  \n",
      "driven at any of these hazardous locations, the amount we  w ill pay for damage to \n",
      "\n",
      "4. From single_v_docs/insurance_motor_car_motor_policy_booklet_241017_NMDMG10249_v3.pdf ss return : \n",
      "\n",
      "Content \n",
      "• storm damage caused by falling or flying objects.\n",
      "You will need to report the incident to the police and provide us with the crime reference number, if your vehicle is vandalised/suffers malicious damage. You will still have to pay your excess. \n",
      "Uninsured driver promise\n",
      "If you are hit by an uninsured driver and provide us with the other driver’s name, contact details and their vehicle registration number, we will not reduce your no claim discount. This only applies where the driver of your vehicle is not at fault.\n",
      "Section 9. Glass\n",
      "There is no cover under this section if you have purchased Third Party, Fire and Theft cover.\n",
      "We will pay for the replacement or repair of the glass in your  vehicle’s  windscreen, sunroof or \n",
      "windows if it is lost or damaged or the bodywork of your  vehicle  suffers scratching arising solely from \n",
      "the breakage of glass. The most we  will pay will be the market  value  of your  vehicle . We  may use \n",
      "\n"
     ]
    }
   ],
   "source": [
    "print(\"AI Answer : \")\n",
    "print(result[\"answer\"])\n",
    "print()\n",
    "print(\"Referance : \")\n",
    "for k, i in enumerate(result[\"source_documents\"]):\n",
    "    print(f\"{k+1}. From {i.metadata['source']} ss return : \\n\")\n",
    "    print(f\"Content \\n{i.page_content} \\n\")"
   ]
  },
  {
   "cell_type": "code",
   "execution_count": 12,
   "metadata": {
    "tags": []
   },
   "outputs": [
    {
     "data": {
      "text/plain": [
       "{'question': 'What is my policy number?',\n",
       " 'chat_history': [HumanMessage(content='How much is the third party damage limit?'),\n",
       "  AIMessage(content=' Based on the context provided, I do not see a specific amount stated for the third party damage limit. The relevant section says:\\n\\n\"Persons insured are covered against all amounts which may have to be paid as a result of them being legally liable for an accident, involving your vehicle, resulting in:\\n- another person’s death or injury  \\n- damage to another person’s property (up to a maximum amount as shown in your schedule, plus an additional amount to cover claimant’s costs and expenses).\"\\n\\nHowever, a specific limit amount is not provided. The passage states the limit is \"a maximum amount as shown in your schedule\", but the schedule is not included. So unfortunately I cannot determine the specific third party damage limit based on the information given.')],\n",
       " 'answer': \" Unfortunately there is no policy number provided in the given context. The text mentions contacting a helpline and providing a policy number, but does not actually specify what the policy number is. Since a specific policy number is not provided, I don't know what it is.\",\n",
       " 'source_documents': [Document(page_content='ask you to contact us to make payment before we can renew \\nyour policy.\\nAV803557_NMDMG10248_1222.indd   3AV803557_NMDMG10248_1222.indd   3 21/10/22   12:21 PM21/10/22   12:21 PM', metadata={'source': 'single_v_docs/insurance-motor-important-information-document-NMDMG10248.pdf'}),\n",
       "  Document(page_content='take out or renew your policy;\\nAV888149_NMDMG10249_0623.indd   3AV888149_NMDMG10249_0623.indd   3 10/05/23   12:14 PM10/05/23   12:14 PM', metadata={'source': 'single_v_docs/insurance_motor_car_motor_policy_booklet_241017_NMDMG10249_v3.pdf'}),\n",
       "  Document(page_content='take out or renew your policy;Contents\\nAV888149_NMDMG10249_0623.indd   2AV888149_NMDMG10249_0623.indd   2 10/05/23   12:14 PM10/05/23   12:14 PM', metadata={'source': 'single_v_docs/insurance_motor_car_motor_policy_booklet_241017_NMDMG10249_v3.pdf'}),\n",
       "  Document(page_content='Cover in this section is subject to cover not already being provided under ‘Section 2 – Your liability’ in \\nthis policy.\\nYour schedule shows the maximum amount we  will pay for any one claim under this cover.\\nIf you  need to report an incident or talk to us about a claim call us on 0345 300 2970\\nLines are open 24 hours a day, 365 days a year.\\n3. Motor legal advice helpline\\nYou  have access to a 24 hour legal advice helpline based in the UK – providing confidential legal advice on \\nany legal matter relating to the use of your vehicle (e.g. private vehicle sale).There are no consultation fees and lines are open 24 hours a day, 365 days a year, all you  pay for is the \\nphone call. Call us on 0345 300 2970Please ensure you  have your policy number to hand when you  contact us.\\nAV888149_NMDMG10249_0623.indd   22AV888149_NMDMG10249_0623.indd   22 10/05/23   12:14 PM10/05/23   12:14 PM', metadata={'source': 'single_v_docs/insurance_motor_car_motor_policy_booklet_241017_NMDMG10249_v3.pdf'})]}"
      ]
     },
     "execution_count": 12,
     "metadata": {},
     "output_type": "execute_result"
    }
   ],
   "source": [
    "result = qa({\"question\": \"What is my policy number?\"})\n",
    "result"
   ]
  },
  {
   "cell_type": "code",
   "execution_count": 13,
   "metadata": {
    "tags": []
   },
   "outputs": [
    {
     "data": {
      "text/plain": [
       "\" Unfortunately there is no policy number provided in the given context. The text mentions contacting a helpline and providing a policy number, but does not actually specify what the policy number is. Since a specific policy number is not provided, I don't know what it is.\""
      ]
     },
     "execution_count": 13,
     "metadata": {},
     "output_type": "execute_result"
    }
   ],
   "source": [
    "print(\"AI Answer : \")\n",
    "print(result[\"answer\"])\n",
    "print()\n",
    "print(\"Referance : \")\n",
    "for k, i in enumerate(result[\"source_documents\"]):\n",
    "    print(f\"{k+1}. From {i.metadata['source']} ss return : \\n\")\n",
    "    print(f\"Content \\n{i.page_content} \\n\")"
   ]
  }
 ],
 "metadata": {
  "availableInstances": [
   {
    "_defaultOrder": 0,
    "_isFastLaunch": true,
    "category": "General purpose",
    "gpuNum": 0,
    "hideHardwareSpecs": false,
    "memoryGiB": 4,
    "name": "ml.t3.medium",
    "vcpuNum": 2
   },
   {
    "_defaultOrder": 1,
    "_isFastLaunch": false,
    "category": "General purpose",
    "gpuNum": 0,
    "hideHardwareSpecs": false,
    "memoryGiB": 8,
    "name": "ml.t3.large",
    "vcpuNum": 2
   },
   {
    "_defaultOrder": 2,
    "_isFastLaunch": false,
    "category": "General purpose",
    "gpuNum": 0,
    "hideHardwareSpecs": false,
    "memoryGiB": 16,
    "name": "ml.t3.xlarge",
    "vcpuNum": 4
   },
   {
    "_defaultOrder": 3,
    "_isFastLaunch": false,
    "category": "General purpose",
    "gpuNum": 0,
    "hideHardwareSpecs": false,
    "memoryGiB": 32,
    "name": "ml.t3.2xlarge",
    "vcpuNum": 8
   },
   {
    "_defaultOrder": 4,
    "_isFastLaunch": true,
    "category": "General purpose",
    "gpuNum": 0,
    "hideHardwareSpecs": false,
    "memoryGiB": 8,
    "name": "ml.m5.large",
    "vcpuNum": 2
   },
   {
    "_defaultOrder": 5,
    "_isFastLaunch": false,
    "category": "General purpose",
    "gpuNum": 0,
    "hideHardwareSpecs": false,
    "memoryGiB": 16,
    "name": "ml.m5.xlarge",
    "vcpuNum": 4
   },
   {
    "_defaultOrder": 6,
    "_isFastLaunch": false,
    "category": "General purpose",
    "gpuNum": 0,
    "hideHardwareSpecs": false,
    "memoryGiB": 32,
    "name": "ml.m5.2xlarge",
    "vcpuNum": 8
   },
   {
    "_defaultOrder": 7,
    "_isFastLaunch": false,
    "category": "General purpose",
    "gpuNum": 0,
    "hideHardwareSpecs": false,
    "memoryGiB": 64,
    "name": "ml.m5.4xlarge",
    "vcpuNum": 16
   },
   {
    "_defaultOrder": 8,
    "_isFastLaunch": false,
    "category": "General purpose",
    "gpuNum": 0,
    "hideHardwareSpecs": false,
    "memoryGiB": 128,
    "name": "ml.m5.8xlarge",
    "vcpuNum": 32
   },
   {
    "_defaultOrder": 9,
    "_isFastLaunch": false,
    "category": "General purpose",
    "gpuNum": 0,
    "hideHardwareSpecs": false,
    "memoryGiB": 192,
    "name": "ml.m5.12xlarge",
    "vcpuNum": 48
   },
   {
    "_defaultOrder": 10,
    "_isFastLaunch": false,
    "category": "General purpose",
    "gpuNum": 0,
    "hideHardwareSpecs": false,
    "memoryGiB": 256,
    "name": "ml.m5.16xlarge",
    "vcpuNum": 64
   },
   {
    "_defaultOrder": 11,
    "_isFastLaunch": false,
    "category": "General purpose",
    "gpuNum": 0,
    "hideHardwareSpecs": false,
    "memoryGiB": 384,
    "name": "ml.m5.24xlarge",
    "vcpuNum": 96
   },
   {
    "_defaultOrder": 12,
    "_isFastLaunch": false,
    "category": "General purpose",
    "gpuNum": 0,
    "hideHardwareSpecs": false,
    "memoryGiB": 8,
    "name": "ml.m5d.large",
    "vcpuNum": 2
   },
   {
    "_defaultOrder": 13,
    "_isFastLaunch": false,
    "category": "General purpose",
    "gpuNum": 0,
    "hideHardwareSpecs": false,
    "memoryGiB": 16,
    "name": "ml.m5d.xlarge",
    "vcpuNum": 4
   },
   {
    "_defaultOrder": 14,
    "_isFastLaunch": false,
    "category": "General purpose",
    "gpuNum": 0,
    "hideHardwareSpecs": false,
    "memoryGiB": 32,
    "name": "ml.m5d.2xlarge",
    "vcpuNum": 8
   },
   {
    "_defaultOrder": 15,
    "_isFastLaunch": false,
    "category": "General purpose",
    "gpuNum": 0,
    "hideHardwareSpecs": false,
    "memoryGiB": 64,
    "name": "ml.m5d.4xlarge",
    "vcpuNum": 16
   },
   {
    "_defaultOrder": 16,
    "_isFastLaunch": false,
    "category": "General purpose",
    "gpuNum": 0,
    "hideHardwareSpecs": false,
    "memoryGiB": 128,
    "name": "ml.m5d.8xlarge",
    "vcpuNum": 32
   },
   {
    "_defaultOrder": 17,
    "_isFastLaunch": false,
    "category": "General purpose",
    "gpuNum": 0,
    "hideHardwareSpecs": false,
    "memoryGiB": 192,
    "name": "ml.m5d.12xlarge",
    "vcpuNum": 48
   },
   {
    "_defaultOrder": 18,
    "_isFastLaunch": false,
    "category": "General purpose",
    "gpuNum": 0,
    "hideHardwareSpecs": false,
    "memoryGiB": 256,
    "name": "ml.m5d.16xlarge",
    "vcpuNum": 64
   },
   {
    "_defaultOrder": 19,
    "_isFastLaunch": false,
    "category": "General purpose",
    "gpuNum": 0,
    "hideHardwareSpecs": false,
    "memoryGiB": 384,
    "name": "ml.m5d.24xlarge",
    "vcpuNum": 96
   },
   {
    "_defaultOrder": 20,
    "_isFastLaunch": false,
    "category": "General purpose",
    "gpuNum": 0,
    "hideHardwareSpecs": true,
    "memoryGiB": 0,
    "name": "ml.geospatial.interactive",
    "supportedImageNames": [
     "sagemaker-geospatial-v1-0"
    ],
    "vcpuNum": 0
   },
   {
    "_defaultOrder": 21,
    "_isFastLaunch": true,
    "category": "Compute optimized",
    "gpuNum": 0,
    "hideHardwareSpecs": false,
    "memoryGiB": 4,
    "name": "ml.c5.large",
    "vcpuNum": 2
   },
   {
    "_defaultOrder": 22,
    "_isFastLaunch": false,
    "category": "Compute optimized",
    "gpuNum": 0,
    "hideHardwareSpecs": false,
    "memoryGiB": 8,
    "name": "ml.c5.xlarge",
    "vcpuNum": 4
   },
   {
    "_defaultOrder": 23,
    "_isFastLaunch": false,
    "category": "Compute optimized",
    "gpuNum": 0,
    "hideHardwareSpecs": false,
    "memoryGiB": 16,
    "name": "ml.c5.2xlarge",
    "vcpuNum": 8
   },
   {
    "_defaultOrder": 24,
    "_isFastLaunch": false,
    "category": "Compute optimized",
    "gpuNum": 0,
    "hideHardwareSpecs": false,
    "memoryGiB": 32,
    "name": "ml.c5.4xlarge",
    "vcpuNum": 16
   },
   {
    "_defaultOrder": 25,
    "_isFastLaunch": false,
    "category": "Compute optimized",
    "gpuNum": 0,
    "hideHardwareSpecs": false,
    "memoryGiB": 72,
    "name": "ml.c5.9xlarge",
    "vcpuNum": 36
   },
   {
    "_defaultOrder": 26,
    "_isFastLaunch": false,
    "category": "Compute optimized",
    "gpuNum": 0,
    "hideHardwareSpecs": false,
    "memoryGiB": 96,
    "name": "ml.c5.12xlarge",
    "vcpuNum": 48
   },
   {
    "_defaultOrder": 27,
    "_isFastLaunch": false,
    "category": "Compute optimized",
    "gpuNum": 0,
    "hideHardwareSpecs": false,
    "memoryGiB": 144,
    "name": "ml.c5.18xlarge",
    "vcpuNum": 72
   },
   {
    "_defaultOrder": 28,
    "_isFastLaunch": false,
    "category": "Compute optimized",
    "gpuNum": 0,
    "hideHardwareSpecs": false,
    "memoryGiB": 192,
    "name": "ml.c5.24xlarge",
    "vcpuNum": 96
   },
   {
    "_defaultOrder": 29,
    "_isFastLaunch": true,
    "category": "Accelerated computing",
    "gpuNum": 1,
    "hideHardwareSpecs": false,
    "memoryGiB": 16,
    "name": "ml.g4dn.xlarge",
    "vcpuNum": 4
   },
   {
    "_defaultOrder": 30,
    "_isFastLaunch": false,
    "category": "Accelerated computing",
    "gpuNum": 1,
    "hideHardwareSpecs": false,
    "memoryGiB": 32,
    "name": "ml.g4dn.2xlarge",
    "vcpuNum": 8
   },
   {
    "_defaultOrder": 31,
    "_isFastLaunch": false,
    "category": "Accelerated computing",
    "gpuNum": 1,
    "hideHardwareSpecs": false,
    "memoryGiB": 64,
    "name": "ml.g4dn.4xlarge",
    "vcpuNum": 16
   },
   {
    "_defaultOrder": 32,
    "_isFastLaunch": false,
    "category": "Accelerated computing",
    "gpuNum": 1,
    "hideHardwareSpecs": false,
    "memoryGiB": 128,
    "name": "ml.g4dn.8xlarge",
    "vcpuNum": 32
   },
   {
    "_defaultOrder": 33,
    "_isFastLaunch": false,
    "category": "Accelerated computing",
    "gpuNum": 4,
    "hideHardwareSpecs": false,
    "memoryGiB": 192,
    "name": "ml.g4dn.12xlarge",
    "vcpuNum": 48
   },
   {
    "_defaultOrder": 34,
    "_isFastLaunch": false,
    "category": "Accelerated computing",
    "gpuNum": 1,
    "hideHardwareSpecs": false,
    "memoryGiB": 256,
    "name": "ml.g4dn.16xlarge",
    "vcpuNum": 64
   },
   {
    "_defaultOrder": 35,
    "_isFastLaunch": false,
    "category": "Accelerated computing",
    "gpuNum": 1,
    "hideHardwareSpecs": false,
    "memoryGiB": 61,
    "name": "ml.p3.2xlarge",
    "vcpuNum": 8
   },
   {
    "_defaultOrder": 36,
    "_isFastLaunch": false,
    "category": "Accelerated computing",
    "gpuNum": 4,
    "hideHardwareSpecs": false,
    "memoryGiB": 244,
    "name": "ml.p3.8xlarge",
    "vcpuNum": 32
   },
   {
    "_defaultOrder": 37,
    "_isFastLaunch": false,
    "category": "Accelerated computing",
    "gpuNum": 8,
    "hideHardwareSpecs": false,
    "memoryGiB": 488,
    "name": "ml.p3.16xlarge",
    "vcpuNum": 64
   },
   {
    "_defaultOrder": 38,
    "_isFastLaunch": false,
    "category": "Accelerated computing",
    "gpuNum": 8,
    "hideHardwareSpecs": false,
    "memoryGiB": 768,
    "name": "ml.p3dn.24xlarge",
    "vcpuNum": 96
   },
   {
    "_defaultOrder": 39,
    "_isFastLaunch": false,
    "category": "Memory Optimized",
    "gpuNum": 0,
    "hideHardwareSpecs": false,
    "memoryGiB": 16,
    "name": "ml.r5.large",
    "vcpuNum": 2
   },
   {
    "_defaultOrder": 40,
    "_isFastLaunch": false,
    "category": "Memory Optimized",
    "gpuNum": 0,
    "hideHardwareSpecs": false,
    "memoryGiB": 32,
    "name": "ml.r5.xlarge",
    "vcpuNum": 4
   },
   {
    "_defaultOrder": 41,
    "_isFastLaunch": false,
    "category": "Memory Optimized",
    "gpuNum": 0,
    "hideHardwareSpecs": false,
    "memoryGiB": 64,
    "name": "ml.r5.2xlarge",
    "vcpuNum": 8
   },
   {
    "_defaultOrder": 42,
    "_isFastLaunch": false,
    "category": "Memory Optimized",
    "gpuNum": 0,
    "hideHardwareSpecs": false,
    "memoryGiB": 128,
    "name": "ml.r5.4xlarge",
    "vcpuNum": 16
   },
   {
    "_defaultOrder": 43,
    "_isFastLaunch": false,
    "category": "Memory Optimized",
    "gpuNum": 0,
    "hideHardwareSpecs": false,
    "memoryGiB": 256,
    "name": "ml.r5.8xlarge",
    "vcpuNum": 32
   },
   {
    "_defaultOrder": 44,
    "_isFastLaunch": false,
    "category": "Memory Optimized",
    "gpuNum": 0,
    "hideHardwareSpecs": false,
    "memoryGiB": 384,
    "name": "ml.r5.12xlarge",
    "vcpuNum": 48
   },
   {
    "_defaultOrder": 45,
    "_isFastLaunch": false,
    "category": "Memory Optimized",
    "gpuNum": 0,
    "hideHardwareSpecs": false,
    "memoryGiB": 512,
    "name": "ml.r5.16xlarge",
    "vcpuNum": 64
   },
   {
    "_defaultOrder": 46,
    "_isFastLaunch": false,
    "category": "Memory Optimized",
    "gpuNum": 0,
    "hideHardwareSpecs": false,
    "memoryGiB": 768,
    "name": "ml.r5.24xlarge",
    "vcpuNum": 96
   },
   {
    "_defaultOrder": 47,
    "_isFastLaunch": false,
    "category": "Accelerated computing",
    "gpuNum": 1,
    "hideHardwareSpecs": false,
    "memoryGiB": 16,
    "name": "ml.g5.xlarge",
    "vcpuNum": 4
   },
   {
    "_defaultOrder": 48,
    "_isFastLaunch": false,
    "category": "Accelerated computing",
    "gpuNum": 1,
    "hideHardwareSpecs": false,
    "memoryGiB": 32,
    "name": "ml.g5.2xlarge",
    "vcpuNum": 8
   },
   {
    "_defaultOrder": 49,
    "_isFastLaunch": false,
    "category": "Accelerated computing",
    "gpuNum": 1,
    "hideHardwareSpecs": false,
    "memoryGiB": 64,
    "name": "ml.g5.4xlarge",
    "vcpuNum": 16
   },
   {
    "_defaultOrder": 50,
    "_isFastLaunch": false,
    "category": "Accelerated computing",
    "gpuNum": 1,
    "hideHardwareSpecs": false,
    "memoryGiB": 128,
    "name": "ml.g5.8xlarge",
    "vcpuNum": 32
   },
   {
    "_defaultOrder": 51,
    "_isFastLaunch": false,
    "category": "Accelerated computing",
    "gpuNum": 1,
    "hideHardwareSpecs": false,
    "memoryGiB": 256,
    "name": "ml.g5.16xlarge",
    "vcpuNum": 64
   },
   {
    "_defaultOrder": 52,
    "_isFastLaunch": false,
    "category": "Accelerated computing",
    "gpuNum": 4,
    "hideHardwareSpecs": false,
    "memoryGiB": 192,
    "name": "ml.g5.12xlarge",
    "vcpuNum": 48
   },
   {
    "_defaultOrder": 53,
    "_isFastLaunch": false,
    "category": "Accelerated computing",
    "gpuNum": 4,
    "hideHardwareSpecs": false,
    "memoryGiB": 384,
    "name": "ml.g5.24xlarge",
    "vcpuNum": 96
   },
   {
    "_defaultOrder": 54,
    "_isFastLaunch": false,
    "category": "Accelerated computing",
    "gpuNum": 8,
    "hideHardwareSpecs": false,
    "memoryGiB": 768,
    "name": "ml.g5.48xlarge",
    "vcpuNum": 192
   },
   {
    "_defaultOrder": 55,
    "_isFastLaunch": false,
    "category": "Accelerated computing",
    "gpuNum": 8,
    "hideHardwareSpecs": false,
    "memoryGiB": 1152,
    "name": "ml.p4d.24xlarge",
    "vcpuNum": 96
   },
   {
    "_defaultOrder": 56,
    "_isFastLaunch": false,
    "category": "Accelerated computing",
    "gpuNum": 8,
    "hideHardwareSpecs": false,
    "memoryGiB": 1152,
    "name": "ml.p4de.24xlarge",
    "vcpuNum": 96
   }
  ],
  "instance_type": "ml.t3.medium",
  "kernelspec": {
   "display_name": "Python 3 (Data Science 3.0)",
   "language": "python",
   "name": "python3__SAGEMAKER_INTERNAL__arn:aws:sagemaker:us-west-2:236514542706:image/sagemaker-data-science-310-v1"
  },
  "language_info": {
   "codemirror_mode": {
    "name": "ipython",
    "version": 3
   },
   "file_extension": ".py",
   "mimetype": "text/x-python",
   "name": "python",
   "nbconvert_exporter": "python",
   "pygments_lexer": "ipython3",
   "version": "3.10.6"
  }
 },
 "nbformat": 4,
 "nbformat_minor": 4
}
