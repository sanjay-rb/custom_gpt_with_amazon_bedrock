{
 "cells": [
  {
   "cell_type": "markdown",
   "metadata": {},
   "source": [
    "# Installing required modules"
   ]
  },
  {
   "cell_type": "markdown",
   "metadata": {
    "tags": []
   },
   "source": [
    "%pip install --quiet --no-build-isolation --force-reinstall \\\n",
    "    \"boto3\" \\\n",
    "    \"awscli\" \\\n",
    "    \"botocore\" \\\n",
    "    \"faiss-cpu\" \\\n",
    "    \"langchain\" \\\n",
    "    \"pypdf\" \\\n",
    "    \"sqlalchemy\" \\\n",
    "    \"pickle5\" \\\n",
    "    \"transformers\""
   ]
  },
  {
   "cell_type": "markdown",
   "metadata": {},
   "source": [
    "# Connecting to aws bedrock service & get a client"
   ]
  },
  {
   "cell_type": "code",
   "execution_count": 2,
   "metadata": {
    "tags": []
   },
   "outputs": [
    {
     "name": "stdout",
     "output_type": "stream",
     "text": [
      "Create new client\n",
      "  Using region: us-west-2\n",
      "  Using role: arn:aws:iam::195364414018:role/Crossaccountbedrock ... successful!\n",
      "boto3 Bedrock client successfully created!\n",
      "bedrock-runtime(https://bedrock-runtime.us-west-2.amazonaws.com)\n"
     ]
    }
   ],
   "source": [
    "import json\n",
    "import os\n",
    "import sys\n",
    "\n",
    "import boto3\n",
    "\n",
    "module_path = \"..\"\n",
    "sys.path.append(os.path.abspath(module_path))\n",
    "from utils import bedrock, print_ww\n",
    "\n",
    "\n",
    "# ---- ⚠️ Un-comment and edit the below lines as needed for your AWS setup ⚠️ ----\n",
    "\n",
    "os.environ[\"AWS_DEFAULT_REGION\"] = \"us-west-2\"  # E.g. \"us-east-1\"\n",
    "# os.environ[\"AWS_PROFILE\"] = \"<YOUR_PROFILE>\"\n",
    "os.environ[\"BEDROCK_ASSUME_ROLE\"] = \"arn:aws:iam::195364414018:role/Crossaccountbedrock\"  # E.g. \"arn:aws:...\"\n",
    "\n",
    "boto3_bedrock = bedrock.get_bedrock_client(\n",
    "    assumed_role=os.environ.get(\"BEDROCK_ASSUME_ROLE\", None),\n",
    "    region=os.environ.get(\"AWS_DEFAULT_REGION\", None)\n",
    ")"
   ]
  },
  {
   "cell_type": "markdown",
   "metadata": {},
   "source": [
    "# Creating object of embedding and llm"
   ]
  },
  {
   "cell_type": "code",
   "execution_count": 3,
   "metadata": {
    "collapsed": false,
    "jupyter": {
     "outputs_hidden": false
    },
    "tags": []
   },
   "outputs": [],
   "source": [
    "from langchain.embeddings import BedrockEmbeddings\n",
    "from langchain.llms.bedrock import Bedrock\n",
    "\n",
    "br_embeddings = BedrockEmbeddings(\n",
    "    model_id=\"amazon.titan-embed-text-v1\", \n",
    "    client=boto3_bedrock\n",
    ")\n",
    "\n",
    "br_llm = Bedrock(\n",
    "    model_id=\"anthropic.claude-v2\",\n",
    "    client=boto3_bedrock,\n",
    "    model_kwargs={\"temperature\":0.1}\n",
    ")\n",
    "\n",
    "is_login=True\n",
    "user=\"MV123456789\""
   ]
  },
  {
   "cell_type": "markdown",
   "metadata": {},
   "source": [
    "# Load PDF files from dir and store in vectorstore"
   ]
  },
  {
   "cell_type": "code",
   "execution_count": 4,
   "metadata": {
    "tags": []
   },
   "outputs": [],
   "source": [
    "from langchain.document_loaders import PyPDFDirectoryLoader, PyPDFLoader\n",
    "from langchain.text_splitter import RecursiveCharacterTextSplitter\n",
    "from langchain.vectorstores import FAISS\n",
    "import os\n",
    "\n",
    "pages = []\n",
    "files = os.listdir(\"public/\")\n",
    "for file_name in files:\n",
    "    if file_name.endswith(\".pdf\"):\n",
    "        loader = PyPDFLoader(\"public/\" + file_name)\n",
    "        pages.extend(loader.load())"
   ]
  },
  {
   "cell_type": "code",
   "execution_count": 5,
   "metadata": {
    "tags": []
   },
   "outputs": [
    {
     "name": "stdout",
     "output_type": "stream",
     "text": [
      "79\n",
      "{'source': 'public/insurance-motor-important-information-document-NMDMG10248.pdf', 'page': 2}\n"
     ]
    }
   ],
   "source": [
    "print(len(pages))\n",
    "print(pages[77].metadata)"
   ]
  },
  {
   "cell_type": "code",
   "execution_count": 6,
   "metadata": {
    "tags": []
   },
   "outputs": [
    {
     "name": "stdout",
     "output_type": "stream",
     "text": [
      "Spliting public/nmdmg14060.pdf page number : 1\n",
      "Spliting public/nmdmg14060.pdf page number : 2\n",
      "Spliting public/insurance-motor-car-motoring-in-europe-241017-NMDMG2918.pdf page number : 1\n",
      "Spliting public/insurance-motor-car-motoring-in-europe-241017-NMDMG2918.pdf page number : 2\n",
      "Spliting public/insurance-motor-car-motoring-in-europe-241017-NMDMG2918.pdf page number : 3\n",
      "Spliting public/insurance-motor-car-motoring-in-europe-241017-NMDMG2918.pdf page number : 4\n",
      "Spliting public/insurance-motor-car-motoring-in-europe-241017-NMDMG2918.pdf page number : 5\n",
      "Spliting public/insurance-motor-car-motoring-in-europe-241017-NMDMG2918.pdf page number : 6\n",
      "Spliting public/insurance-motor-car-motoring-in-europe-241017-NMDMG2918.pdf page number : 7\n",
      "Spliting public/insurance-motor-car-motoring-in-europe-241017-NMDMG2918.pdf page number : 8\n",
      "Spliting public/insurance-motor-car-motoring-in-europe-241017-NMDMG2918.pdf page number : 9\n",
      "Spliting public/insurance-motor-car-motoring-in-europe-241017-NMDMG2918.pdf page number : 10\n",
      "Spliting public/insurance-motor-car-motoring-in-europe-241017-NMDMG2918.pdf page number : 11\n",
      "Spliting public/insurance-motor-car-motoring-in-europe-241017-NMDMG2918.pdf page number : 12\n",
      "Spliting public/insurance-motor-car-motoring-in-europe-241017-NMDMG2918.pdf page number : 13\n",
      "Spliting public/insurance-motor-car-motoring-in-europe-241017-NMDMG2918.pdf page number : 14\n",
      "Spliting public/insurance-motor-car-motoring-in-europe-241017-NMDMG2918.pdf page number : 15\n",
      "Spliting public/insurance-motor-car-motoring-in-europe-241017-NMDMG2918.pdf page number : 16\n",
      "Spliting public/avivaplus-breakdown-cover-policy-wording.pdf page number : 1\n",
      "Spliting public/avivaplus-breakdown-cover-policy-wording.pdf page number : 2\n",
      "Spliting public/avivaplus-breakdown-cover-policy-wording.pdf page number : 3\n",
      "Spliting public/avivaplus-breakdown-cover-policy-wording.pdf page number : 4\n",
      "Spliting public/avivaplus-breakdown-cover-policy-wording.pdf page number : 5\n",
      "Spliting public/avivaplus-breakdown-cover-policy-wording.pdf page number : 6\n",
      "Spliting public/avivaplus-breakdown-cover-policy-wording.pdf page number : 7\n",
      "Spliting public/avivaplus-breakdown-cover-policy-wording.pdf page number : 8\n",
      "Spliting public/avivaplus-breakdown-cover-policy-wording.pdf page number : 9\n",
      "Spliting public/avivaplus-breakdown-cover-policy-wording.pdf page number : 10\n",
      "Spliting public/avivaplus-breakdown-cover-policy-wording.pdf page number : 11\n",
      "Spliting public/avivaplus-breakdown-cover-policy-wording.pdf page number : 12\n",
      "Spliting public/avivaplus-breakdown-cover-policy-wording.pdf page number : 13\n",
      "Spliting public/avivaplus-breakdown-cover-policy-wording.pdf page number : 14\n",
      "Spliting public/avivaplus-breakdown-cover-policy-wording.pdf page number : 15\n",
      "Spliting public/avivaplus-breakdown-cover-policy-wording.pdf page number : 16\n",
      "Spliting public/avivaplus-breakdown-cover-policy-wording.pdf page number : 17\n",
      "Spliting public/avivaplus-breakdown-cover-policy-wording.pdf page number : 18\n",
      "Spliting public/avivaplus-breakdown-cover-policy-wording.pdf page number : 19\n",
      "Spliting public/avivaplus-breakdown-cover-policy-wording.pdf page number : 20\n",
      "Spliting public/ngnag13363.pdf page number : 1\n",
      "Spliting public/insurance_motor_car_motor_policy_booklet_241017_NMDMG10249_v3.pdf page number : 1\n",
      "Spliting public/insurance_motor_car_motor_policy_booklet_241017_NMDMG10249_v3.pdf page number : 2\n",
      "Spliting public/insurance_motor_car_motor_policy_booklet_241017_NMDMG10249_v3.pdf page number : 3\n",
      "Spliting public/insurance_motor_car_motor_policy_booklet_241017_NMDMG10249_v3.pdf page number : 4\n",
      "Spliting public/insurance_motor_car_motor_policy_booklet_241017_NMDMG10249_v3.pdf page number : 5\n",
      "Spliting public/insurance_motor_car_motor_policy_booklet_241017_NMDMG10249_v3.pdf page number : 6\n",
      "Spliting public/insurance_motor_car_motor_policy_booklet_241017_NMDMG10249_v3.pdf page number : 7\n",
      "Spliting public/insurance_motor_car_motor_policy_booklet_241017_NMDMG10249_v3.pdf page number : 8\n",
      "Spliting public/insurance_motor_car_motor_policy_booklet_241017_NMDMG10249_v3.pdf page number : 9\n",
      "Spliting public/insurance_motor_car_motor_policy_booklet_241017_NMDMG10249_v3.pdf page number : 10\n",
      "Spliting public/insurance_motor_car_motor_policy_booklet_241017_NMDMG10249_v3.pdf page number : 11\n",
      "Spliting public/insurance_motor_car_motor_policy_booklet_241017_NMDMG10249_v3.pdf page number : 12\n",
      "Spliting public/insurance_motor_car_motor_policy_booklet_241017_NMDMG10249_v3.pdf page number : 13\n",
      "Spliting public/insurance_motor_car_motor_policy_booklet_241017_NMDMG10249_v3.pdf page number : 14\n",
      "Spliting public/insurance_motor_car_motor_policy_booklet_241017_NMDMG10249_v3.pdf page number : 15\n",
      "Spliting public/insurance_motor_car_motor_policy_booklet_241017_NMDMG10249_v3.pdf page number : 16\n",
      "Spliting public/insurance_motor_car_motor_policy_booklet_241017_NMDMG10249_v3.pdf page number : 17\n",
      "Spliting public/insurance_motor_car_motor_policy_booklet_241017_NMDMG10249_v3.pdf page number : 18\n",
      "Spliting public/insurance_motor_car_motor_policy_booklet_241017_NMDMG10249_v3.pdf page number : 19\n",
      "Spliting public/insurance_motor_car_motor_policy_booklet_241017_NMDMG10249_v3.pdf page number : 20\n",
      "Spliting public/insurance_motor_car_motor_policy_booklet_241017_NMDMG10249_v3.pdf page number : 21\n",
      "Spliting public/insurance_motor_car_motor_policy_booklet_241017_NMDMG10249_v3.pdf page number : 22\n",
      "Spliting public/insurance_motor_car_motor_policy_booklet_241017_NMDMG10249_v3.pdf page number : 23\n",
      "Spliting public/insurance_motor_car_motor_policy_booklet_241017_NMDMG10249_v3.pdf page number : 24\n",
      "Spliting public/insurance_motor_car_motor_policy_booklet_241017_NMDMG10249_v3.pdf page number : 25\n",
      "Spliting public/insurance_motor_car_motor_policy_booklet_241017_NMDMG10249_v3.pdf page number : 26\n",
      "Spliting public/insurance_motor_car_motor_policy_booklet_241017_NMDMG10249_v3.pdf page number : 27\n",
      "Spliting public/insurance_motor_car_motor_policy_booklet_241017_NMDMG10249_v3.pdf page number : 28\n",
      "Spliting public/insurance_motor_car_motor_policy_booklet_241017_NMDMG10249_v3.pdf page number : 29\n",
      "Spliting public/insurance_motor_car_motor_policy_booklet_241017_NMDMG10249_v3.pdf page number : 30\n",
      "Spliting public/insurance_motor_car_motor_policy_booklet_241017_NMDMG10249_v3.pdf page number : 31\n",
      "Spliting public/insurance_motor_car_motor_policy_booklet_241017_NMDMG10249_v3.pdf page number : 32\n",
      "Spliting public/insurance_motor_car_motor_policy_booklet_241017_NMDMG10249_v3.pdf page number : 33\n",
      "Spliting public/insurance_motor_car_motor_policy_booklet_241017_NMDMG10249_v3.pdf page number : 34\n",
      "Spliting public/insurance_motor_car_motor_policy_booklet_241017_NMDMG10249_v3.pdf page number : 35\n",
      "Spliting public/insurance_motor_car_motor_policy_booklet_241017_NMDMG10249_v3.pdf page number : 36\n",
      "Spliting public/insurance-motor-important-information-document-NMDMG10248.pdf page number : 1\n",
      "Spliting public/insurance-motor-important-information-document-NMDMG10248.pdf page number : 2\n",
      "Spliting public/insurance-motor-important-information-document-NMDMG10248.pdf page number : 3\n",
      "Spliting public/insurance-motor-important-information-document-NMDMG10248.pdf page number : 4\n",
      "pub_vs: number of elements in the index=521\n",
      "Spliting private/policy_certifcate_multiple_vehicle.pdf page number : 1\n",
      "Spliting private/policy_certifcate_multiple_vehicle.pdf page number : 2\n",
      "Spliting private/policy_certifcate_multiple_vehicle.pdf page number : 3\n",
      "Spliting private/policy_certifcate_multiple_vehicle.pdf page number : 4\n",
      "Spliting private/policy_certifcate_multiple_vehicle.pdf page number : 5\n",
      "Spliting private/policy_certifcate_multiple_vehicle.pdf page number : 6\n",
      "Spliting private/policy_certifcate_multiple_vehicle.pdf page number : 7\n",
      "Spliting private/policy_certifcate_multiple_vehicle.pdf page number : 8\n",
      "Spliting private/policy_certifcate_multiple_vehicle.pdf page number : 9\n",
      "Spliting private/policy_certifcate_multiple_vehicle.pdf page number : 10\n",
      "Spliting private/policy_certifcate_multiple_vehicle.pdf page number : 11\n",
      "Spliting private/policy_certifcate_multiple_vehicle.pdf page number : 12\n",
      "Spliting private/policy_certifcate_multiple_vehicle.pdf page number : 13\n",
      "Spliting private/policy_certifcate_multiple_vehicle.pdf page number : 14\n",
      "Spliting private/policy_certifcate_multiple_vehicle.pdf page number : 15\n",
      "Spliting private/policy_certifcate_multiple_vehicle.pdf page number : 16\n",
      "Spliting private/policy_certifcate_multiple_vehicle.pdf page number : 17\n",
      "pvt_vs: number of elements in the index=53\n"
     ]
    }
   ],
   "source": [
    "chunk_size = 1000\n",
    "chunk_overlap = 500\n",
    "\n",
    "text_splitter = RecursiveCharacterTextSplitter(\n",
    "    chunk_size=chunk_size, \n",
    "    chunk_overlap=chunk_overlap,\n",
    "    length_function = len,\n",
    ")\n",
    "\n",
    "docs, metadata = [], []\n",
    "\n",
    "for i in range(len(pages)):\n",
    "    print(f'Spliting {pages[i].metadata[\"source\"]} page number : {pages[i].metadata[\"page\"]+1}')\n",
    "    splits =  text_splitter.split_text(pages[i].page_content)\n",
    "    docs.extend(splits)\n",
    "    metadata.extend([{\"source\": pages[i].metadata[\"source\"], \"page_number\": pages[i].metadata[\"page\"]+1}] * len(splits))\n",
    "\n",
    "pub_vs = FAISS.from_texts(\n",
    "    docs,\n",
    "    br_embeddings,\n",
    "    metadatas=metadata,\n",
    ")\n",
    "\n",
    "print(f\"pub_vs: number of elements in the index={pub_vs.index.ntotal}\")\n",
    "\n",
    "loader = PyPDFLoader(\"private/policy_certifcate_multiple_vehicle.pdf\")\n",
    "pages = loader.load()\n",
    "\n",
    "docs, metadata = [], []\n",
    "\n",
    "for i in range(len(pages)):\n",
    "    print(f'Spliting {pages[i].metadata[\"source\"]} page number : {pages[i].metadata[\"page\"]+1}')\n",
    "    splits =  text_splitter.split_text(pages[i].page_content)\n",
    "    docs.extend(splits)\n",
    "    metadata.extend([{\"source\": pages[i].metadata[\"source\"], \"page_number\": pages[i].metadata[\"page\"]+1}] * len(splits))\n",
    "\n",
    "pvt_vs = FAISS.from_texts(\n",
    "    docs,\n",
    "    br_embeddings,\n",
    "    metadatas=metadata,\n",
    ")\n",
    "pvt_docs = docs\n",
    "\n",
    "print(f\"pvt_vs: number of elements in the index={pvt_vs.index.ntotal}\")"
   ]
  },
  {
   "cell_type": "markdown",
   "metadata": {},
   "source": [
    "# Save vector store for later use "
   ]
  },
  {
   "cell_type": "code",
   "execution_count": 7,
   "metadata": {
    "tags": []
   },
   "outputs": [],
   "source": [
    "# import pickle\n",
    "# print(type(pub_vs))\n",
    "# with open(\"pub_vs.pkl\", \"wb\") as f:\n",
    "#     pickle.dump(pub_vs, f)"
   ]
  },
  {
   "cell_type": "markdown",
   "metadata": {},
   "source": [
    "# Adding index wapper to vector store for faster querying"
   ]
  },
  {
   "cell_type": "code",
   "execution_count": 8,
   "metadata": {
    "tags": []
   },
   "outputs": [
    {
     "name": "stdout",
     "output_type": "stream",
     "text": [
      "Test run query in pub_vs_index:\n",
      " Based on the policy details provided, I do not see an explicit \"account name\" for the policy. The\n",
      "policy refers to a \"principal policyholder\" who entered into the insurance contract, and \"vehicle\n",
      "policyholders\" who are main users of insured vehicles. But there is no specific \"account name\"\n",
      "mentioned for the policy itself.\n",
      "Test run query in pvt_vs_index:\n",
      " Based on the context provided, the account name for the policy is TestTester. The relevant line\n",
      "states:\n",
      "\n",
      "Accountname TestTester\n",
      "\n",
      "So the account name is TestTester.\n"
     ]
    }
   ],
   "source": [
    "from langchain.indexes.vectorstore import VectorStoreIndexWrapper\n",
    "pub_vs_index = VectorStoreIndexWrapper(vectorstore=pub_vs)\n",
    "print(\"Test run query in pub_vs_index:\")\n",
    "print_ww(pub_vs_index.query(\"Account name of the policy?\", llm=br_llm))\n",
    "\n",
    "pvt_vs_index = VectorStoreIndexWrapper(vectorstore=pvt_vs)\n",
    "print(\"Test run query in pvt_vs_index:\")\n",
    "print_ww(pvt_vs_index.query(\"Account name of the policy?\", llm=br_llm))"
   ]
  },
  {
   "cell_type": "markdown",
   "metadata": {
    "tags": []
   },
   "source": [
    "# Creating a function to extract context from pub and pvt PDFS."
   ]
  },
  {
   "cell_type": "code",
   "execution_count": 9,
   "metadata": {
    "tags": []
   },
   "outputs": [],
   "source": [
    "def get_pdf_context(query):\n",
    "    # TODO: is user login \n",
    "    print(\"Getting PDF context from pub_vs_index\")\n",
    "    pub_context=\"\"\n",
    "    for k, i in enumerate(pub_vs_index.vectorstore.similarity_search(query, k=1)):\n",
    "        pub_context += f\"Source Document - {i.metadata['source']}\\nPage Number - {i.metadata['page_number']}\\nContext - {i.page_content}\\n\"\n",
    "        # print(f\"Content \\n{i.page_content} \\n\")\n",
    "\n",
    "    print(\"Getting PDF context from pvt_vs_index\")\n",
    "    pvt_context = \"\"\n",
    "    for k, i in enumerate(pvt_vs_index.vectorstore.similarity_search(query, k=1)):\n",
    "        pvt_context += f\"Source Document - {i.metadata['source']}\\nPage Number - {i.metadata['page_number']}\\nContext - {i.page_content}\\n\"\n",
    "        # print(f\"Content \\n{i.page_content} \\n\")\n",
    "    return pub_context, pvt_context"
   ]
  },
  {
   "cell_type": "markdown",
   "metadata": {},
   "source": [
    "# Creating Chat History Memory"
   ]
  },
  {
   "cell_type": "code",
   "execution_count": 10,
   "metadata": {
    "tags": []
   },
   "outputs": [],
   "source": [
    "from langchain.memory import ConversationBufferWindowMemory, ConversationSummaryMemory # llm \n",
    "\n",
    "# store previous interactions using ConversationalBufferMemory and add custom prompts to the chat.\n",
    "memory = ConversationBufferWindowMemory(\n",
    "    # llm=br_llm,\n",
    "    input_key=\"customer_query\",\n",
    "    memory_key=\"history\", \n",
    "    return_messages=False, \n",
    "    k=2,\n",
    "    ai_prefix=\"Assistant\",\n",
    "    human_prefix=\"Human\",\n",
    ")"
   ]
  },
  {
   "cell_type": "code",
   "execution_count": 11,
   "metadata": {
    "tags": []
   },
   "outputs": [],
   "source": [
    "# query = \"What will be my Cancellation fees and charges?\"\n",
    "# pub_context, pvt_context = get_pdf_context(query)\n",
    "# pvt_context"
   ]
  },
  {
   "cell_type": "markdown",
   "metadata": {},
   "source": [
    "# Prompt template for chain"
   ]
  },
  {
   "cell_type": "code",
   "execution_count": 12,
   "metadata": {
    "tags": []
   },
   "outputs": [],
   "source": [
    "from langchain.prompts.prompt import PromptTemplate\n",
    "\n",
    "_template = \"\"\"\n",
    "Human: If customer start the conversation to greet you at any time, please greet them according to the time of the day and don't refer to any documents also don't return source document name in the responce.\n",
    "\n",
    "Assistant: I will definetly greet the customer according to the time of the day and I won't refer to any documents also I won't return any source document name in the responce.\n",
    "\n",
    "{history}\n",
    "\n",
    "Human:\n",
    "Consider the following private document : \n",
    "{pvt_context} \n",
    "Please identify the context most relevant to the question \"{customer_query}\" unless the question is a greeting and copy them out word-for-word. \n",
    "If there are no context in this document than refer to this public document : \n",
    "{pub_context} \n",
    "that seem relevant to \"{customer_query}\" question and copy them out word-for-word. \n",
    "If you couldn't find any relevant context, please reply to customer politely that you don't know the answer to the question could they rephrase the question.\n",
    "Return the responce in exact json format given below:\n",
    "```json\n",
    "{{\n",
    "\t\"result_message\":\"<Assistant Responce>\",\n",
    "\t\"source\":\"<source_document_name>\",\n",
    "\t\"page_number\":\"<source_page_number>\",\n",
    "\t\"search_test\":\"<word-for-word copied from document>\",\n",
    "}}\n",
    "```\n",
    "Assistant:\n",
    "\"\"\"\n",
    "PROMPT = PromptTemplate(template=_template, input_variables=[\"customer_query\", \"pub_context\", \"pvt_context\", \"history\"])"
   ]
  },
  {
   "cell_type": "code",
   "execution_count": 13,
   "metadata": {
    "tags": []
   },
   "outputs": [],
   "source": [
    "# from langchain.prompts.prompt import PromptTemplate\n",
    "\n",
    "# _template = \"\"\"\n",
    "# Human: If customer start the conversation to greet you at any time, please greet them according to the time of the day and don't refer to any documents also don't return source document name in the responce.\n",
    "\n",
    "# Assistant: I will definetly greet the customer according to the time of the day and I won't refer to any documents also I won't return any source document name in the responce.\n",
    "\n",
    "# {history}\n",
    "\n",
    "# Human:\n",
    "# Consider the following document: {pvt_context} Please identify the context most relevant to the question unless the question is a greeting \"{customer_query}\" and copy them out word-for-word. \n",
    "# If there are no context in this document than refer to this document {pub_context} that seem relevant to this question and copy them out word-for-word. \n",
    "# If you couldn't find any relevant context, please reply to customer politely that you don't know the answer to the question could they rephrase the question.\n",
    "# Return the source document name of the context you choose to answer the question in below format:\n",
    "# Referenced Documents : <document_name>\n",
    "\n",
    "# Assistant:\n",
    "# \"\"\"\n",
    "# PROMPT = PromptTemplate(template=_template, input_variables=[\"customer_query\", \"pub_context\", \"pvt_context\", \"history\"])"
   ]
  },
  {
   "cell_type": "code",
   "execution_count": 14,
   "metadata": {
    "tags": []
   },
   "outputs": [],
   "source": [
    "# from langchain.prompts.prompt import PromptTemplate\n",
    "\n",
    "# _template = \"\"\"\n",
    "# Human: If customer start the conversation to greet you at any time, please greet them according to the time of the day and don't refer to any documents also don't return source document name in the responce.\n",
    "\n",
    "# Assistant: Ok, I will definetly greet the customer according to the time of the day and I won't refer to any documents also I won't return any source document name in the responce.\n",
    "\n",
    "# Human: You are a Insurance Assistant for Aviva.\n",
    "\n",
    "# Assistant: Ok I am Insurance Assistant for Aviva.\n",
    "\n",
    "# Human: Your primary role to answer the customer question with the private context, public context and previous chat history.\n",
    "\n",
    "# Assistant: Yes, my primary task is to answer customer query politely.\n",
    "\n",
    "# {history}\n",
    "\n",
    "# Human:\n",
    "# Consider the following document: {pvt_context} Please identify the context most relevant to the question unless the question is a greeting \"{customer_query}\" and copy them out word-for-word. \n",
    "# If there are no context in this document than refer to this document {pub_context} that seem relevant to this question and copy them out word-for-word. \n",
    "# If you couldn't find any relevant context, please reply to customer politely that you don't know the answer to the question could they rephrase the question.\n",
    "# Return the source document name of the context you choose to answer the question in below format:\n",
    "# Referenced Documents : <document_name>\n",
    "\n",
    "# Assistant:\n",
    "# \"\"\"\n",
    "# PROMPT = PromptTemplate(template=_template, input_variables=[\"customer_query\", \"pub_context\", \"pvt_context\", \"history\"])"
   ]
  },
  {
   "cell_type": "code",
   "execution_count": 15,
   "metadata": {
    "tags": []
   },
   "outputs": [],
   "source": [
    "# turn verbose to True to see the full logs and documents\n",
    "from langchain.chains import LLMChain\n",
    "\n",
    "qa = LLMChain(\n",
    "    llm=br_llm, \n",
    "    verbose=True, \n",
    "    prompt=PROMPT,\n",
    "    memory=memory,\n",
    ")\n",
    "\n",
    "def ask_copilot(query):\n",
    "    pub_context, pvt_context = get_pdf_context(query)\n",
    "    result = qa.predict(customer_query=query, pvt_context=pvt_context, pub_context=pub_context)\n",
    "    print(f\"\\nCustomer: {query}\\nCopilot : {result}\")"
   ]
  },
  {
   "cell_type": "code",
   "execution_count": 16,
   "metadata": {
    "tags": []
   },
   "outputs": [
    {
     "name": "stdout",
     "output_type": "stream",
     "text": [
      "Getting PDF context from pub_vs_index\n",
      "Getting PDF context from pvt_vs_index\n",
      "\n",
      "\n",
      "\u001b[1m> Entering new LLMChain chain...\u001b[0m\n",
      "Prompt after formatting:\n",
      "\u001b[32;1m\u001b[1;3m\n",
      "Human: If customer start the conversation to greet you at any time, please greet them according to the time of the day and don't refer to any documents also don't return source document name in the responce.\n",
      "\n",
      "Assistant: I will definetly greet the customer according to the time of the day and I won't refer to any documents also I won't return any source document name in the responce.\n",
      "\n",
      "\n",
      "\n",
      "Human:\n",
      "Consider the following private document : \n",
      "Source Document - private/policy_certifcate_multiple_vehicle.pdf\n",
      "Page Number - 16\n",
      "Context - Vehiclepolicyholder Mr.TestTester\n",
      "Vehicleregistration A1\n",
      "Makeofvehicle 2007MiniMiniCooperS(122)3h\n",
      "Startofcover 14.09on27September2023\n",
      "Endofcover 23.59on26September2024\n",
      "Theinsuredvehicle\n",
      "Thevehicleregistrationmarkdescribedaboveor\n",
      "1.anyvehicleloanedtothevehiclepolicyholderforamaximumofsevendaysfromagarage,motorengineerorvehiclerepairerwhile\n",
      "thevehicleregistrationdescribedaboveisbeingeitherserviced,repairedorhavingaMOTtest.\n",
      "Descriptionofuse\n",
      "Useforsocial,domesticandpleasurepurposes.\n",
      "Usefortraveltoorfromaplaceofpaidemployment.\n",
      "UsebyMr.TestTesterortheirspouse/domestic/civilpartnerinconnectionwiththeiroccupation(s).\n",
      "Exclusions\n",
      "Useforhiringofthevehicle,thecarriageofpassengersorgoodsforpayment,thecarriageofgoodsorpropertywhichdoesnotbelongtoyou\n",
      "asacourierorfortakeawayfoodorfastfooddelivery.\n",
      "Useforanypurposeinconnectionwiththebuyingandselling,repair,servicing,cleaning,maintenance,inspection,testing,alterationor\n",
      "treatmentofmotorvehicles.\n",
      " \n",
      "Please identify the context most relevant to the question \"What are all the document we need to get motor policy?\" unless the question is a greeting and copy them out word-for-word. \n",
      "If there are no context in this document than refer to this public document : \n",
      "Source Document - public/insurance_motor_car_motor_policy_booklet_241017_NMDMG10249_v3.pdf\n",
      "Page Number - 7\n",
      "Context - any vehicle insured under this policy as described in your schedule, providing the certificate of  \n",
      "motor insurance allows that person to drive the motor vehicle. Where the vehicle policyholder is the owner/registered keeper of the vehicle any benefits which may be due under Sections 1, 3, 6, 7, 9 and 11 may be paid, at our discretion to them instead of the principal policyholder named in your schedule.\n",
      " Named driver Person nominated by the principal policyholder as being a user (but not the main user) of any motor vehicle insured under this policy as described in your schedule, providing the  \n",
      "certificate of motor insurance allows that person to drive the motor vehicle (Named drivers are not entitled to benefits provided under Section 2 – Driving other cars).\n",
      "Software Any software, safety critical software, firmware, operating systems, electrical control \n",
      "systems, data , data  storage materials, telecommunication links or any reliance on recognising,\n",
      " \n",
      "that seem relevant to \"What are all the document we need to get motor policy?\" question and copy them out word-for-word. \n",
      "If you couldn't find any relevant context, please reply to customer politely that you don't know the answer to the question could they rephrase the question.\n",
      "Return the responce in exact json format given below:\n",
      "```json\n",
      "{\n",
      "\t\"result_message\":\"<Assistant Responce>\",\n",
      "\t\"source\":\"<source_document_name>\",\n",
      "\t\"page_number\":\"<source_page_number>\",\n",
      "\t\"search_test\":\"<word-for-word copied from document>\",\n",
      "}\n",
      "```\n",
      "Assistant:\n",
      "\u001b[0m\n",
      "\n",
      "\u001b[1m> Finished chain.\u001b[0m\n",
      "\n",
      "Customer: What are all the document we need to get motor policy?\n",
      "Copilot :  {\n",
      "\t\"result_message\":\"I'm afraid I don't have enough context to directly answer the question 'What are all the document we need to get motor policy?'. Could you please rephrase the question or provide more details so I can better understand what specific information you need?\",\n",
      "\t\"source\":\"\",\n",
      "\t\"page_number\":\"\",\n",
      "\t\"search_test\":\"\"\n",
      "}\n"
     ]
    }
   ],
   "source": [
    "ask_copilot(\"What are all the document we need to get motor policy?\")"
   ]
  },
  {
   "cell_type": "code",
   "execution_count": 17,
   "metadata": {
    "tags": []
   },
   "outputs": [
    {
     "name": "stdout",
     "output_type": "stream",
     "text": [
      "Getting PDF context from pub_vs_index\n",
      "Getting PDF context from pvt_vs_index\n",
      "\n",
      "\n",
      "\u001b[1m> Entering new LLMChain chain...\u001b[0m\n",
      "Prompt after formatting:\n",
      "\u001b[32;1m\u001b[1;3m\n",
      "Human: If customer start the conversation to greet you at any time, please greet them according to the time of the day and don't refer to any documents also don't return source document name in the responce.\n",
      "\n",
      "Assistant: I will definetly greet the customer according to the time of the day and I won't refer to any documents also I won't return any source document name in the responce.\n",
      "\n",
      "Human: What are all the document we need to get motor policy?\n",
      "Assistant:  {\n",
      "\t\"result_message\":\"I'm afraid I don't have enough context to directly answer the question 'What are all the document we need to get motor policy?'. Could you please rephrase the question or provide more details so I can better understand what specific information you need?\",\n",
      "\t\"source\":\"\",\n",
      "\t\"page_number\":\"\",\n",
      "\t\"search_test\":\"\"\n",
      "}\n",
      "\n",
      "Human:\n",
      "Consider the following private document : \n",
      "Source Document - private/policy_certifcate_multiple_vehicle.pdf\n",
      "Page Number - 4\n",
      "Context - complaint,youmaybeentitledtoreferittothisindependentbody.\n",
      "Followingthecomplaintsproceduredoesnotaffectyourrighttotakelegalaction.Furtherdetailsofourcomplaints\n",
      "procedurecanbefoundinyourinsurancedocuments,ormaybeobtainedfromyourusualAvivaUKDigitalLimited\n",
      "contact.\n",
      "Peaceofmind\n",
      "OurobligationsarecoveredbytheFinancialServicesCompensationScheme(FSCS).Ifwewereunabletomeetour\n",
      "obligations,youcouldbeentitledtocompensationfromthisscheme,dependingonthetypeofinsuranceandthe\n",
      "circumstancesatthetime.\n",
      "FurtherinformationaboutcompensationschemearrangementsisavailableontheFSCSwebsitewww.fscs.org.uk.\n",
      "Callsto0800numbersfromUKlandlinesandmobilesarefree.Thecostofcallsto03prefixednumbersarechargedatnationalcallrates(chargesmayvarydependent\n",
      "onyournetworkprovider)andareusuallyincludedininclusiveminuteplansfromlandlinesandmobiles.Forourjointprotectiontelephonecallsmayberecordedand/or\n",
      "monitored.\n",
      "-*- Demonstration Powered by OpenText Exstream 09/27/2023, Version 16.6.32 32-bit -*-\n",
      " \n",
      "Please identify the context most relevant to the question \"What will be my Cancellation fees and charges?\" unless the question is a greeting and copy them out word-for-word. \n",
      "If there are no context in this document than refer to this public document : \n",
      "Source Document - public/insurance_motor_car_motor_policy_booklet_241017_NMDMG10249_v3.pdf\n",
      "Page Number - 31\n",
      "Context - The table headed ‘Our cancellation fees’ which can be found in your ‘Aviva Motor Important \n",
      "Information’ document gives details of when a cancellation fee will be charged.\n",
      "Our rights\n",
      "We may cancel this policy or optional covers where there is a valid reason, for example where:•\n",
      "  you have not paid your premium (including non-payment of instalments under an Aviva monthly\n",
      " \n",
      "credit facility). If premiums or instalment payment(s) are not paid when due we will write to the \n",
      "principal policyholder requesting payment by a specific date. We will give you at least 14 days’ notice in writing if we intend to cancel due to non-payment under an Aviva monthly credit facility. If we receive payment by the date set out in the letter we will take no further action. If we do not receive payment by this date we will cancel the policy and/or any additional cover \n",
      "options from the cancellation date shown on the letter;\n",
      "•\n",
      " we\n",
      " reasonably suspect fraud;\n",
      "•\n",
      "  any\n",
      " \n",
      "that seem relevant to \"What will be my Cancellation fees and charges?\" question and copy them out word-for-word. \n",
      "If you couldn't find any relevant context, please reply to customer politely that you don't know the answer to the question could they rephrase the question.\n",
      "Return the responce in exact json format given below:\n",
      "```json\n",
      "{\n",
      "\t\"result_message\":\"<Assistant Responce>\",\n",
      "\t\"source\":\"<source_document_name>\",\n",
      "\t\"page_number\":\"<source_page_number>\",\n",
      "\t\"search_test\":\"<word-for-word copied from document>\",\n",
      "}\n",
      "```\n",
      "Assistant:\n",
      "\u001b[0m\n",
      "\n",
      "\u001b[1m> Finished chain.\u001b[0m\n",
      "\n",
      "Customer: What will be my Cancellation fees and charges?\n",
      "Copilot :  {\n",
      "\t\"result_message\":\"I'm afraid I don't have enough context in the private document to answer the question 'What will be my Cancellation fees and charges?'. As suggested, referring to the public document:\n",
      "\n",
      "Source Document - public/insurance_motor_car_motor_policy_booklet_241017_NMDMG10249_v3.pdf\n",
      "Page Number - 31\n",
      "Context - The table headed ‘Our cancellation fees’ which can be found in your ‘Aviva Motor Important Information’ document gives details of when a cancellation fee will be charged.\",\n",
      "\t\"source\":\"public/insurance_motor_car_motor_policy_booklet_241017_NMDMG10249_v3.pdf\",\n",
      "\t\"page_number\":\"31\",\n",
      "\t\"search_test\":\"The table headed ‘Our cancellation fees’ which can be found in your ‘Aviva Motor Important Information’ document gives details of when a cancellation fee will be charged.\"\n",
      "}\n"
     ]
    }
   ],
   "source": [
    "ask_copilot(\"What will be my Cancellation fees and charges?\")"
   ]
  },
  {
   "cell_type": "code",
   "execution_count": 18,
   "metadata": {
    "tags": []
   },
   "outputs": [
    {
     "name": "stdout",
     "output_type": "stream",
     "text": [
      "Getting PDF context from pub_vs_index\n",
      "Getting PDF context from pvt_vs_index\n",
      "\n",
      "\n",
      "\u001b[1m> Entering new LLMChain chain...\u001b[0m\n",
      "Prompt after formatting:\n",
      "\u001b[32;1m\u001b[1;3m\n",
      "Human: If customer start the conversation to greet you at any time, please greet them according to the time of the day and don't refer to any documents also don't return source document name in the responce.\n",
      "\n",
      "Assistant: I will definetly greet the customer according to the time of the day and I won't refer to any documents also I won't return any source document name in the responce.\n",
      "\n",
      "Human: What are all the document we need to get motor policy?\n",
      "Assistant:  {\n",
      "\t\"result_message\":\"I'm afraid I don't have enough context to directly answer the question 'What are all the document we need to get motor policy?'. Could you please rephrase the question or provide more details so I can better understand what specific information you need?\",\n",
      "\t\"source\":\"\",\n",
      "\t\"page_number\":\"\",\n",
      "\t\"search_test\":\"\"\n",
      "}\n",
      "Human: What will be my Cancellation fees and charges?\n",
      "Assistant:  {\n",
      "\t\"result_message\":\"I'm afraid I don't have enough context in the private document to answer the question 'What will be my Cancellation fees and charges?'. As suggested, referring to the public document:\n",
      "\n",
      "Source Document - public/insurance_motor_car_motor_policy_booklet_241017_NMDMG10249_v3.pdf\n",
      "Page Number - 31\n",
      "Context - The table headed ‘Our cancellation fees’ which can be found in your ‘Aviva Motor Important Information’ document gives details of when a cancellation fee will be charged.\",\n",
      "\t\"source\":\"public/insurance_motor_car_motor_policy_booklet_241017_NMDMG10249_v3.pdf\",\n",
      "\t\"page_number\":\"31\",\n",
      "\t\"search_test\":\"The table headed ‘Our cancellation fees’ which can be found in your ‘Aviva Motor Important Information’ document gives details of when a cancellation fee will be charged.\"\n",
      "}\n",
      "\n",
      "Human:\n",
      "Consider the following private document : \n",
      "Source Document - private/policy_certifcate_multiple_vehicle.pdf\n",
      "Page Number - 4\n",
      "Context - complaint,youmaybeentitledtoreferittothisindependentbody.\n",
      "Followingthecomplaintsproceduredoesnotaffectyourrighttotakelegalaction.Furtherdetailsofourcomplaints\n",
      "procedurecanbefoundinyourinsurancedocuments,ormaybeobtainedfromyourusualAvivaUKDigitalLimited\n",
      "contact.\n",
      "Peaceofmind\n",
      "OurobligationsarecoveredbytheFinancialServicesCompensationScheme(FSCS).Ifwewereunabletomeetour\n",
      "obligations,youcouldbeentitledtocompensationfromthisscheme,dependingonthetypeofinsuranceandthe\n",
      "circumstancesatthetime.\n",
      "FurtherinformationaboutcompensationschemearrangementsisavailableontheFSCSwebsitewww.fscs.org.uk.\n",
      "Callsto0800numbersfromUKlandlinesandmobilesarefree.Thecostofcallsto03prefixednumbersarechargedatnationalcallrates(chargesmayvarydependent\n",
      "onyournetworkprovider)andareusuallyincludedininclusiveminuteplansfromlandlinesandmobiles.Forourjointprotectiontelephonecallsmayberecordedand/or\n",
      "monitored.\n",
      "-*- Demonstration Powered by OpenText Exstream 09/27/2023, Version 16.6.32 32-bit -*-\n",
      " \n",
      "Please identify the context most relevant to the question \"How my Personal Information will be processed?\" unless the question is a greeting and copy them out word-for-word. \n",
      "If there are no context in this document than refer to this public document : \n",
      "Source Document - public/insurance-motor-important-information-document-NMDMG10248.pdf\n",
      "Page Number - 1\n",
      "Context - We use your Personal Information for a number of purposes \n",
      "including providing our products and services and for fraud prevention. \n",
      "We also use profiling and other data analysis to understand our \n",
      "customers better, e.g. what kind of content or products would be of most interest, and to predict the likelihood of certain events arising, e.g.\n",
      " \n",
      "to assess insurance risk or the likelihood of fraud.\n",
      "We may carry out automated decision making to decide on what terms we can provide products and services, deal with claims and carry out fraud checks. More information about this, including your right to request that certain automated decisions we make have human involvement, can be found in the “Automated Decision Making” section of our full privacy policy. \n",
      "We may process information from a credit reference agency,\n",
      " \n",
      "that seem relevant to \"How my Personal Information will be processed?\" question and copy them out word-for-word. \n",
      "If you couldn't find any relevant context, please reply to customer politely that you don't know the answer to the question could they rephrase the question.\n",
      "Return the responce in exact json format given below:\n",
      "```json\n",
      "{\n",
      "\t\"result_message\":\"<Assistant Responce>\",\n",
      "\t\"source\":\"<source_document_name>\",\n",
      "\t\"page_number\":\"<source_page_number>\",\n",
      "\t\"search_test\":\"<word-for-word copied from document>\",\n",
      "}\n",
      "```\n",
      "Assistant:\n",
      "\u001b[0m\n",
      "\n",
      "\u001b[1m> Finished chain.\u001b[0m\n",
      "\n",
      "Customer: How my Personal Information will be processed?\n",
      "Copilot :  {\n",
      "\t\"result_message\":\"I could not find any relevant context in the private document to answer the question 'How my Personal Information will be processed?'. As suggested, referring to the public document:\n",
      "\n",
      "Source Document - public/insurance-motor-important-information-document-NMDMG10248.pdf\n",
      "Page Number - 1\n",
      "Context - We use your Personal Information for a number of purposes including providing our products and services and for fraud prevention. We also use profiling and other data analysis to understand our customers better, e.g. what kind of content or products would be of most interest, and to predict the likelihood of certain events arising, e.g. to assess insurance risk or the likelihood of fraud. We may carry out automated decision making to decide on what terms we can provide products and services, deal with claims and carry out fraud checks. More information about this, including your right to request that certain automated decisions we make have human involvement, can be found in the “Automated Decision Making” section of our full privacy policy. We may process information from a credit reference agency,\",\n",
      "\t\"source\":\"public/insurance-motor-important-information-document-NMDMG10248.pdf\",\n",
      "\t\"page_number\n"
     ]
    }
   ],
   "source": [
    "ask_copilot(\"How my Personal Information will be processed?\")"
   ]
  },
  {
   "cell_type": "code",
   "execution_count": null,
   "metadata": {
    "tags": []
   },
   "outputs": [],
   "source": []
  },
  {
   "cell_type": "code",
   "execution_count": null,
   "metadata": {},
   "outputs": [],
   "source": []
  }
 ],
 "metadata": {
  "availableInstances": [
   {
    "_defaultOrder": 0,
    "_isFastLaunch": true,
    "category": "General purpose",
    "gpuNum": 0,
    "hideHardwareSpecs": false,
    "memoryGiB": 4,
    "name": "ml.t3.medium",
    "vcpuNum": 2
   },
   {
    "_defaultOrder": 1,
    "_isFastLaunch": false,
    "category": "General purpose",
    "gpuNum": 0,
    "hideHardwareSpecs": false,
    "memoryGiB": 8,
    "name": "ml.t3.large",
    "vcpuNum": 2
   },
   {
    "_defaultOrder": 2,
    "_isFastLaunch": false,
    "category": "General purpose",
    "gpuNum": 0,
    "hideHardwareSpecs": false,
    "memoryGiB": 16,
    "name": "ml.t3.xlarge",
    "vcpuNum": 4
   },
   {
    "_defaultOrder": 3,
    "_isFastLaunch": false,
    "category": "General purpose",
    "gpuNum": 0,
    "hideHardwareSpecs": false,
    "memoryGiB": 32,
    "name": "ml.t3.2xlarge",
    "vcpuNum": 8
   },
   {
    "_defaultOrder": 4,
    "_isFastLaunch": true,
    "category": "General purpose",
    "gpuNum": 0,
    "hideHardwareSpecs": false,
    "memoryGiB": 8,
    "name": "ml.m5.large",
    "vcpuNum": 2
   },
   {
    "_defaultOrder": 5,
    "_isFastLaunch": false,
    "category": "General purpose",
    "gpuNum": 0,
    "hideHardwareSpecs": false,
    "memoryGiB": 16,
    "name": "ml.m5.xlarge",
    "vcpuNum": 4
   },
   {
    "_defaultOrder": 6,
    "_isFastLaunch": false,
    "category": "General purpose",
    "gpuNum": 0,
    "hideHardwareSpecs": false,
    "memoryGiB": 32,
    "name": "ml.m5.2xlarge",
    "vcpuNum": 8
   },
   {
    "_defaultOrder": 7,
    "_isFastLaunch": false,
    "category": "General purpose",
    "gpuNum": 0,
    "hideHardwareSpecs": false,
    "memoryGiB": 64,
    "name": "ml.m5.4xlarge",
    "vcpuNum": 16
   },
   {
    "_defaultOrder": 8,
    "_isFastLaunch": false,
    "category": "General purpose",
    "gpuNum": 0,
    "hideHardwareSpecs": false,
    "memoryGiB": 128,
    "name": "ml.m5.8xlarge",
    "vcpuNum": 32
   },
   {
    "_defaultOrder": 9,
    "_isFastLaunch": false,
    "category": "General purpose",
    "gpuNum": 0,
    "hideHardwareSpecs": false,
    "memoryGiB": 192,
    "name": "ml.m5.12xlarge",
    "vcpuNum": 48
   },
   {
    "_defaultOrder": 10,
    "_isFastLaunch": false,
    "category": "General purpose",
    "gpuNum": 0,
    "hideHardwareSpecs": false,
    "memoryGiB": 256,
    "name": "ml.m5.16xlarge",
    "vcpuNum": 64
   },
   {
    "_defaultOrder": 11,
    "_isFastLaunch": false,
    "category": "General purpose",
    "gpuNum": 0,
    "hideHardwareSpecs": false,
    "memoryGiB": 384,
    "name": "ml.m5.24xlarge",
    "vcpuNum": 96
   },
   {
    "_defaultOrder": 12,
    "_isFastLaunch": false,
    "category": "General purpose",
    "gpuNum": 0,
    "hideHardwareSpecs": false,
    "memoryGiB": 8,
    "name": "ml.m5d.large",
    "vcpuNum": 2
   },
   {
    "_defaultOrder": 13,
    "_isFastLaunch": false,
    "category": "General purpose",
    "gpuNum": 0,
    "hideHardwareSpecs": false,
    "memoryGiB": 16,
    "name": "ml.m5d.xlarge",
    "vcpuNum": 4
   },
   {
    "_defaultOrder": 14,
    "_isFastLaunch": false,
    "category": "General purpose",
    "gpuNum": 0,
    "hideHardwareSpecs": false,
    "memoryGiB": 32,
    "name": "ml.m5d.2xlarge",
    "vcpuNum": 8
   },
   {
    "_defaultOrder": 15,
    "_isFastLaunch": false,
    "category": "General purpose",
    "gpuNum": 0,
    "hideHardwareSpecs": false,
    "memoryGiB": 64,
    "name": "ml.m5d.4xlarge",
    "vcpuNum": 16
   },
   {
    "_defaultOrder": 16,
    "_isFastLaunch": false,
    "category": "General purpose",
    "gpuNum": 0,
    "hideHardwareSpecs": false,
    "memoryGiB": 128,
    "name": "ml.m5d.8xlarge",
    "vcpuNum": 32
   },
   {
    "_defaultOrder": 17,
    "_isFastLaunch": false,
    "category": "General purpose",
    "gpuNum": 0,
    "hideHardwareSpecs": false,
    "memoryGiB": 192,
    "name": "ml.m5d.12xlarge",
    "vcpuNum": 48
   },
   {
    "_defaultOrder": 18,
    "_isFastLaunch": false,
    "category": "General purpose",
    "gpuNum": 0,
    "hideHardwareSpecs": false,
    "memoryGiB": 256,
    "name": "ml.m5d.16xlarge",
    "vcpuNum": 64
   },
   {
    "_defaultOrder": 19,
    "_isFastLaunch": false,
    "category": "General purpose",
    "gpuNum": 0,
    "hideHardwareSpecs": false,
    "memoryGiB": 384,
    "name": "ml.m5d.24xlarge",
    "vcpuNum": 96
   },
   {
    "_defaultOrder": 20,
    "_isFastLaunch": false,
    "category": "General purpose",
    "gpuNum": 0,
    "hideHardwareSpecs": true,
    "memoryGiB": 0,
    "name": "ml.geospatial.interactive",
    "supportedImageNames": [
     "sagemaker-geospatial-v1-0"
    ],
    "vcpuNum": 0
   },
   {
    "_defaultOrder": 21,
    "_isFastLaunch": true,
    "category": "Compute optimized",
    "gpuNum": 0,
    "hideHardwareSpecs": false,
    "memoryGiB": 4,
    "name": "ml.c5.large",
    "vcpuNum": 2
   },
   {
    "_defaultOrder": 22,
    "_isFastLaunch": false,
    "category": "Compute optimized",
    "gpuNum": 0,
    "hideHardwareSpecs": false,
    "memoryGiB": 8,
    "name": "ml.c5.xlarge",
    "vcpuNum": 4
   },
   {
    "_defaultOrder": 23,
    "_isFastLaunch": false,
    "category": "Compute optimized",
    "gpuNum": 0,
    "hideHardwareSpecs": false,
    "memoryGiB": 16,
    "name": "ml.c5.2xlarge",
    "vcpuNum": 8
   },
   {
    "_defaultOrder": 24,
    "_isFastLaunch": false,
    "category": "Compute optimized",
    "gpuNum": 0,
    "hideHardwareSpecs": false,
    "memoryGiB": 32,
    "name": "ml.c5.4xlarge",
    "vcpuNum": 16
   },
   {
    "_defaultOrder": 25,
    "_isFastLaunch": false,
    "category": "Compute optimized",
    "gpuNum": 0,
    "hideHardwareSpecs": false,
    "memoryGiB": 72,
    "name": "ml.c5.9xlarge",
    "vcpuNum": 36
   },
   {
    "_defaultOrder": 26,
    "_isFastLaunch": false,
    "category": "Compute optimized",
    "gpuNum": 0,
    "hideHardwareSpecs": false,
    "memoryGiB": 96,
    "name": "ml.c5.12xlarge",
    "vcpuNum": 48
   },
   {
    "_defaultOrder": 27,
    "_isFastLaunch": false,
    "category": "Compute optimized",
    "gpuNum": 0,
    "hideHardwareSpecs": false,
    "memoryGiB": 144,
    "name": "ml.c5.18xlarge",
    "vcpuNum": 72
   },
   {
    "_defaultOrder": 28,
    "_isFastLaunch": false,
    "category": "Compute optimized",
    "gpuNum": 0,
    "hideHardwareSpecs": false,
    "memoryGiB": 192,
    "name": "ml.c5.24xlarge",
    "vcpuNum": 96
   },
   {
    "_defaultOrder": 29,
    "_isFastLaunch": true,
    "category": "Accelerated computing",
    "gpuNum": 1,
    "hideHardwareSpecs": false,
    "memoryGiB": 16,
    "name": "ml.g4dn.xlarge",
    "vcpuNum": 4
   },
   {
    "_defaultOrder": 30,
    "_isFastLaunch": false,
    "category": "Accelerated computing",
    "gpuNum": 1,
    "hideHardwareSpecs": false,
    "memoryGiB": 32,
    "name": "ml.g4dn.2xlarge",
    "vcpuNum": 8
   },
   {
    "_defaultOrder": 31,
    "_isFastLaunch": false,
    "category": "Accelerated computing",
    "gpuNum": 1,
    "hideHardwareSpecs": false,
    "memoryGiB": 64,
    "name": "ml.g4dn.4xlarge",
    "vcpuNum": 16
   },
   {
    "_defaultOrder": 32,
    "_isFastLaunch": false,
    "category": "Accelerated computing",
    "gpuNum": 1,
    "hideHardwareSpecs": false,
    "memoryGiB": 128,
    "name": "ml.g4dn.8xlarge",
    "vcpuNum": 32
   },
   {
    "_defaultOrder": 33,
    "_isFastLaunch": false,
    "category": "Accelerated computing",
    "gpuNum": 4,
    "hideHardwareSpecs": false,
    "memoryGiB": 192,
    "name": "ml.g4dn.12xlarge",
    "vcpuNum": 48
   },
   {
    "_defaultOrder": 34,
    "_isFastLaunch": false,
    "category": "Accelerated computing",
    "gpuNum": 1,
    "hideHardwareSpecs": false,
    "memoryGiB": 256,
    "name": "ml.g4dn.16xlarge",
    "vcpuNum": 64
   },
   {
    "_defaultOrder": 35,
    "_isFastLaunch": false,
    "category": "Accelerated computing",
    "gpuNum": 1,
    "hideHardwareSpecs": false,
    "memoryGiB": 61,
    "name": "ml.p3.2xlarge",
    "vcpuNum": 8
   },
   {
    "_defaultOrder": 36,
    "_isFastLaunch": false,
    "category": "Accelerated computing",
    "gpuNum": 4,
    "hideHardwareSpecs": false,
    "memoryGiB": 244,
    "name": "ml.p3.8xlarge",
    "vcpuNum": 32
   },
   {
    "_defaultOrder": 37,
    "_isFastLaunch": false,
    "category": "Accelerated computing",
    "gpuNum": 8,
    "hideHardwareSpecs": false,
    "memoryGiB": 488,
    "name": "ml.p3.16xlarge",
    "vcpuNum": 64
   },
   {
    "_defaultOrder": 38,
    "_isFastLaunch": false,
    "category": "Accelerated computing",
    "gpuNum": 8,
    "hideHardwareSpecs": false,
    "memoryGiB": 768,
    "name": "ml.p3dn.24xlarge",
    "vcpuNum": 96
   },
   {
    "_defaultOrder": 39,
    "_isFastLaunch": false,
    "category": "Memory Optimized",
    "gpuNum": 0,
    "hideHardwareSpecs": false,
    "memoryGiB": 16,
    "name": "ml.r5.large",
    "vcpuNum": 2
   },
   {
    "_defaultOrder": 40,
    "_isFastLaunch": false,
    "category": "Memory Optimized",
    "gpuNum": 0,
    "hideHardwareSpecs": false,
    "memoryGiB": 32,
    "name": "ml.r5.xlarge",
    "vcpuNum": 4
   },
   {
    "_defaultOrder": 41,
    "_isFastLaunch": false,
    "category": "Memory Optimized",
    "gpuNum": 0,
    "hideHardwareSpecs": false,
    "memoryGiB": 64,
    "name": "ml.r5.2xlarge",
    "vcpuNum": 8
   },
   {
    "_defaultOrder": 42,
    "_isFastLaunch": false,
    "category": "Memory Optimized",
    "gpuNum": 0,
    "hideHardwareSpecs": false,
    "memoryGiB": 128,
    "name": "ml.r5.4xlarge",
    "vcpuNum": 16
   },
   {
    "_defaultOrder": 43,
    "_isFastLaunch": false,
    "category": "Memory Optimized",
    "gpuNum": 0,
    "hideHardwareSpecs": false,
    "memoryGiB": 256,
    "name": "ml.r5.8xlarge",
    "vcpuNum": 32
   },
   {
    "_defaultOrder": 44,
    "_isFastLaunch": false,
    "category": "Memory Optimized",
    "gpuNum": 0,
    "hideHardwareSpecs": false,
    "memoryGiB": 384,
    "name": "ml.r5.12xlarge",
    "vcpuNum": 48
   },
   {
    "_defaultOrder": 45,
    "_isFastLaunch": false,
    "category": "Memory Optimized",
    "gpuNum": 0,
    "hideHardwareSpecs": false,
    "memoryGiB": 512,
    "name": "ml.r5.16xlarge",
    "vcpuNum": 64
   },
   {
    "_defaultOrder": 46,
    "_isFastLaunch": false,
    "category": "Memory Optimized",
    "gpuNum": 0,
    "hideHardwareSpecs": false,
    "memoryGiB": 768,
    "name": "ml.r5.24xlarge",
    "vcpuNum": 96
   },
   {
    "_defaultOrder": 47,
    "_isFastLaunch": false,
    "category": "Accelerated computing",
    "gpuNum": 1,
    "hideHardwareSpecs": false,
    "memoryGiB": 16,
    "name": "ml.g5.xlarge",
    "vcpuNum": 4
   },
   {
    "_defaultOrder": 48,
    "_isFastLaunch": false,
    "category": "Accelerated computing",
    "gpuNum": 1,
    "hideHardwareSpecs": false,
    "memoryGiB": 32,
    "name": "ml.g5.2xlarge",
    "vcpuNum": 8
   },
   {
    "_defaultOrder": 49,
    "_isFastLaunch": false,
    "category": "Accelerated computing",
    "gpuNum": 1,
    "hideHardwareSpecs": false,
    "memoryGiB": 64,
    "name": "ml.g5.4xlarge",
    "vcpuNum": 16
   },
   {
    "_defaultOrder": 50,
    "_isFastLaunch": false,
    "category": "Accelerated computing",
    "gpuNum": 1,
    "hideHardwareSpecs": false,
    "memoryGiB": 128,
    "name": "ml.g5.8xlarge",
    "vcpuNum": 32
   },
   {
    "_defaultOrder": 51,
    "_isFastLaunch": false,
    "category": "Accelerated computing",
    "gpuNum": 1,
    "hideHardwareSpecs": false,
    "memoryGiB": 256,
    "name": "ml.g5.16xlarge",
    "vcpuNum": 64
   },
   {
    "_defaultOrder": 52,
    "_isFastLaunch": false,
    "category": "Accelerated computing",
    "gpuNum": 4,
    "hideHardwareSpecs": false,
    "memoryGiB": 192,
    "name": "ml.g5.12xlarge",
    "vcpuNum": 48
   },
   {
    "_defaultOrder": 53,
    "_isFastLaunch": false,
    "category": "Accelerated computing",
    "gpuNum": 4,
    "hideHardwareSpecs": false,
    "memoryGiB": 384,
    "name": "ml.g5.24xlarge",
    "vcpuNum": 96
   },
   {
    "_defaultOrder": 54,
    "_isFastLaunch": false,
    "category": "Accelerated computing",
    "gpuNum": 8,
    "hideHardwareSpecs": false,
    "memoryGiB": 768,
    "name": "ml.g5.48xlarge",
    "vcpuNum": 192
   },
   {
    "_defaultOrder": 55,
    "_isFastLaunch": false,
    "category": "Accelerated computing",
    "gpuNum": 8,
    "hideHardwareSpecs": false,
    "memoryGiB": 1152,
    "name": "ml.p4d.24xlarge",
    "vcpuNum": 96
   },
   {
    "_defaultOrder": 56,
    "_isFastLaunch": false,
    "category": "Accelerated computing",
    "gpuNum": 8,
    "hideHardwareSpecs": false,
    "memoryGiB": 1152,
    "name": "ml.p4de.24xlarge",
    "vcpuNum": 96
   }
  ],
  "instance_type": "ml.t3.medium",
  "kernelspec": {
   "display_name": "Python 3 (Data Science 3.0)",
   "language": "python",
   "name": "python3__SAGEMAKER_INTERNAL__arn:aws:sagemaker:us-west-2:236514542706:image/sagemaker-data-science-310-v1"
  },
  "language_info": {
   "codemirror_mode": {
    "name": "ipython",
    "version": 3
   },
   "file_extension": ".py",
   "mimetype": "text/x-python",
   "name": "python",
   "nbconvert_exporter": "python",
   "pygments_lexer": "ipython3",
   "version": "3.10.6"
  }
 },
 "nbformat": 4,
 "nbformat_minor": 4
}
